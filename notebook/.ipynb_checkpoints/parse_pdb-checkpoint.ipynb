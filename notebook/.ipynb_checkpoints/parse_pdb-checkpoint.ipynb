{
 "cells": [
  {
   "cell_type": "code",
   "execution_count": 2,
   "metadata": {},
   "outputs": [],
   "source": [
    "# import biopandas\n",
    "from biopandas.pdb import PandasPdb"
   ]
  },
  {
   "cell_type": "code",
   "execution_count": 4,
   "metadata": {},
   "outputs": [
    {
     "data": {
      "text/html": [
       "<div>\n",
       "<style scoped>\n",
       "    .dataframe tbody tr th:only-of-type {\n",
       "        vertical-align: middle;\n",
       "    }\n",
       "\n",
       "    .dataframe tbody tr th {\n",
       "        vertical-align: top;\n",
       "    }\n",
       "\n",
       "    .dataframe thead th {\n",
       "        text-align: right;\n",
       "    }\n",
       "</style>\n",
       "<table border=\"1\" class=\"dataframe\">\n",
       "  <thead>\n",
       "    <tr style=\"text-align: right;\">\n",
       "      <th></th>\n",
       "      <th>record_name</th>\n",
       "      <th>atom_number</th>\n",
       "      <th>blank_1</th>\n",
       "      <th>atom_name</th>\n",
       "      <th>alt_loc</th>\n",
       "      <th>residue_name</th>\n",
       "      <th>blank_2</th>\n",
       "      <th>chain_id</th>\n",
       "      <th>residue_number</th>\n",
       "      <th>insertion</th>\n",
       "      <th>...</th>\n",
       "      <th>x_coord</th>\n",
       "      <th>y_coord</th>\n",
       "      <th>z_coord</th>\n",
       "      <th>occupancy</th>\n",
       "      <th>b_factor</th>\n",
       "      <th>blank_4</th>\n",
       "      <th>segment_id</th>\n",
       "      <th>element_symbol</th>\n",
       "      <th>charge</th>\n",
       "      <th>line_idx</th>\n",
       "    </tr>\n",
       "  </thead>\n",
       "  <tbody>\n",
       "    <tr>\n",
       "      <th>0</th>\n",
       "      <td>ATOM</td>\n",
       "      <td>1</td>\n",
       "      <td></td>\n",
       "      <td>N</td>\n",
       "      <td></td>\n",
       "      <td>SER</td>\n",
       "      <td></td>\n",
       "      <td>A</td>\n",
       "      <td>3</td>\n",
       "      <td></td>\n",
       "      <td>...</td>\n",
       "      <td>0.554</td>\n",
       "      <td>14.580</td>\n",
       "      <td>3.454</td>\n",
       "      <td>1.0</td>\n",
       "      <td>67.99</td>\n",
       "      <td></td>\n",
       "      <td></td>\n",
       "      <td>N</td>\n",
       "      <td>NaN</td>\n",
       "      <td>62</td>\n",
       "    </tr>\n",
       "    <tr>\n",
       "      <th>1</th>\n",
       "      <td>ATOM</td>\n",
       "      <td>2</td>\n",
       "      <td></td>\n",
       "      <td>HN1</td>\n",
       "      <td></td>\n",
       "      <td>SER</td>\n",
       "      <td></td>\n",
       "      <td>A</td>\n",
       "      <td>3</td>\n",
       "      <td></td>\n",
       "      <td>...</td>\n",
       "      <td>0.660</td>\n",
       "      <td>14.296</td>\n",
       "      <td>2.459</td>\n",
       "      <td>1.0</td>\n",
       "      <td>0.00</td>\n",
       "      <td></td>\n",
       "      <td></td>\n",
       "      <td>H</td>\n",
       "      <td>NaN</td>\n",
       "      <td>63</td>\n",
       "    </tr>\n",
       "    <tr>\n",
       "      <th>2</th>\n",
       "      <td>ATOM</td>\n",
       "      <td>3</td>\n",
       "      <td></td>\n",
       "      <td>HN2</td>\n",
       "      <td></td>\n",
       "      <td>SER</td>\n",
       "      <td></td>\n",
       "      <td>A</td>\n",
       "      <td>3</td>\n",
       "      <td></td>\n",
       "      <td>...</td>\n",
       "      <td>-0.427</td>\n",
       "      <td>14.878</td>\n",
       "      <td>3.628</td>\n",
       "      <td>1.0</td>\n",
       "      <td>0.00</td>\n",
       "      <td></td>\n",
       "      <td></td>\n",
       "      <td>H</td>\n",
       "      <td>NaN</td>\n",
       "      <td>64</td>\n",
       "    </tr>\n",
       "    <tr>\n",
       "      <th>3</th>\n",
       "      <td>ATOM</td>\n",
       "      <td>4</td>\n",
       "      <td></td>\n",
       "      <td>HN3</td>\n",
       "      <td></td>\n",
       "      <td>SER</td>\n",
       "      <td></td>\n",
       "      <td>A</td>\n",
       "      <td>3</td>\n",
       "      <td></td>\n",
       "      <td>...</td>\n",
       "      <td>1.200</td>\n",
       "      <td>15.369</td>\n",
       "      <td>3.661</td>\n",
       "      <td>1.0</td>\n",
       "      <td>0.00</td>\n",
       "      <td></td>\n",
       "      <td></td>\n",
       "      <td>H</td>\n",
       "      <td>NaN</td>\n",
       "      <td>65</td>\n",
       "    </tr>\n",
       "    <tr>\n",
       "      <th>4</th>\n",
       "      <td>ATOM</td>\n",
       "      <td>5</td>\n",
       "      <td></td>\n",
       "      <td>CA</td>\n",
       "      <td></td>\n",
       "      <td>SER</td>\n",
       "      <td></td>\n",
       "      <td>A</td>\n",
       "      <td>3</td>\n",
       "      <td></td>\n",
       "      <td>...</td>\n",
       "      <td>0.884</td>\n",
       "      <td>13.426</td>\n",
       "      <td>4.336</td>\n",
       "      <td>1.0</td>\n",
       "      <td>65.22</td>\n",
       "      <td></td>\n",
       "      <td></td>\n",
       "      <td>C</td>\n",
       "      <td>NaN</td>\n",
       "      <td>66</td>\n",
       "    </tr>\n",
       "  </tbody>\n",
       "</table>\n",
       "<p>5 rows × 21 columns</p>\n",
       "</div>"
      ],
      "text/plain": [
       "  record_name  atom_number blank_1 atom_name alt_loc residue_name blank_2  \\\n",
       "0        ATOM            1                 N                  SER           \n",
       "1        ATOM            2               HN1                  SER           \n",
       "2        ATOM            3               HN2                  SER           \n",
       "3        ATOM            4               HN3                  SER           \n",
       "4        ATOM            5                CA                  SER           \n",
       "\n",
       "  chain_id  residue_number insertion  ... x_coord  y_coord  z_coord  \\\n",
       "0        A               3            ...   0.554   14.580    3.454   \n",
       "1        A               3            ...   0.660   14.296    2.459   \n",
       "2        A               3            ...  -0.427   14.878    3.628   \n",
       "3        A               3            ...   1.200   15.369    3.661   \n",
       "4        A               3            ...   0.884   13.426    4.336   \n",
       "\n",
       "   occupancy  b_factor  blank_4 segment_id element_symbol charge  line_idx  \n",
       "0        1.0     67.99                                  N    NaN        62  \n",
       "1        1.0      0.00                                  H    NaN        63  \n",
       "2        1.0      0.00                                  H    NaN        64  \n",
       "3        1.0      0.00                                  H    NaN        65  \n",
       "4        1.0     65.22                                  C    NaN        66  \n",
       "\n",
       "[5 rows x 21 columns]"
      ]
     },
     "execution_count": 4,
     "metadata": {},
     "output_type": "execute_result"
    }
   ],
   "source": [
    "# read pdb file\n",
    "\n",
    "protein = PandasPdb().read_pdb('1ajn/1ajn_protein.pdb')\n",
    "#protein.df['ATOM'].iloc[[1639]]\n"
   ]
  },
  {
   "cell_type": "code",
   "execution_count": 5,
   "metadata": {},
   "outputs": [
    {
     "data": {
      "text/plain": [
       "array(['A', 'B'], dtype=object)"
      ]
     },
     "execution_count": 5,
     "metadata": {},
     "output_type": "execute_result"
    }
   ],
   "source": [
    "#getting the number of chains and chain_id\n",
    "\n",
    "import numpy as np\n",
    "chain = np.unique(protein.df['ATOM']['chain_id'])\n",
    "chain"
   ]
  },
  {
   "cell_type": "code",
   "execution_count": 6,
   "metadata": {},
   "outputs": [
    {
     "ename": "KeyError",
     "evalue": "\"['index'] not found in axis\"",
     "output_type": "error",
     "traceback": [
      "\u001b[0;31m---------------------------------------------------------------------------\u001b[0m",
      "\u001b[0;31mKeyError\u001b[0m                                  Traceback (most recent call last)",
      "\u001b[0;32m<ipython-input-6-b376dfb064b7>\u001b[0m in \u001b[0;36m<module>\u001b[0;34m\u001b[0m\n\u001b[1;32m      4\u001b[0m \u001b[0;34m\u001b[0m\u001b[0m\n\u001b[1;32m      5\u001b[0m \u001b[0;34m\u001b[0m\u001b[0m\n\u001b[0;32m----> 6\u001b[0;31m \u001b[0mprotein_chainB\u001b[0m \u001b[0;34m=\u001b[0m \u001b[0mprotein\u001b[0m\u001b[0;34m.\u001b[0m\u001b[0mdf\u001b[0m\u001b[0;34m[\u001b[0m\u001b[0;34m'ATOM'\u001b[0m\u001b[0;34m]\u001b[0m\u001b[0;34m.\u001b[0m\u001b[0mloc\u001b[0m\u001b[0;34m[\u001b[0m\u001b[0mprotein\u001b[0m\u001b[0;34m.\u001b[0m\u001b[0mdf\u001b[0m\u001b[0;34m[\u001b[0m\u001b[0;34m'ATOM'\u001b[0m\u001b[0;34m]\u001b[0m\u001b[0;34m[\u001b[0m\u001b[0;34m'chain_id'\u001b[0m\u001b[0;34m]\u001b[0m \u001b[0;34m==\u001b[0m \u001b[0;34m'B'\u001b[0m\u001b[0;34m]\u001b[0m\u001b[0;34m.\u001b[0m\u001b[0mdrop\u001b[0m\u001b[0;34m(\u001b[0m\u001b[0;34m[\u001b[0m\u001b[0;34m'index'\u001b[0m\u001b[0;34m]\u001b[0m\u001b[0;34m,\u001b[0m \u001b[0maxis\u001b[0m\u001b[0;34m=\u001b[0m\u001b[0;36m1\u001b[0m\u001b[0;34m)\u001b[0m\u001b[0;34m.\u001b[0m\u001b[0mreset_index\u001b[0m\u001b[0;34m(\u001b[0m\u001b[0;34m)\u001b[0m\u001b[0;34m\u001b[0m\u001b[0;34m\u001b[0m\u001b[0m\n\u001b[0m\u001b[1;32m      7\u001b[0m \u001b[0mchainB_coord\u001b[0m \u001b[0;34m=\u001b[0m \u001b[0mprotein_chainB\u001b[0m\u001b[0;34m[\u001b[0m\u001b[0;34m[\u001b[0m\u001b[0;34m\"x_coord\"\u001b[0m\u001b[0;34m,\u001b[0m\u001b[0;34m\"y_coord\"\u001b[0m\u001b[0;34m,\u001b[0m\u001b[0;34m\"z_coord\"\u001b[0m\u001b[0;34m]\u001b[0m\u001b[0;34m]\u001b[0m\u001b[0;34m.\u001b[0m\u001b[0mvalues\u001b[0m\u001b[0;34m\u001b[0m\u001b[0;34m\u001b[0m\u001b[0m\n\u001b[1;32m      8\u001b[0m \u001b[0;34m\u001b[0m\u001b[0m\n",
      "\u001b[0;32m~/opt/anaconda3/envs/edsi/lib/python3.7/site-packages/pandas/core/frame.py\u001b[0m in \u001b[0;36mdrop\u001b[0;34m(self, labels, axis, index, columns, level, inplace, errors)\u001b[0m\n\u001b[1;32m   3995\u001b[0m             \u001b[0mlevel\u001b[0m\u001b[0;34m=\u001b[0m\u001b[0mlevel\u001b[0m\u001b[0;34m,\u001b[0m\u001b[0;34m\u001b[0m\u001b[0;34m\u001b[0m\u001b[0m\n\u001b[1;32m   3996\u001b[0m             \u001b[0minplace\u001b[0m\u001b[0;34m=\u001b[0m\u001b[0minplace\u001b[0m\u001b[0;34m,\u001b[0m\u001b[0;34m\u001b[0m\u001b[0;34m\u001b[0m\u001b[0m\n\u001b[0;32m-> 3997\u001b[0;31m             \u001b[0merrors\u001b[0m\u001b[0;34m=\u001b[0m\u001b[0merrors\u001b[0m\u001b[0;34m,\u001b[0m\u001b[0;34m\u001b[0m\u001b[0;34m\u001b[0m\u001b[0m\n\u001b[0m\u001b[1;32m   3998\u001b[0m         )\n\u001b[1;32m   3999\u001b[0m \u001b[0;34m\u001b[0m\u001b[0m\n",
      "\u001b[0;32m~/opt/anaconda3/envs/edsi/lib/python3.7/site-packages/pandas/core/generic.py\u001b[0m in \u001b[0;36mdrop\u001b[0;34m(self, labels, axis, index, columns, level, inplace, errors)\u001b[0m\n\u001b[1;32m   3934\u001b[0m         \u001b[0;32mfor\u001b[0m \u001b[0maxis\u001b[0m\u001b[0;34m,\u001b[0m \u001b[0mlabels\u001b[0m \u001b[0;32min\u001b[0m \u001b[0maxes\u001b[0m\u001b[0;34m.\u001b[0m\u001b[0mitems\u001b[0m\u001b[0;34m(\u001b[0m\u001b[0;34m)\u001b[0m\u001b[0;34m:\u001b[0m\u001b[0;34m\u001b[0m\u001b[0;34m\u001b[0m\u001b[0m\n\u001b[1;32m   3935\u001b[0m             \u001b[0;32mif\u001b[0m \u001b[0mlabels\u001b[0m \u001b[0;32mis\u001b[0m \u001b[0;32mnot\u001b[0m \u001b[0;32mNone\u001b[0m\u001b[0;34m:\u001b[0m\u001b[0;34m\u001b[0m\u001b[0;34m\u001b[0m\u001b[0m\n\u001b[0;32m-> 3936\u001b[0;31m                 \u001b[0mobj\u001b[0m \u001b[0;34m=\u001b[0m \u001b[0mobj\u001b[0m\u001b[0;34m.\u001b[0m\u001b[0m_drop_axis\u001b[0m\u001b[0;34m(\u001b[0m\u001b[0mlabels\u001b[0m\u001b[0;34m,\u001b[0m \u001b[0maxis\u001b[0m\u001b[0;34m,\u001b[0m \u001b[0mlevel\u001b[0m\u001b[0;34m=\u001b[0m\u001b[0mlevel\u001b[0m\u001b[0;34m,\u001b[0m \u001b[0merrors\u001b[0m\u001b[0;34m=\u001b[0m\u001b[0merrors\u001b[0m\u001b[0;34m)\u001b[0m\u001b[0;34m\u001b[0m\u001b[0;34m\u001b[0m\u001b[0m\n\u001b[0m\u001b[1;32m   3937\u001b[0m \u001b[0;34m\u001b[0m\u001b[0m\n\u001b[1;32m   3938\u001b[0m         \u001b[0;32mif\u001b[0m \u001b[0minplace\u001b[0m\u001b[0;34m:\u001b[0m\u001b[0;34m\u001b[0m\u001b[0;34m\u001b[0m\u001b[0m\n",
      "\u001b[0;32m~/opt/anaconda3/envs/edsi/lib/python3.7/site-packages/pandas/core/generic.py\u001b[0m in \u001b[0;36m_drop_axis\u001b[0;34m(self, labels, axis, level, errors)\u001b[0m\n\u001b[1;32m   3968\u001b[0m                 \u001b[0mnew_axis\u001b[0m \u001b[0;34m=\u001b[0m \u001b[0maxis\u001b[0m\u001b[0;34m.\u001b[0m\u001b[0mdrop\u001b[0m\u001b[0;34m(\u001b[0m\u001b[0mlabels\u001b[0m\u001b[0;34m,\u001b[0m \u001b[0mlevel\u001b[0m\u001b[0;34m=\u001b[0m\u001b[0mlevel\u001b[0m\u001b[0;34m,\u001b[0m \u001b[0merrors\u001b[0m\u001b[0;34m=\u001b[0m\u001b[0merrors\u001b[0m\u001b[0;34m)\u001b[0m\u001b[0;34m\u001b[0m\u001b[0;34m\u001b[0m\u001b[0m\n\u001b[1;32m   3969\u001b[0m             \u001b[0;32melse\u001b[0m\u001b[0;34m:\u001b[0m\u001b[0;34m\u001b[0m\u001b[0;34m\u001b[0m\u001b[0m\n\u001b[0;32m-> 3970\u001b[0;31m                 \u001b[0mnew_axis\u001b[0m \u001b[0;34m=\u001b[0m \u001b[0maxis\u001b[0m\u001b[0;34m.\u001b[0m\u001b[0mdrop\u001b[0m\u001b[0;34m(\u001b[0m\u001b[0mlabels\u001b[0m\u001b[0;34m,\u001b[0m \u001b[0merrors\u001b[0m\u001b[0;34m=\u001b[0m\u001b[0merrors\u001b[0m\u001b[0;34m)\u001b[0m\u001b[0;34m\u001b[0m\u001b[0;34m\u001b[0m\u001b[0m\n\u001b[0m\u001b[1;32m   3971\u001b[0m             \u001b[0mresult\u001b[0m \u001b[0;34m=\u001b[0m \u001b[0mself\u001b[0m\u001b[0;34m.\u001b[0m\u001b[0mreindex\u001b[0m\u001b[0;34m(\u001b[0m\u001b[0;34m**\u001b[0m\u001b[0;34m{\u001b[0m\u001b[0maxis_name\u001b[0m\u001b[0;34m:\u001b[0m \u001b[0mnew_axis\u001b[0m\u001b[0;34m}\u001b[0m\u001b[0;34m)\u001b[0m\u001b[0;34m\u001b[0m\u001b[0;34m\u001b[0m\u001b[0m\n\u001b[1;32m   3972\u001b[0m \u001b[0;34m\u001b[0m\u001b[0m\n",
      "\u001b[0;32m~/opt/anaconda3/envs/edsi/lib/python3.7/site-packages/pandas/core/indexes/base.py\u001b[0m in \u001b[0;36mdrop\u001b[0;34m(self, labels, errors)\u001b[0m\n\u001b[1;32m   5016\u001b[0m         \u001b[0;32mif\u001b[0m \u001b[0mmask\u001b[0m\u001b[0;34m.\u001b[0m\u001b[0many\u001b[0m\u001b[0;34m(\u001b[0m\u001b[0;34m)\u001b[0m\u001b[0;34m:\u001b[0m\u001b[0;34m\u001b[0m\u001b[0;34m\u001b[0m\u001b[0m\n\u001b[1;32m   5017\u001b[0m             \u001b[0;32mif\u001b[0m \u001b[0merrors\u001b[0m \u001b[0;34m!=\u001b[0m \u001b[0;34m\"ignore\"\u001b[0m\u001b[0;34m:\u001b[0m\u001b[0;34m\u001b[0m\u001b[0;34m\u001b[0m\u001b[0m\n\u001b[0;32m-> 5018\u001b[0;31m                 \u001b[0;32mraise\u001b[0m \u001b[0mKeyError\u001b[0m\u001b[0;34m(\u001b[0m\u001b[0;34mf\"{labels[mask]} not found in axis\"\u001b[0m\u001b[0;34m)\u001b[0m\u001b[0;34m\u001b[0m\u001b[0;34m\u001b[0m\u001b[0m\n\u001b[0m\u001b[1;32m   5019\u001b[0m             \u001b[0mindexer\u001b[0m \u001b[0;34m=\u001b[0m \u001b[0mindexer\u001b[0m\u001b[0;34m[\u001b[0m\u001b[0;34m~\u001b[0m\u001b[0mmask\u001b[0m\u001b[0;34m]\u001b[0m\u001b[0;34m\u001b[0m\u001b[0;34m\u001b[0m\u001b[0m\n\u001b[1;32m   5020\u001b[0m         \u001b[0;32mreturn\u001b[0m \u001b[0mself\u001b[0m\u001b[0;34m.\u001b[0m\u001b[0mdelete\u001b[0m\u001b[0;34m(\u001b[0m\u001b[0mindexer\u001b[0m\u001b[0;34m)\u001b[0m\u001b[0;34m\u001b[0m\u001b[0;34m\u001b[0m\u001b[0m\n",
      "\u001b[0;31mKeyError\u001b[0m: \"['index'] not found in axis\""
     ]
    }
   ],
   "source": [
    "#protein_chainA = protein.df['ATOM'].loc[protein.df['ATOM']['chain_id'] == 'A'].drop(['index'], axis=1).reset_index()\n",
    "protein_chainA = protein.df['ATOM'].loc[protein.df['ATOM']['chain_id'] == 'A']\n",
    "chainA_coord = protein_chainA[[\"x_coord\",\"y_coord\",\"z_coord\"]].values\n",
    "\n",
    "\n",
    "protein_chainB = protein.df['ATOM'].loc[protein.df['ATOM']['chain_id'] == 'B'].drop(['index'], axis=1).reset_index()\n",
    "chainB_coord = protein_chainB[[\"x_coord\",\"y_coord\",\"z_coord\"]].values\n",
    "\n",
    "hetatm_coord = protein.df['HETATM'][[\"x_coord\",\"y_coord\",\"z_coord\"]].values\n",
    "protein_chainA"
   ]
  },
  {
   "cell_type": "code",
   "execution_count": 141,
   "metadata": {},
   "outputs": [],
   "source": [
    "#protein_A = protein.df['ATOM'].loc[protein.df['ATOM']['chain_id'] == 'B']\n",
    "#protein_A"
   ]
  },
  {
   "cell_type": "code",
   "execution_count": 142,
   "metadata": {},
   "outputs": [
    {
     "data": {
      "text/plain": [
       "array([ 3323, 11972])"
      ]
     },
     "execution_count": 142,
     "metadata": {},
     "output_type": "execute_result"
    }
   ],
   "source": [
    "import numpy as np\n",
    "ter_pos = np.array(protein.df['OTHERS'].loc[protein.df['OTHERS']['record_name'] == 'TER']['line_idx'])\n",
    "end_pos = np.array(protein.df['OTHERS'].loc[protein.df['OTHERS']['record_name'] == 'END']['line_idx'])\n",
    "ter_pos"
   ]
  },
  {
   "cell_type": "code",
   "execution_count": 143,
   "metadata": {},
   "outputs": [
    {
     "data": {
      "image/png": "[encoded data removed]",
      "text/plain": [
       "<Figure size 432x288 with 1 Axes>"
      ]
     },
     "metadata": {
      "needs_background": "light"
     },
     "output_type": "display_data"
    }
   ],
   "source": [
    "import matplotlib.pyplot as plt\n",
    "protein.df['ATOM']['b_factor'].plot(kind='hist')\n",
    "plt.title('Distribution of B-Factors')\n",
    "plt.xlabel('B-factor')\n",
    "plt.ylabel('count')\n",
    "plt.show()"
   ]
  },
  {
   "cell_type": "code",
   "execution_count": 144,
   "metadata": {},
   "outputs": [],
   "source": [
    "from biopandas.mol2 import PandasMol2"
   ]
  },
  {
   "cell_type": "code",
   "execution_count": 145,
   "metadata": {},
   "outputs": [],
   "source": [
    "ligand = PandasMol2().read_mol2('1ajn/1ajn_ligand.mol2')\n",
    "ligand_noH = ligand.df.loc[ligand.df['atom_type'] != 'H']"
   ]
  },
  {
   "cell_type": "code",
   "execution_count": 146,
   "metadata": {},
   "outputs": [],
   "source": [
    "ligand_coord = ligand_noH[[\"x\", \"y\", \"z\"]].values"
   ]
  },
  {
   "cell_type": "code",
   "execution_count": 147,
   "metadata": {},
   "outputs": [
    {
     "data": {
      "text/plain": [
       "(13, 3261)"
      ]
     },
     "execution_count": 147,
     "metadata": {},
     "output_type": "execute_result"
    }
   ],
   "source": [
    "import scipy.spatial as sp\n",
    "distance_proteinA = sp.distance_matrix(ligand_coord, chainA_coord, p=2)\n",
    "distance_proteinB = sp.distance_matrix(ligand_coord, chainB_coord, p=2)\n",
    "distance_matrix_hetatm = sp.distance_matrix(ligand_coord, hetatm_coord, p=2)\n",
    "distance_proteinA.shape"
   ]
  },
  {
   "cell_type": "code",
   "execution_count": 148,
   "metadata": {},
   "outputs": [
    {
     "data": {
      "text/plain": [
       "False"
      ]
     },
     "execution_count": 148,
     "metadata": {},
     "output_type": "execute_result"
    }
   ],
   "source": [
    "bb = distance_proteinA < 10\n",
    "bb[0]is True"
   ]
  },
  {
   "cell_type": "code",
   "execution_count": 165,
   "metadata": {
    "scrolled": true
   },
   "outputs": [
    {
     "data": {
      "text/plain": [
       "array([   0,    1,    2,    3,    4,    5,    6,    7,    8,    9,   10,\n",
       "         11,   12,   13,   14,   15,   16,   18,   34,   41,  304,  306,\n",
       "        307,  308,  309,  310,  311,  312,  313,  314,  317,  318,  319,\n",
       "        320,  321,  322,  323,  324,  325,  326,  327,  328,  329,  330,\n",
       "        331,  332,  333,  334,  335,  336,  337,  338,  339,  340,  341,\n",
       "        342,  343,  344,  345,  346,  347,  350,  351,  352,  353,  354,\n",
       "        355,  356,  357,  358,  359,  360,  361,  362,  363,  364,  365,\n",
       "        366,  367,  368,  369,  370,  371,  468,  469,  472,  473,  474,\n",
       "        475,  476,  489,  490,  691,  707,  708,  709,  710,  711,  712,\n",
       "        713,  714,  715,  759,  762,  763,  809,  810,  811,  812,  813,\n",
       "        814,  815,  816,  817,  818,  819,  820,  821,  822,  823,  826,\n",
       "        829,  831,  832,  833,  834,  835,  836,  837,  838,  839,  840,\n",
       "        841,  842,  959,  960,  961,  962,  963,  964,  965,  966,  967,\n",
       "        968,  969,  970,  971,  972,  973,  974,  975,  976,  977,  978,\n",
       "        979,  980,  981,  982,  983,  984,  985,  986,  987,  988,  989,\n",
       "        990,  991,  992,  993,  994,  995,  996,  997,  998,  999, 1000,\n",
       "       1001, 1002, 1003, 1006, 1007, 1015, 1016, 1017, 1018, 1019, 1020,\n",
       "       1021, 1022, 1023, 1024, 1025, 2320, 2321, 2323, 2324, 2325, 2326,\n",
       "       2327, 2328, 2329, 2330, 2331, 2332, 2333, 2334, 2650, 2652, 2673,\n",
       "       2674, 2678, 2679, 2689, 2690, 2696, 2699, 2700, 2701, 2702, 2703,\n",
       "       2704, 2705, 2706, 2707, 2708, 2709, 2710, 2711, 2712, 2713, 2714,\n",
       "       2715, 2716, 2717, 2718, 2719, 2720, 2722, 2723, 2724, 2725, 2731,\n",
       "       2732, 2734, 2735, 2741, 2742, 2743, 2745, 2746, 2747, 2767, 2770,\n",
       "       2771, 2776, 2959, 3669, 3676, 3677, 3678, 3683, 3684, 3686, 3687,\n",
       "       3697, 3698, 3699, 3700, 3703, 3704, 3705, 3706, 3707, 3708, 3709,\n",
       "       3710, 3931, 3934, 3935, 3937, 4034, 4035, 4037, 4038, 4039, 4040,\n",
       "       5974, 5975, 5976, 5979, 5980, 5981, 5985, 5986, 5987, 5988, 5989,\n",
       "       7432, 7437, 7443, 7444, 7461, 7464])"
      ]
     },
     "execution_count": 165,
     "metadata": {},
     "output_type": "execute_result"
    }
   ],
   "source": [
    "import numpy as np\n",
    "indexArr_chainA= np.argwhere(distance_proteinA < 8)[:,1]\n",
    "indexArr_chainB= np.argwhere(distance_proteinB < 8)[:,1]\n",
    "indexArr_hetatm = np.argwhere(distance_matrix_hetatm < 8)\n",
    "indexArr_chainA = np.unique(indexArr_chainA)\n",
    "indexArr_chainB = np.unique(indexArr_chainB)\n",
    "indexArr_hetatm = np.unique(indexArr_hetatm)\n",
    "indexArr_chainB"
   ]
  },
  {
   "cell_type": "code",
   "execution_count": 166,
   "metadata": {},
   "outputs": [],
   "source": [
    "# protein.df['HETATM'] = protein.df['HETATM'].loc[protein.df['HETATM'].index.isin(indexArr_hetatm)]\n",
    "# protein.df['ATOM'] = protein.df['ATOM'].loc[protein.df['ATOM'].index.isin(indexArr_atm)]\n",
    "# protein.df['ATOM']"
   ]
  },
  {
   "cell_type": "code",
   "execution_count": 167,
   "metadata": {},
   "outputs": [],
   "source": [
    "# import copy\n",
    "# protein_copy = copy.deepcopy(protein)"
   ]
  },
  {
   "cell_type": "code",
   "execution_count": 169,
   "metadata": {},
   "outputs": [
    {
     "data": {
      "text/plain": [
       "array([  1,   2,   3,  20,  21,  22,  23,  24,  25,  31,  32,  48,  49,\n",
       "        52,  56,  57,  66,  67,  68,  69,  70,  71, 154, 173, 175, 176,\n",
       "       177, 178, 179, 180, 193, 239, 240, 241, 256, 263, 385, 386, 480,\n",
       "       481, 482])"
      ]
     },
     "execution_count": 169,
     "metadata": {},
     "output_type": "execute_result"
    }
   ],
   "source": [
    "res_id = np.unique(protein_chainB.loc[protein_chainB.index.isin(indexArr_chainB)]['residue_number'])\n",
    "res_id"
   ]
  },
  {
   "cell_type": "code",
   "execution_count": null,
   "metadata": {},
   "outputs": [],
   "source": [
    "protein.df['ATOM'] = protein.df['ATOM'].iloc[indexArr_atm]\n",
    "#protein.df['HETATM'] = protein.df['HETATM'].iloc[indexArr_hetatm]"
   ]
  },
  {
   "cell_type": "code",
   "execution_count": null,
   "metadata": {},
   "outputs": [],
   "source": [
    "np.unique(protein.df['ATOM']['residue_number'])"
   ]
  },
  {
   "cell_type": "code",
   "execution_count": null,
   "metadata": {},
   "outputs": [],
   "source": [
    "# protein.df['HETATM'] = protein.df['HETATM'].loc[protein.df['HETATM']['record_name'] != 'HETATM']\n",
    "protein.df['ATOM'].head()"
   ]
  },
  {
   "cell_type": "code",
   "execution_count": null,
   "metadata": {},
   "outputs": [],
   "source": [
    "protein.to_pdb(path='protein_stripped.pdb', \n",
    "            records=None, \n",
    "            gz=False, \n",
    "            append_newline=True)"
   ]
  },
  {
   "cell_type": "code",
   "execution_count": null,
   "metadata": {},
   "outputs": [],
   "source": [
    "from pathlib import Path\n",
    "\n",
    "p = Path('PDBbind/refined-set/')\n",
    "subdirectories = [x for x in p.iterdir() if x.is_dir()]\n",
    "\n",
    "print(str(subdirectories[0]))"
   ]
  },
  {
   "cell_type": "code",
   "execution_count": null,
   "metadata": {},
   "outputs": [],
   "source": [
    "from biopandas.pdb import PandasPdb\n",
    "from biopandas.mol2 import PandasMol2\n",
    "import scipy.spatial as sp"
   ]
  },
  {
   "cell_type": "code",
   "execution_count": null,
   "metadata": {},
   "outputs": [],
   "source": [
    "i = 0\n",
    "\n",
    "out_path = './stripped_proteins/'\n",
    "for dir_name in subdirectories:\n",
    "    name = str(dir_name).split('/')[2]\n",
    "    protein_file_name = str(dir_name) + '/' + name + '_protein.pdb'\n",
    "    ligand_file_name = str(dir_name) + '/' + name + '_ligand.mol2'\n",
    "    #print(ligand_file_name)\n",
    "    protein = PandasPdb().read_pdb(protein_file_name)\n",
    "    protein_coord = protein.df['ATOM'][[\"x_coord\",\"y_coord\",\"z_coord\"]].values\n",
    "    ligand = PandasMol2().read_mol2(ligand_file_name)\n",
    "    ligand_coord = ligand.df[[\"x\", \"y\", \"z\"]].values\n",
    "    \n",
    "    distance_matrix = sp.distance_matrix(ligand_coord, protein_coord, p=2, threshold=1000000)\n",
    "    indexArr = np.argwhere(distance_matrix < 10)[:,1]\n",
    "    indexArr = np.unique(indexArr)\n",
    "    protein.df['ATOM'] = protein.df['ATOM'].iloc[indexArr]\n",
    "    protein.df['HETATM'] = protein.df['HETATM'].loc[protein.df['HETATM']['record_name'] != 'HETATM']\n",
    "    \n",
    "    out_file_name = out_path + name + '.pdb'\n",
    "    \n",
    "    \n",
    "    protein.to_pdb(path=out_file_name, \n",
    "            records=None, \n",
    "            gz=False, \n",
    "            append_newline=True)\n",
    "    \n",
    "    \n",
    "    i = i +1\n",
    "    print(i)\n"
   ]
  },
  {
   "cell_type": "code",
   "execution_count": null,
   "metadata": {},
   "outputs": [],
   "source": [
    "%matplotlib inline\n",
    "import matplotlib.pyplot as plt\n",
    "from matplotlib import style\n",
    "style.use('ggplot')"
   ]
  },
  {
   "cell_type": "code",
   "execution_count": null,
   "metadata": {},
   "outputs": [],
   "source": [
    "protein.df['ATOM'] = protein.df['ATOM'].loc[protein.df['ATOM']['residue_number'].isin(res_id)]"
   ]
  },
  {
   "cell_type": "code",
   "execution_count": null,
   "metadata": {},
   "outputs": [],
   "source": [
    "protein.df['ATOM']"
   ]
  },
  {
   "cell_type": "code",
   "execution_count": null,
   "metadata": {},
   "outputs": [],
   "source": [
    "protein.df['HETATM'] = protein.df['HETATM'].loc[protein.df['HETATM']['record_name'] != 'HETATM']\n",
    "protein.to_pdb(path='protein_stripped.pdb', \n",
    "            records=None, \n",
    "            gz=False, \n",
    "            append_newline=True)"
   ]
  },
  {
   "cell_type": "code",
   "execution_count": null,
   "metadata": {},
   "outputs": [],
   "source": [
    "pmol.df['atom_type'].value_counts().plot(kind='bar')\n",
    "plt.xlabel('atom type')\n",
    "plt.ylabel('count')\n",
    "plt.show()"
   ]
  },
  {
   "cell_type": "code",
   "execution_count": null,
   "metadata": {},
   "outputs": [],
   "source": [
    "res_id"
   ]
  },
  {
   "cell_type": "code",
   "execution_count": null,
   "metadata": {},
   "outputs": [],
   "source": [
    "protein.df['ATOM']=  protein.df['ATOM'][protein.df['ATOM']['line_idx'] > ter_pos[0]]"
   ]
  },
  {
   "cell_type": "code",
   "execution_count": null,
   "metadata": {},
   "outputs": [],
   "source": [
    "protein.df['ATOM']"
   ]
  },
  {
   "cell_type": "code",
   "execution_count": null,
   "metadata": {},
   "outputs": [],
   "source": [
    "protein.df['HETATM'] = protein.df['HETATM'].loc[protein.df['HETATM'].index.isin(indexArr_hetatm)]\n"
   ]
  },
  {
   "cell_type": "code",
   "execution_count": null,
   "metadata": {},
   "outputs": [],
   "source": [
    "protein.to_pdb(path='protein_stripped.pdb', \n",
    "            records=None, \n",
    "            gz=False, \n",
    "            append_newline=True)"
   ]
  },
  {
   "cell_type": "code",
   "execution_count": null,
   "metadata": {},
   "outputs": [],
   "source": [
    "protein.df['ATOM'].loc[protein.df['ATOM']['residue_number'].isin([138])]"
   ]
  },
  {
   "cell_type": "code",
   "execution_count": 51,
   "metadata": {},
   "outputs": [],
   "source": [
    "protein_pocket = PandasPdb().read_pdb('1ajn/1ajn_pocket.pdb')"
   ]
  },
  {
   "cell_type": "code",
   "execution_count": 52,
   "metadata": {},
   "outputs": [
    {
     "data": {
      "text/plain": [
       "array(['A', 'B'], dtype=object)"
      ]
     },
     "execution_count": 52,
     "metadata": {},
     "output_type": "execute_result"
    }
   ],
   "source": [
    "np.unique(protein_pocket.df['ATOM']['chain_id'])"
   ]
  },
  {
   "cell_type": "code",
   "execution_count": 53,
   "metadata": {},
   "outputs": [],
   "source": [
    "pocket_res = np.unique(protein_pocket.df['ATOM']['residue_number'])"
   ]
  },
  {
   "cell_type": "code",
   "execution_count": 54,
   "metadata": {},
   "outputs": [],
   "source": [
    "pocket_res1 = np.unique(protein.df['ATOM']['atom_name'])"
   ]
  },
  {
   "cell_type": "code",
   "execution_count": 170,
   "metadata": {},
   "outputs": [
    {
     "data": {
      "text/plain": [
       "array([  1,   2,   3,  20,  21,  22,  23,  24,  25,  31,  32,  48,  49,\n",
       "        52,  56,  57,  66,  67,  68,  69,  70,  71, 138, 141, 142, 145,\n",
       "       146, 147, 154, 173, 175, 176, 177, 178, 179, 180, 193, 239, 240,\n",
       "       241, 256, 263, 385, 386, 480, 481, 482])"
      ]
     },
     "execution_count": 170,
     "metadata": {},
     "output_type": "execute_result"
    }
   ],
   "source": [
    "pocket_res"
   ]
  },
  {
   "cell_type": "code",
   "execution_count": 171,
   "metadata": {},
   "outputs": [
    {
     "data": {
      "text/plain": [
       "array([  1,   2,   3,  20,  21,  22,  23,  24,  25,  31,  32,  48,  49,\n",
       "        52,  56,  57,  66,  67,  68,  69,  70,  71, 154, 173, 175, 176,\n",
       "       177, 178, 179, 180, 193, 239, 240, 241, 256, 263, 385, 386, 480,\n",
       "       481, 482])"
      ]
     },
     "execution_count": 171,
     "metadata": {},
     "output_type": "execute_result"
    }
   ],
   "source": [
    "res_id"
   ]
  },
  {
   "cell_type": "code",
   "execution_count": 172,
   "metadata": {},
   "outputs": [
    {
     "data": {
      "text/html": [
       "<div>\n",
       "<style scoped>\n",
       "    .dataframe tbody tr th:only-of-type {\n",
       "        vertical-align: middle;\n",
       "    }\n",
       "\n",
       "    .dataframe tbody tr th {\n",
       "        vertical-align: top;\n",
       "    }\n",
       "\n",
       "    .dataframe thead th {\n",
       "        text-align: right;\n",
       "    }\n",
       "</style>\n",
       "<table border=\"1\" class=\"dataframe\">\n",
       "  <thead>\n",
       "    <tr style=\"text-align: right;\">\n",
       "      <th></th>\n",
       "      <th>record_name</th>\n",
       "      <th>atom_number</th>\n",
       "      <th>blank_1</th>\n",
       "      <th>atom_name</th>\n",
       "      <th>alt_loc</th>\n",
       "      <th>residue_name</th>\n",
       "      <th>blank_2</th>\n",
       "      <th>chain_id</th>\n",
       "      <th>residue_number</th>\n",
       "      <th>insertion</th>\n",
       "      <th>...</th>\n",
       "      <th>x_coord</th>\n",
       "      <th>y_coord</th>\n",
       "      <th>z_coord</th>\n",
       "      <th>occupancy</th>\n",
       "      <th>b_factor</th>\n",
       "      <th>blank_4</th>\n",
       "      <th>segment_id</th>\n",
       "      <th>element_symbol</th>\n",
       "      <th>charge</th>\n",
       "      <th>line_idx</th>\n",
       "    </tr>\n",
       "  </thead>\n",
       "  <tbody>\n",
       "    <tr>\n",
       "      <th>0</th>\n",
       "      <td>ATOM</td>\n",
       "      <td>1</td>\n",
       "      <td></td>\n",
       "      <td>N</td>\n",
       "      <td></td>\n",
       "      <td>PHE</td>\n",
       "      <td></td>\n",
       "      <td>A</td>\n",
       "      <td>138</td>\n",
       "      <td></td>\n",
       "      <td>...</td>\n",
       "      <td>11.569</td>\n",
       "      <td>22.668</td>\n",
       "      <td>32.144</td>\n",
       "      <td>1.0</td>\n",
       "      <td>19.13</td>\n",
       "      <td></td>\n",
       "      <td></td>\n",
       "      <td>N</td>\n",
       "      <td>NaN</td>\n",
       "      <td>3</td>\n",
       "    </tr>\n",
       "    <tr>\n",
       "      <th>1</th>\n",
       "      <td>ATOM</td>\n",
       "      <td>2</td>\n",
       "      <td></td>\n",
       "      <td>H</td>\n",
       "      <td></td>\n",
       "      <td>PHE</td>\n",
       "      <td></td>\n",
       "      <td>A</td>\n",
       "      <td>138</td>\n",
       "      <td></td>\n",
       "      <td>...</td>\n",
       "      <td>11.132</td>\n",
       "      <td>21.922</td>\n",
       "      <td>31.566</td>\n",
       "      <td>1.0</td>\n",
       "      <td>0.00</td>\n",
       "      <td></td>\n",
       "      <td></td>\n",
       "      <td>H</td>\n",
       "      <td>NaN</td>\n",
       "      <td>4</td>\n",
       "    </tr>\n",
       "    <tr>\n",
       "      <th>2</th>\n",
       "      <td>ATOM</td>\n",
       "      <td>3</td>\n",
       "      <td></td>\n",
       "      <td>CA</td>\n",
       "      <td></td>\n",
       "      <td>PHE</td>\n",
       "      <td></td>\n",
       "      <td>A</td>\n",
       "      <td>138</td>\n",
       "      <td></td>\n",
       "      <td>...</td>\n",
       "      <td>10.755</td>\n",
       "      <td>23.783</td>\n",
       "      <td>32.650</td>\n",
       "      <td>1.0</td>\n",
       "      <td>21.24</td>\n",
       "      <td></td>\n",
       "      <td></td>\n",
       "      <td>C</td>\n",
       "      <td>NaN</td>\n",
       "      <td>5</td>\n",
       "    </tr>\n",
       "    <tr>\n",
       "      <th>3</th>\n",
       "      <td>ATOM</td>\n",
       "      <td>4</td>\n",
       "      <td></td>\n",
       "      <td>C</td>\n",
       "      <td></td>\n",
       "      <td>PHE</td>\n",
       "      <td></td>\n",
       "      <td>A</td>\n",
       "      <td>138</td>\n",
       "      <td></td>\n",
       "      <td>...</td>\n",
       "      <td>10.606</td>\n",
       "      <td>23.846</td>\n",
       "      <td>34.167</td>\n",
       "      <td>1.0</td>\n",
       "      <td>23.33</td>\n",
       "      <td></td>\n",
       "      <td></td>\n",
       "      <td>C</td>\n",
       "      <td>NaN</td>\n",
       "      <td>6</td>\n",
       "    </tr>\n",
       "    <tr>\n",
       "      <th>4</th>\n",
       "      <td>ATOM</td>\n",
       "      <td>5</td>\n",
       "      <td></td>\n",
       "      <td>O</td>\n",
       "      <td></td>\n",
       "      <td>PHE</td>\n",
       "      <td></td>\n",
       "      <td>A</td>\n",
       "      <td>138</td>\n",
       "      <td></td>\n",
       "      <td>...</td>\n",
       "      <td>10.746</td>\n",
       "      <td>24.938</td>\n",
       "      <td>34.699</td>\n",
       "      <td>1.0</td>\n",
       "      <td>22.41</td>\n",
       "      <td></td>\n",
       "      <td></td>\n",
       "      <td>O</td>\n",
       "      <td>NaN</td>\n",
       "      <td>7</td>\n",
       "    </tr>\n",
       "    <tr>\n",
       "      <th>...</th>\n",
       "      <td>...</td>\n",
       "      <td>...</td>\n",
       "      <td>...</td>\n",
       "      <td>...</td>\n",
       "      <td>...</td>\n",
       "      <td>...</td>\n",
       "      <td>...</td>\n",
       "      <td>...</td>\n",
       "      <td>...</td>\n",
       "      <td>...</td>\n",
       "      <td>...</td>\n",
       "      <td>...</td>\n",
       "      <td>...</td>\n",
       "      <td>...</td>\n",
       "      <td>...</td>\n",
       "      <td>...</td>\n",
       "      <td>...</td>\n",
       "      <td>...</td>\n",
       "      <td>...</td>\n",
       "      <td>...</td>\n",
       "      <td>...</td>\n",
       "    </tr>\n",
       "    <tr>\n",
       "      <th>471</th>\n",
       "      <td>ATOM</td>\n",
       "      <td>472</td>\n",
       "      <td></td>\n",
       "      <td>CB</td>\n",
       "      <td></td>\n",
       "      <td>GLU</td>\n",
       "      <td></td>\n",
       "      <td>B</td>\n",
       "      <td>482</td>\n",
       "      <td></td>\n",
       "      <td>...</td>\n",
       "      <td>16.636</td>\n",
       "      <td>37.551</td>\n",
       "      <td>23.693</td>\n",
       "      <td>1.0</td>\n",
       "      <td>15.20</td>\n",
       "      <td></td>\n",
       "      <td></td>\n",
       "      <td>C</td>\n",
       "      <td>NaN</td>\n",
       "      <td>474</td>\n",
       "    </tr>\n",
       "    <tr>\n",
       "      <th>472</th>\n",
       "      <td>ATOM</td>\n",
       "      <td>473</td>\n",
       "      <td></td>\n",
       "      <td>CG</td>\n",
       "      <td></td>\n",
       "      <td>GLU</td>\n",
       "      <td></td>\n",
       "      <td>B</td>\n",
       "      <td>482</td>\n",
       "      <td></td>\n",
       "      <td>...</td>\n",
       "      <td>15.262</td>\n",
       "      <td>37.167</td>\n",
       "      <td>24.210</td>\n",
       "      <td>1.0</td>\n",
       "      <td>13.17</td>\n",
       "      <td></td>\n",
       "      <td></td>\n",
       "      <td>C</td>\n",
       "      <td>NaN</td>\n",
       "      <td>475</td>\n",
       "    </tr>\n",
       "    <tr>\n",
       "      <th>473</th>\n",
       "      <td>ATOM</td>\n",
       "      <td>474</td>\n",
       "      <td></td>\n",
       "      <td>CD</td>\n",
       "      <td></td>\n",
       "      <td>GLU</td>\n",
       "      <td></td>\n",
       "      <td>B</td>\n",
       "      <td>482</td>\n",
       "      <td></td>\n",
       "      <td>...</td>\n",
       "      <td>14.096</td>\n",
       "      <td>37.927</td>\n",
       "      <td>23.649</td>\n",
       "      <td>1.0</td>\n",
       "      <td>18.39</td>\n",
       "      <td></td>\n",
       "      <td></td>\n",
       "      <td>C</td>\n",
       "      <td>NaN</td>\n",
       "      <td>476</td>\n",
       "    </tr>\n",
       "    <tr>\n",
       "      <th>474</th>\n",
       "      <td>ATOM</td>\n",
       "      <td>475</td>\n",
       "      <td></td>\n",
       "      <td>OE1</td>\n",
       "      <td></td>\n",
       "      <td>GLU</td>\n",
       "      <td></td>\n",
       "      <td>B</td>\n",
       "      <td>482</td>\n",
       "      <td></td>\n",
       "      <td>...</td>\n",
       "      <td>14.065</td>\n",
       "      <td>38.155</td>\n",
       "      <td>22.428</td>\n",
       "      <td>1.0</td>\n",
       "      <td>20.40</td>\n",
       "      <td></td>\n",
       "      <td></td>\n",
       "      <td>O</td>\n",
       "      <td>NaN</td>\n",
       "      <td>477</td>\n",
       "    </tr>\n",
       "    <tr>\n",
       "      <th>475</th>\n",
       "      <td>ATOM</td>\n",
       "      <td>476</td>\n",
       "      <td></td>\n",
       "      <td>OE2</td>\n",
       "      <td></td>\n",
       "      <td>GLU</td>\n",
       "      <td></td>\n",
       "      <td>B</td>\n",
       "      <td>482</td>\n",
       "      <td></td>\n",
       "      <td>...</td>\n",
       "      <td>13.134</td>\n",
       "      <td>38.361</td>\n",
       "      <td>24.339</td>\n",
       "      <td>1.0</td>\n",
       "      <td>15.85</td>\n",
       "      <td></td>\n",
       "      <td></td>\n",
       "      <td>O</td>\n",
       "      <td>NaN</td>\n",
       "      <td>478</td>\n",
       "    </tr>\n",
       "  </tbody>\n",
       "</table>\n",
       "<p>476 rows × 21 columns</p>\n",
       "</div>"
      ],
      "text/plain": [
       "    record_name  atom_number blank_1 atom_name alt_loc residue_name blank_2  \\\n",
       "0          ATOM            1                 N                  PHE           \n",
       "1          ATOM            2                 H                  PHE           \n",
       "2          ATOM            3                CA                  PHE           \n",
       "3          ATOM            4                 C                  PHE           \n",
       "4          ATOM            5                 O                  PHE           \n",
       "..          ...          ...     ...       ...     ...          ...     ...   \n",
       "471        ATOM          472                CB                  GLU           \n",
       "472        ATOM          473                CG                  GLU           \n",
       "473        ATOM          474                CD                  GLU           \n",
       "474        ATOM          475               OE1                  GLU           \n",
       "475        ATOM          476               OE2                  GLU           \n",
       "\n",
       "    chain_id  residue_number insertion  ... x_coord  y_coord  z_coord  \\\n",
       "0          A             138            ...  11.569   22.668   32.144   \n",
       "1          A             138            ...  11.132   21.922   31.566   \n",
       "2          A             138            ...  10.755   23.783   32.650   \n",
       "3          A             138            ...  10.606   23.846   34.167   \n",
       "4          A             138            ...  10.746   24.938   34.699   \n",
       "..       ...             ...       ...  ...     ...      ...      ...   \n",
       "471        B             482            ...  16.636   37.551   23.693   \n",
       "472        B             482            ...  15.262   37.167   24.210   \n",
       "473        B             482            ...  14.096   37.927   23.649   \n",
       "474        B             482            ...  14.065   38.155   22.428   \n",
       "475        B             482            ...  13.134   38.361   24.339   \n",
       "\n",
       "     occupancy  b_factor  blank_4 segment_id element_symbol charge  line_idx  \n",
       "0          1.0     19.13                                  N    NaN         3  \n",
       "1          1.0      0.00                                  H    NaN         4  \n",
       "2          1.0     21.24                                  C    NaN         5  \n",
       "3          1.0     23.33                                  C    NaN         6  \n",
       "4          1.0     22.41                                  O    NaN         7  \n",
       "..         ...       ...      ...        ...            ...    ...       ...  \n",
       "471        1.0     15.20                                  C    NaN       474  \n",
       "472        1.0     13.17                                  C    NaN       475  \n",
       "473        1.0     18.39                                  C    NaN       476  \n",
       "474        1.0     20.40                                  O    NaN       477  \n",
       "475        1.0     15.85                                  O    NaN       478  \n",
       "\n",
       "[476 rows x 21 columns]"
      ]
     },
     "execution_count": 172,
     "metadata": {},
     "output_type": "execute_result"
    }
   ],
   "source": [
    "protein_pocket.df['ATOM']"
   ]
  },
  {
   "cell_type": "code",
   "execution_count": null,
   "metadata": {},
   "outputs": [],
   "source": [
    "protein.df['ATOM'] = protein.df['ATOM'].loc[protein.df['ATOM']['residue_number'].isin(pocket_res)]"
   ]
  },
  {
   "cell_type": "code",
   "execution_count": null,
   "metadata": {},
   "outputs": [],
   "source": [
    "protein.df['ATOM']=  protein.df['ATOM'][protein.df['ATOM']['line_idx'] > ter_pos[0]]\n",
    "protein.df['ATOM']"
   ]
  },
  {
   "cell_type": "code",
   "execution_count": null,
   "metadata": {},
   "outputs": [],
   "source": [
    "protein_pocket.df['ATOM'].iloc[:10]"
   ]
  },
  {
   "cell_type": "code",
   "execution_count": null,
   "metadata": {},
   "outputs": [],
   "source": [
    "protein_pocket.df['ATOM'] = protein_pocket.df['ATOM'][protein_pocket.df['ATOM']['element_symbol'] != 'H']"
   ]
  },
  {
   "cell_type": "code",
   "execution_count": null,
   "metadata": {},
   "outputs": [],
   "source": [
    "protein_pocket.df['ATOM']"
   ]
  },
  {
   "cell_type": "code",
   "execution_count": null,
   "metadata": {},
   "outputs": [],
   "source": [
    "protein = PandasPdb().read_pdb('PDBbind/refined-set/1ajn/1ajn_protein.pdb')\n",
    "#protein.df['ATOM'].iloc[[1639]]\n",
    "protein.df['ATOM'] = protein.df['ATOM'][protein.df['ATOM']['element_symbol'] != 'H']\n",
    "\n",
    "alpha_carbon = protein.df['ATOM'][protein.df['ATOM']['atom_name'] == 'CA']"
   ]
  },
  {
   "cell_type": "code",
   "execution_count": null,
   "metadata": {},
   "outputs": [],
   "source": [
    "alpha_carbon"
   ]
  },
  {
   "cell_type": "code",
   "execution_count": null,
   "metadata": {},
   "outputs": [],
   "source": [
    "alpha_carbon = alpha_carbon.reset_index()"
   ]
  },
  {
   "cell_type": "code",
   "execution_count": null,
   "metadata": {},
   "outputs": [],
   "source": [
    "alpha_carbon"
   ]
  },
  {
   "cell_type": "code",
   "execution_count": null,
   "metadata": {},
   "outputs": [],
   "source": [
    "alpha_carbon = alpha_carbon.drop(['index'], axis=1)"
   ]
  },
  {
   "cell_type": "code",
   "execution_count": null,
   "metadata": {},
   "outputs": [],
   "source": [
    "alpha_carbon"
   ]
  },
  {
   "cell_type": "code",
   "execution_count": null,
   "metadata": {},
   "outputs": [],
   "source": [
    "alpha_coord = alpha_carbon[[\"x_coord\",\"y_coord\",\"z_coord\"]].values"
   ]
  },
  {
   "cell_type": "code",
   "execution_count": null,
   "metadata": {},
   "outputs": [],
   "source": [
    "ligand = PandasMol2().read_mol2('PDBbind/refined-set/1ajn/1ajn_ligand.mol2')\n",
    "ligand_noH = ligand.df[ligand.df['atom_type'] != 'H']\n",
    "ligand_noH.tail()\n"
   ]
  },
  {
   "cell_type": "code",
   "execution_count": null,
   "metadata": {},
   "outputs": [],
   "source": [
    "ligand_coord = ligand_noH[[\"x\", \"y\", \"z\"]].values"
   ]
  },
  {
   "cell_type": "code",
   "execution_count": null,
   "metadata": {},
   "outputs": [],
   "source": [
    "distance_matrix_atm = sp.distance_matrix(ligand_coord, alpha_coord, p=2, threshold=1000000)"
   ]
  },
  {
   "cell_type": "code",
   "execution_count": null,
   "metadata": {},
   "outputs": [],
   "source": [
    "indexArr_atm = np.unique(np.argwhere(distance_matrix_atm < 11)[:,1])"
   ]
  },
  {
   "cell_type": "code",
   "execution_count": null,
   "metadata": {},
   "outputs": [],
   "source": [
    "indexArr_atm"
   ]
  },
  {
   "cell_type": "code",
   "execution_count": null,
   "metadata": {},
   "outputs": [],
   "source": [
    "res_id = np.unique(alpha_carbon.loc[alpha_carbon.index.isin(indexArr_atm)]['residue_number'])"
   ]
  },
  {
   "cell_type": "code",
   "execution_count": null,
   "metadata": {},
   "outputs": [],
   "source": [
    "res_id"
   ]
  },
  {
   "cell_type": "code",
   "execution_count": null,
   "metadata": {},
   "outputs": [],
   "source": [
    "res_id.shape\n"
   ]
  },
  {
   "cell_type": "code",
   "execution_count": null,
   "metadata": {},
   "outputs": [],
   "source": [
    "protein.df['ATOM'] = protein.df['ATOM'].loc[protein.df['ATOM']['residue_number'].isin(res_id)]"
   ]
  },
  {
   "cell_type": "code",
   "execution_count": null,
   "metadata": {},
   "outputs": [],
   "source": [
    "protein.df['ATOM']=  protein.df['ATOM'][protein.df['ATOM']['line_idx'] > ter_pos[0]]\n",
    "protein.df['ATOM']"
   ]
  },
  {
   "cell_type": "code",
   "execution_count": null,
   "metadata": {},
   "outputs": [],
   "source": [
    "np.sort(np.unique(protein.df['ATOM']['residue_number']))"
   ]
  },
  {
   "cell_type": "code",
   "execution_count": null,
   "metadata": {},
   "outputs": [],
   "source": [
    "np.sort(np.unique(protein_pocket.df['ATOM']['residue_number']))"
   ]
  },
  {
   "cell_type": "code",
   "execution_count": null,
   "metadata": {},
   "outputs": [],
   "source": [
    "ligand_alpha = ligand.df[ligand.df['atom_name'] == 'CA']"
   ]
  },
  {
   "cell_type": "code",
   "execution_count": null,
   "metadata": {},
   "outputs": [],
   "source": [
    "ligand_co = ligand_alpha[[\"x\", \"y\", \"z\"]].values"
   ]
  },
  {
   "cell_type": "code",
   "execution_count": null,
   "metadata": {},
   "outputs": [],
   "source": [
    "distance_matrix_atm = sp.distance_matrix(ligand_co, alpha_coord, p=2, threshold=1000000)"
   ]
  },
  {
   "cell_type": "code",
   "execution_count": null,
   "metadata": {},
   "outputs": [],
   "source": [
    "indexArr_atm = np.unique(np.argwhere(distance_matrix_atm < 10)[:,1])"
   ]
  },
  {
   "cell_type": "code",
   "execution_count": null,
   "metadata": {},
   "outputs": [],
   "source": [
    "indexArr_atm"
   ]
  },
  {
   "cell_type": "code",
   "execution_count": null,
   "metadata": {},
   "outputs": [],
   "source": []
  }
 ],
 "metadata": {
  "kernelspec": {
   "display_name": "edsi",
   "language": "python",
   "name": "edsi"
  },
  "language_info": {
   "codemirror_mode": {
    "name": "ipython",
    "version": 3
   },
   "file_extension": ".py",
   "mimetype": "text/x-python",
   "name": "python",
   "nbconvert_exporter": "python",
   "pygments_lexer": "ipython3",
   "version": "3.7.6"
  }
 },
 "nbformat": 4,
 "nbformat_minor": 4
}
