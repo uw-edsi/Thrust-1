{
 "cells": [
  {
   "cell_type": "code",
   "execution_count": 1,
   "metadata": {},
   "outputs": [],
   "source": [
    "from biopandas.pdb import PandasPdb"
   ]
  },
  {
   "cell_type": "code",
   "execution_count": 3,
   "metadata": {},
   "outputs": [
    {
     "data": {
      "text/html": [
       "<div>\n",
       "<style scoped>\n",
       "    .dataframe tbody tr th:only-of-type {\n",
       "        vertical-align: middle;\n",
       "    }\n",
       "\n",
       "    .dataframe tbody tr th {\n",
       "        vertical-align: top;\n",
       "    }\n",
       "\n",
       "    .dataframe thead th {\n",
       "        text-align: right;\n",
       "    }\n",
       "</style>\n",
       "<table border=\"1\" class=\"dataframe\">\n",
       "  <thead>\n",
       "    <tr style=\"text-align: right;\">\n",
       "      <th></th>\n",
       "      <th>record_name</th>\n",
       "      <th>atom_number</th>\n",
       "      <th>blank_1</th>\n",
       "      <th>atom_name</th>\n",
       "      <th>alt_loc</th>\n",
       "      <th>residue_name</th>\n",
       "      <th>blank_2</th>\n",
       "      <th>chain_id</th>\n",
       "      <th>residue_number</th>\n",
       "      <th>insertion</th>\n",
       "      <th>...</th>\n",
       "      <th>x_coord</th>\n",
       "      <th>y_coord</th>\n",
       "      <th>z_coord</th>\n",
       "      <th>occupancy</th>\n",
       "      <th>b_factor</th>\n",
       "      <th>blank_4</th>\n",
       "      <th>segment_id</th>\n",
       "      <th>element_symbol</th>\n",
       "      <th>charge</th>\n",
       "      <th>line_idx</th>\n",
       "    </tr>\n",
       "  </thead>\n",
       "  <tbody>\n",
       "    <tr>\n",
       "      <th>0</th>\n",
       "      <td>ATOM</td>\n",
       "      <td>5</td>\n",
       "      <td></td>\n",
       "      <td>CA</td>\n",
       "      <td></td>\n",
       "      <td>SER</td>\n",
       "      <td></td>\n",
       "      <td>A</td>\n",
       "      <td>3</td>\n",
       "      <td></td>\n",
       "      <td>...</td>\n",
       "      <td>0.884</td>\n",
       "      <td>13.426</td>\n",
       "      <td>4.336</td>\n",
       "      <td>1.0</td>\n",
       "      <td>65.22</td>\n",
       "      <td></td>\n",
       "      <td></td>\n",
       "      <td>C</td>\n",
       "      <td>NaN</td>\n",
       "      <td>66</td>\n",
       "    </tr>\n",
       "    <tr>\n",
       "      <th>1</th>\n",
       "      <td>ATOM</td>\n",
       "      <td>16</td>\n",
       "      <td></td>\n",
       "      <td>CA</td>\n",
       "      <td></td>\n",
       "      <td>SER</td>\n",
       "      <td></td>\n",
       "      <td>A</td>\n",
       "      <td>4</td>\n",
       "      <td></td>\n",
       "      <td>...</td>\n",
       "      <td>0.265</td>\n",
       "      <td>12.642</td>\n",
       "      <td>7.990</td>\n",
       "      <td>1.0</td>\n",
       "      <td>52.61</td>\n",
       "      <td></td>\n",
       "      <td></td>\n",
       "      <td>C</td>\n",
       "      <td>NaN</td>\n",
       "      <td>77</td>\n",
       "    </tr>\n",
       "    <tr>\n",
       "      <th>2</th>\n",
       "      <td>ATOM</td>\n",
       "      <td>27</td>\n",
       "      <td></td>\n",
       "      <td>CA</td>\n",
       "      <td></td>\n",
       "      <td>SER</td>\n",
       "      <td></td>\n",
       "      <td>A</td>\n",
       "      <td>5</td>\n",
       "      <td></td>\n",
       "      <td>...</td>\n",
       "      <td>3.737</td>\n",
       "      <td>11.091</td>\n",
       "      <td>8.336</td>\n",
       "      <td>1.0</td>\n",
       "      <td>33.86</td>\n",
       "      <td></td>\n",
       "      <td></td>\n",
       "      <td>C</td>\n",
       "      <td>NaN</td>\n",
       "      <td>88</td>\n",
       "    </tr>\n",
       "    <tr>\n",
       "      <th>3</th>\n",
       "      <td>ATOM</td>\n",
       "      <td>38</td>\n",
       "      <td></td>\n",
       "      <td>CA</td>\n",
       "      <td></td>\n",
       "      <td>GLU</td>\n",
       "      <td></td>\n",
       "      <td>A</td>\n",
       "      <td>6</td>\n",
       "      <td></td>\n",
       "      <td>...</td>\n",
       "      <td>5.644</td>\n",
       "      <td>14.013</td>\n",
       "      <td>6.883</td>\n",
       "      <td>1.0</td>\n",
       "      <td>35.21</td>\n",
       "      <td></td>\n",
       "      <td></td>\n",
       "      <td>C</td>\n",
       "      <td>NaN</td>\n",
       "      <td>99</td>\n",
       "    </tr>\n",
       "    <tr>\n",
       "      <th>4</th>\n",
       "      <td>ATOM</td>\n",
       "      <td>53</td>\n",
       "      <td></td>\n",
       "      <td>CA</td>\n",
       "      <td></td>\n",
       "      <td>ILE</td>\n",
       "      <td></td>\n",
       "      <td>A</td>\n",
       "      <td>7</td>\n",
       "      <td></td>\n",
       "      <td>...</td>\n",
       "      <td>7.525</td>\n",
       "      <td>16.672</td>\n",
       "      <td>8.878</td>\n",
       "      <td>1.0</td>\n",
       "      <td>30.39</td>\n",
       "      <td></td>\n",
       "      <td></td>\n",
       "      <td>C</td>\n",
       "      <td>NaN</td>\n",
       "      <td>114</td>\n",
       "    </tr>\n",
       "    <tr>\n",
       "      <th>...</th>\n",
       "      <td>...</td>\n",
       "      <td>...</td>\n",
       "      <td>...</td>\n",
       "      <td>...</td>\n",
       "      <td>...</td>\n",
       "      <td>...</td>\n",
       "      <td>...</td>\n",
       "      <td>...</td>\n",
       "      <td>...</td>\n",
       "      <td>...</td>\n",
       "      <td>...</td>\n",
       "      <td>...</td>\n",
       "      <td>...</td>\n",
       "      <td>...</td>\n",
       "      <td>...</td>\n",
       "      <td>...</td>\n",
       "      <td>...</td>\n",
       "      <td>...</td>\n",
       "      <td>...</td>\n",
       "      <td>...</td>\n",
       "      <td>...</td>\n",
       "    </tr>\n",
       "    <tr>\n",
       "      <th>758</th>\n",
       "      <td>ATOM</td>\n",
       "      <td>11819</td>\n",
       "      <td></td>\n",
       "      <td>CA</td>\n",
       "      <td></td>\n",
       "      <td>LEU</td>\n",
       "      <td></td>\n",
       "      <td>B</td>\n",
       "      <td>553</td>\n",
       "      <td></td>\n",
       "      <td>...</td>\n",
       "      <td>11.245</td>\n",
       "      <td>13.477</td>\n",
       "      <td>7.506</td>\n",
       "      <td>1.0</td>\n",
       "      <td>36.70</td>\n",
       "      <td></td>\n",
       "      <td></td>\n",
       "      <td>C</td>\n",
       "      <td>NaN</td>\n",
       "      <td>11881</td>\n",
       "    </tr>\n",
       "    <tr>\n",
       "      <th>759</th>\n",
       "      <td>ATOM</td>\n",
       "      <td>11838</td>\n",
       "      <td></td>\n",
       "      <td>CA</td>\n",
       "      <td></td>\n",
       "      <td>HIS</td>\n",
       "      <td></td>\n",
       "      <td>B</td>\n",
       "      <td>554</td>\n",
       "      <td></td>\n",
       "      <td>...</td>\n",
       "      <td>8.708</td>\n",
       "      <td>10.677</td>\n",
       "      <td>7.095</td>\n",
       "      <td>1.0</td>\n",
       "      <td>33.86</td>\n",
       "      <td></td>\n",
       "      <td></td>\n",
       "      <td>C</td>\n",
       "      <td>NaN</td>\n",
       "      <td>11900</td>\n",
       "    </tr>\n",
       "    <tr>\n",
       "      <th>760</th>\n",
       "      <td>ATOM</td>\n",
       "      <td>11854</td>\n",
       "      <td></td>\n",
       "      <td>CA</td>\n",
       "      <td></td>\n",
       "      <td>VAL</td>\n",
       "      <td></td>\n",
       "      <td>B</td>\n",
       "      <td>555</td>\n",
       "      <td></td>\n",
       "      <td>...</td>\n",
       "      <td>7.711</td>\n",
       "      <td>9.133</td>\n",
       "      <td>10.418</td>\n",
       "      <td>1.0</td>\n",
       "      <td>35.94</td>\n",
       "      <td></td>\n",
       "      <td></td>\n",
       "      <td>C</td>\n",
       "      <td>NaN</td>\n",
       "      <td>11916</td>\n",
       "    </tr>\n",
       "    <tr>\n",
       "      <th>761</th>\n",
       "      <td>ATOM</td>\n",
       "      <td>11870</td>\n",
       "      <td></td>\n",
       "      <td>CA</td>\n",
       "      <td></td>\n",
       "      <td>GLN</td>\n",
       "      <td></td>\n",
       "      <td>B</td>\n",
       "      <td>556</td>\n",
       "      <td></td>\n",
       "      <td>...</td>\n",
       "      <td>4.861</td>\n",
       "      <td>7.268</td>\n",
       "      <td>11.935</td>\n",
       "      <td>1.0</td>\n",
       "      <td>52.62</td>\n",
       "      <td></td>\n",
       "      <td></td>\n",
       "      <td>C</td>\n",
       "      <td>NaN</td>\n",
       "      <td>11932</td>\n",
       "    </tr>\n",
       "    <tr>\n",
       "      <th>762</th>\n",
       "      <td>ATOM</td>\n",
       "      <td>11887</td>\n",
       "      <td></td>\n",
       "      <td>CA</td>\n",
       "      <td></td>\n",
       "      <td>ARG</td>\n",
       "      <td></td>\n",
       "      <td>B</td>\n",
       "      <td>557</td>\n",
       "      <td></td>\n",
       "      <td>...</td>\n",
       "      <td>4.107</td>\n",
       "      <td>6.874</td>\n",
       "      <td>15.585</td>\n",
       "      <td>1.0</td>\n",
       "      <td>62.45</td>\n",
       "      <td></td>\n",
       "      <td></td>\n",
       "      <td>C</td>\n",
       "      <td>NaN</td>\n",
       "      <td>11949</td>\n",
       "    </tr>\n",
       "  </tbody>\n",
       "</table>\n",
       "<p>763 rows × 21 columns</p>\n",
       "</div>"
      ],
      "text/plain": [
       "    record_name  atom_number blank_1 atom_name alt_loc residue_name blank_2  \\\n",
       "0          ATOM            5                CA                  SER           \n",
       "1          ATOM           16                CA                  SER           \n",
       "2          ATOM           27                CA                  SER           \n",
       "3          ATOM           38                CA                  GLU           \n",
       "4          ATOM           53                CA                  ILE           \n",
       "..          ...          ...     ...       ...     ...          ...     ...   \n",
       "758        ATOM        11819                CA                  LEU           \n",
       "759        ATOM        11838                CA                  HIS           \n",
       "760        ATOM        11854                CA                  VAL           \n",
       "761        ATOM        11870                CA                  GLN           \n",
       "762        ATOM        11887                CA                  ARG           \n",
       "\n",
       "    chain_id  residue_number insertion  ... x_coord  y_coord  z_coord  \\\n",
       "0          A               3            ...   0.884   13.426    4.336   \n",
       "1          A               4            ...   0.265   12.642    7.990   \n",
       "2          A               5            ...   3.737   11.091    8.336   \n",
       "3          A               6            ...   5.644   14.013    6.883   \n",
       "4          A               7            ...   7.525   16.672    8.878   \n",
       "..       ...             ...       ...  ...     ...      ...      ...   \n",
       "758        B             553            ...  11.245   13.477    7.506   \n",
       "759        B             554            ...   8.708   10.677    7.095   \n",
       "760        B             555            ...   7.711    9.133   10.418   \n",
       "761        B             556            ...   4.861    7.268   11.935   \n",
       "762        B             557            ...   4.107    6.874   15.585   \n",
       "\n",
       "     occupancy  b_factor  blank_4 segment_id element_symbol charge  line_idx  \n",
       "0          1.0     65.22                                  C    NaN        66  \n",
       "1          1.0     52.61                                  C    NaN        77  \n",
       "2          1.0     33.86                                  C    NaN        88  \n",
       "3          1.0     35.21                                  C    NaN        99  \n",
       "4          1.0     30.39                                  C    NaN       114  \n",
       "..         ...       ...      ...        ...            ...    ...       ...  \n",
       "758        1.0     36.70                                  C    NaN     11881  \n",
       "759        1.0     33.86                                  C    NaN     11900  \n",
       "760        1.0     35.94                                  C    NaN     11916  \n",
       "761        1.0     52.62                                  C    NaN     11932  \n",
       "762        1.0     62.45                                  C    NaN     11949  \n",
       "\n",
       "[763 rows x 21 columns]"
      ]
     },
     "execution_count": 3,
     "metadata": {},
     "output_type": "execute_result"
    }
   ],
   "source": [
    "protein = PandasPdb().read_pdb('1ajn/1ajn_protein.pdb')\n",
    "#protein.df['ATOM'].iloc[[1639]]\n",
    "#protein.df['ATOM'] = protein.df['ATOM'][protein.df['ATOM']['element_symbol'] != 'H'] \n",
    "protein.df['ATOM'] = protein.df['ATOM'][(protein.df['ATOM']['element_symbol'] != 'H') & (protein.df['ATOM']['atom_name'] == 'CA')]\n",
    "# protein.df['ATOM'] = protein.df['ATOM'][protein.df['ATOM']['atom_name'] != 'HB1']\n",
    "# protein.df['ATOM'] = protein.df['ATOM'][protein.df['ATOM']['atom_name'] != 'HB2']\n",
    "protein.df['ATOM'] = protein.df['ATOM'].reset_index()\n",
    "protein.df['ATOM'].head()\n",
    "protein.df[\"ATOM\"].drop(['index'], axis=1)"
   ]
  },
  {
   "cell_type": "code",
   "execution_count": 4,
   "metadata": {},
   "outputs": [
    {
     "data": {
      "text/plain": [
       "'A'"
      ]
     },
     "execution_count": 4,
     "metadata": {},
     "output_type": "execute_result"
    }
   ],
   "source": [
    "import numpy as np\n",
    "chain = np.unique(protein.df['ATOM']['chain_id'])\n",
    "chain[0]"
   ]
  },
  {
   "cell_type": "code",
   "execution_count": 5,
   "metadata": {},
   "outputs": [
    {
     "data": {
      "text/html": [
       "<div>\n",
       "<style scoped>\n",
       "    .dataframe tbody tr th:only-of-type {\n",
       "        vertical-align: middle;\n",
       "    }\n",
       "\n",
       "    .dataframe tbody tr th {\n",
       "        vertical-align: top;\n",
       "    }\n",
       "\n",
       "    .dataframe thead th {\n",
       "        text-align: right;\n",
       "    }\n",
       "</style>\n",
       "<table border=\"1\" class=\"dataframe\">\n",
       "  <thead>\n",
       "    <tr style=\"text-align: right;\">\n",
       "      <th></th>\n",
       "      <th>index</th>\n",
       "      <th>record_name</th>\n",
       "      <th>atom_number</th>\n",
       "      <th>blank_1</th>\n",
       "      <th>atom_name</th>\n",
       "      <th>alt_loc</th>\n",
       "      <th>residue_name</th>\n",
       "      <th>blank_2</th>\n",
       "      <th>chain_id</th>\n",
       "      <th>residue_number</th>\n",
       "      <th>...</th>\n",
       "      <th>x_coord</th>\n",
       "      <th>y_coord</th>\n",
       "      <th>z_coord</th>\n",
       "      <th>occupancy</th>\n",
       "      <th>b_factor</th>\n",
       "      <th>blank_4</th>\n",
       "      <th>segment_id</th>\n",
       "      <th>element_symbol</th>\n",
       "      <th>charge</th>\n",
       "      <th>line_idx</th>\n",
       "    </tr>\n",
       "  </thead>\n",
       "  <tbody>\n",
       "    <tr>\n",
       "      <th>0</th>\n",
       "      <td>206</td>\n",
       "      <td>ATOM</td>\n",
       "      <td>3266</td>\n",
       "      <td></td>\n",
       "      <td>CA</td>\n",
       "      <td></td>\n",
       "      <td>SER</td>\n",
       "      <td></td>\n",
       "      <td>B</td>\n",
       "      <td>1</td>\n",
       "      <td>...</td>\n",
       "      <td>13.349</td>\n",
       "      <td>41.955</td>\n",
       "      <td>33.044</td>\n",
       "      <td>1.0</td>\n",
       "      <td>12.79</td>\n",
       "      <td></td>\n",
       "      <td></td>\n",
       "      <td>C</td>\n",
       "      <td>NaN</td>\n",
       "      <td>3328</td>\n",
       "    </tr>\n",
       "    <tr>\n",
       "      <th>1</th>\n",
       "      <td>207</td>\n",
       "      <td>ATOM</td>\n",
       "      <td>3277</td>\n",
       "      <td></td>\n",
       "      <td>CA</td>\n",
       "      <td></td>\n",
       "      <td>ASN</td>\n",
       "      <td></td>\n",
       "      <td>B</td>\n",
       "      <td>2</td>\n",
       "      <td>...</td>\n",
       "      <td>11.483</td>\n",
       "      <td>44.831</td>\n",
       "      <td>31.441</td>\n",
       "      <td>1.0</td>\n",
       "      <td>17.25</td>\n",
       "      <td></td>\n",
       "      <td></td>\n",
       "      <td>C</td>\n",
       "      <td>NaN</td>\n",
       "      <td>3339</td>\n",
       "    </tr>\n",
       "    <tr>\n",
       "      <th>2</th>\n",
       "      <td>208</td>\n",
       "      <td>ATOM</td>\n",
       "      <td>3291</td>\n",
       "      <td></td>\n",
       "      <td>CA</td>\n",
       "      <td></td>\n",
       "      <td>MET</td>\n",
       "      <td></td>\n",
       "      <td>B</td>\n",
       "      <td>3</td>\n",
       "      <td>...</td>\n",
       "      <td>8.570</td>\n",
       "      <td>45.215</td>\n",
       "      <td>29.053</td>\n",
       "      <td>1.0</td>\n",
       "      <td>14.32</td>\n",
       "      <td></td>\n",
       "      <td></td>\n",
       "      <td>C</td>\n",
       "      <td>NaN</td>\n",
       "      <td>3353</td>\n",
       "    </tr>\n",
       "    <tr>\n",
       "      <th>3</th>\n",
       "      <td>209</td>\n",
       "      <td>ATOM</td>\n",
       "      <td>3308</td>\n",
       "      <td></td>\n",
       "      <td>CA</td>\n",
       "      <td></td>\n",
       "      <td>TRP</td>\n",
       "      <td></td>\n",
       "      <td>B</td>\n",
       "      <td>4</td>\n",
       "      <td>...</td>\n",
       "      <td>6.784</td>\n",
       "      <td>48.155</td>\n",
       "      <td>27.488</td>\n",
       "      <td>1.0</td>\n",
       "      <td>16.82</td>\n",
       "      <td></td>\n",
       "      <td></td>\n",
       "      <td>C</td>\n",
       "      <td>NaN</td>\n",
       "      <td>3370</td>\n",
       "    </tr>\n",
       "    <tr>\n",
       "      <th>4</th>\n",
       "      <td>210</td>\n",
       "      <td>ATOM</td>\n",
       "      <td>3332</td>\n",
       "      <td></td>\n",
       "      <td>CA</td>\n",
       "      <td></td>\n",
       "      <td>VAL</td>\n",
       "      <td></td>\n",
       "      <td>B</td>\n",
       "      <td>5</td>\n",
       "      <td>...</td>\n",
       "      <td>3.561</td>\n",
       "      <td>47.646</td>\n",
       "      <td>25.511</td>\n",
       "      <td>1.0</td>\n",
       "      <td>25.55</td>\n",
       "      <td></td>\n",
       "      <td></td>\n",
       "      <td>C</td>\n",
       "      <td>NaN</td>\n",
       "      <td>3394</td>\n",
       "    </tr>\n",
       "    <tr>\n",
       "      <th>...</th>\n",
       "      <td>...</td>\n",
       "      <td>...</td>\n",
       "      <td>...</td>\n",
       "      <td>...</td>\n",
       "      <td>...</td>\n",
       "      <td>...</td>\n",
       "      <td>...</td>\n",
       "      <td>...</td>\n",
       "      <td>...</td>\n",
       "      <td>...</td>\n",
       "      <td>...</td>\n",
       "      <td>...</td>\n",
       "      <td>...</td>\n",
       "      <td>...</td>\n",
       "      <td>...</td>\n",
       "      <td>...</td>\n",
       "      <td>...</td>\n",
       "      <td>...</td>\n",
       "      <td>...</td>\n",
       "      <td>...</td>\n",
       "      <td>...</td>\n",
       "    </tr>\n",
       "    <tr>\n",
       "      <th>552</th>\n",
       "      <td>758</td>\n",
       "      <td>ATOM</td>\n",
       "      <td>11819</td>\n",
       "      <td></td>\n",
       "      <td>CA</td>\n",
       "      <td></td>\n",
       "      <td>LEU</td>\n",
       "      <td></td>\n",
       "      <td>B</td>\n",
       "      <td>553</td>\n",
       "      <td>...</td>\n",
       "      <td>11.245</td>\n",
       "      <td>13.477</td>\n",
       "      <td>7.506</td>\n",
       "      <td>1.0</td>\n",
       "      <td>36.70</td>\n",
       "      <td></td>\n",
       "      <td></td>\n",
       "      <td>C</td>\n",
       "      <td>NaN</td>\n",
       "      <td>11881</td>\n",
       "    </tr>\n",
       "    <tr>\n",
       "      <th>553</th>\n",
       "      <td>759</td>\n",
       "      <td>ATOM</td>\n",
       "      <td>11838</td>\n",
       "      <td></td>\n",
       "      <td>CA</td>\n",
       "      <td></td>\n",
       "      <td>HIS</td>\n",
       "      <td></td>\n",
       "      <td>B</td>\n",
       "      <td>554</td>\n",
       "      <td>...</td>\n",
       "      <td>8.708</td>\n",
       "      <td>10.677</td>\n",
       "      <td>7.095</td>\n",
       "      <td>1.0</td>\n",
       "      <td>33.86</td>\n",
       "      <td></td>\n",
       "      <td></td>\n",
       "      <td>C</td>\n",
       "      <td>NaN</td>\n",
       "      <td>11900</td>\n",
       "    </tr>\n",
       "    <tr>\n",
       "      <th>554</th>\n",
       "      <td>760</td>\n",
       "      <td>ATOM</td>\n",
       "      <td>11854</td>\n",
       "      <td></td>\n",
       "      <td>CA</td>\n",
       "      <td></td>\n",
       "      <td>VAL</td>\n",
       "      <td></td>\n",
       "      <td>B</td>\n",
       "      <td>555</td>\n",
       "      <td>...</td>\n",
       "      <td>7.711</td>\n",
       "      <td>9.133</td>\n",
       "      <td>10.418</td>\n",
       "      <td>1.0</td>\n",
       "      <td>35.94</td>\n",
       "      <td></td>\n",
       "      <td></td>\n",
       "      <td>C</td>\n",
       "      <td>NaN</td>\n",
       "      <td>11916</td>\n",
       "    </tr>\n",
       "    <tr>\n",
       "      <th>555</th>\n",
       "      <td>761</td>\n",
       "      <td>ATOM</td>\n",
       "      <td>11870</td>\n",
       "      <td></td>\n",
       "      <td>CA</td>\n",
       "      <td></td>\n",
       "      <td>GLN</td>\n",
       "      <td></td>\n",
       "      <td>B</td>\n",
       "      <td>556</td>\n",
       "      <td>...</td>\n",
       "      <td>4.861</td>\n",
       "      <td>7.268</td>\n",
       "      <td>11.935</td>\n",
       "      <td>1.0</td>\n",
       "      <td>52.62</td>\n",
       "      <td></td>\n",
       "      <td></td>\n",
       "      <td>C</td>\n",
       "      <td>NaN</td>\n",
       "      <td>11932</td>\n",
       "    </tr>\n",
       "    <tr>\n",
       "      <th>556</th>\n",
       "      <td>762</td>\n",
       "      <td>ATOM</td>\n",
       "      <td>11887</td>\n",
       "      <td></td>\n",
       "      <td>CA</td>\n",
       "      <td></td>\n",
       "      <td>ARG</td>\n",
       "      <td></td>\n",
       "      <td>B</td>\n",
       "      <td>557</td>\n",
       "      <td>...</td>\n",
       "      <td>4.107</td>\n",
       "      <td>6.874</td>\n",
       "      <td>15.585</td>\n",
       "      <td>1.0</td>\n",
       "      <td>62.45</td>\n",
       "      <td></td>\n",
       "      <td></td>\n",
       "      <td>C</td>\n",
       "      <td>NaN</td>\n",
       "      <td>11949</td>\n",
       "    </tr>\n",
       "  </tbody>\n",
       "</table>\n",
       "<p>557 rows × 22 columns</p>\n",
       "</div>"
      ],
      "text/plain": [
       "     index record_name  atom_number blank_1 atom_name alt_loc residue_name  \\\n",
       "0      206        ATOM         3266                CA                  SER   \n",
       "1      207        ATOM         3277                CA                  ASN   \n",
       "2      208        ATOM         3291                CA                  MET   \n",
       "3      209        ATOM         3308                CA                  TRP   \n",
       "4      210        ATOM         3332                CA                  VAL   \n",
       "..     ...         ...          ...     ...       ...     ...          ...   \n",
       "552    758        ATOM        11819                CA                  LEU   \n",
       "553    759        ATOM        11838                CA                  HIS   \n",
       "554    760        ATOM        11854                CA                  VAL   \n",
       "555    761        ATOM        11870                CA                  GLN   \n",
       "556    762        ATOM        11887                CA                  ARG   \n",
       "\n",
       "    blank_2 chain_id  residue_number  ... x_coord y_coord  z_coord  occupancy  \\\n",
       "0                  B               1  ...  13.349  41.955   33.044        1.0   \n",
       "1                  B               2  ...  11.483  44.831   31.441        1.0   \n",
       "2                  B               3  ...   8.570  45.215   29.053        1.0   \n",
       "3                  B               4  ...   6.784  48.155   27.488        1.0   \n",
       "4                  B               5  ...   3.561  47.646   25.511        1.0   \n",
       "..      ...      ...             ...  ...     ...     ...      ...        ...   \n",
       "552                B             553  ...  11.245  13.477    7.506        1.0   \n",
       "553                B             554  ...   8.708  10.677    7.095        1.0   \n",
       "554                B             555  ...   7.711   9.133   10.418        1.0   \n",
       "555                B             556  ...   4.861   7.268   11.935        1.0   \n",
       "556                B             557  ...   4.107   6.874   15.585        1.0   \n",
       "\n",
       "     b_factor  blank_4  segment_id element_symbol charge line_idx  \n",
       "0       12.79                                   C    NaN     3328  \n",
       "1       17.25                                   C    NaN     3339  \n",
       "2       14.32                                   C    NaN     3353  \n",
       "3       16.82                                   C    NaN     3370  \n",
       "4       25.55                                   C    NaN     3394  \n",
       "..        ...      ...         ...            ...    ...      ...  \n",
       "552     36.70                                   C    NaN    11881  \n",
       "553     33.86                                   C    NaN    11900  \n",
       "554     35.94                                   C    NaN    11916  \n",
       "555     52.62                                   C    NaN    11932  \n",
       "556     62.45                                   C    NaN    11949  \n",
       "\n",
       "[557 rows x 22 columns]"
      ]
     },
     "execution_count": 5,
     "metadata": {},
     "output_type": "execute_result"
    }
   ],
   "source": [
    "protein_chainA = protein.df['ATOM'].loc[protein.df['ATOM']['chain_id'] == 'A'].drop(['index'], axis=1).reset_index()\n",
    "chainA_coord = protein_chainA[[\"x_coord\",\"y_coord\",\"z_coord\"]].values\n",
    "\n",
    "\n",
    "protein_chainB = protein.df['ATOM'].loc[protein.df['ATOM']['chain_id'] == 'B'].drop(['index'], axis=1).reset_index()\n",
    "chainB_coord = protein_chainB[[\"x_coord\",\"y_coord\",\"z_coord\"]].values\n",
    "\n",
    "hetatm_coord = protein.df['HETATM'][[\"x_coord\",\"y_coord\",\"z_coord\"]].values\n",
    "protein_chainB"
   ]
  },
  {
   "cell_type": "code",
   "execution_count": 6,
   "metadata": {},
   "outputs": [],
   "source": [
    "#protein_A = protein.df['ATOM'].loc[protein.df['ATOM']['chain_id'] == 'B']\n",
    "#protein_A"
   ]
  },
  {
   "cell_type": "code",
   "execution_count": 7,
   "metadata": {},
   "outputs": [
    {
     "data": {
      "text/plain": [
       "array([ 3323, 11972])"
      ]
     },
     "execution_count": 7,
     "metadata": {},
     "output_type": "execute_result"
    }
   ],
   "source": [
    "import numpy as np\n",
    "ter_pos = np.array(protein.df['OTHERS'].loc[protein.df['OTHERS']['record_name'] == 'TER']['line_idx'])\n",
    "end_pos = np.array(protein.df['OTHERS'].loc[protein.df['OTHERS']['record_name'] == 'END']['line_idx'])\n",
    "ter_pos"
   ]
  },
  {
   "cell_type": "code",
   "execution_count": 8,
   "metadata": {},
   "outputs": [
    {
     "data": {
      "image/png": "[encoded data removed]",
      "text/plain": [
       "<Figure size 432x288 with 1 Axes>"
      ]
     },
     "metadata": {
      "needs_background": "light"
     },
     "output_type": "display_data"
    }
   ],
   "source": [
    "import matplotlib.pyplot as plt\n",
    "protein.df['ATOM']['b_factor'].plot(kind='hist')\n",
    "plt.title('Distribution of B-Factors')\n",
    "plt.xlabel('B-factor')\n",
    "plt.ylabel('count')\n",
    "plt.show()"
   ]
  },
  {
   "cell_type": "code",
   "execution_count": 9,
   "metadata": {},
   "outputs": [],
   "source": [
    "from biopandas.mol2 import PandasMol2"
   ]
  },
  {
   "cell_type": "code",
   "execution_count": 11,
   "metadata": {},
   "outputs": [
    {
     "data": {
      "text/html": [
       "<div>\n",
       "<style scoped>\n",
       "    .dataframe tbody tr th:only-of-type {\n",
       "        vertical-align: middle;\n",
       "    }\n",
       "\n",
       "    .dataframe tbody tr th {\n",
       "        vertical-align: top;\n",
       "    }\n",
       "\n",
       "    .dataframe thead th {\n",
       "        text-align: right;\n",
       "    }\n",
       "</style>\n",
       "<table border=\"1\" class=\"dataframe\">\n",
       "  <thead>\n",
       "    <tr style=\"text-align: right;\">\n",
       "      <th></th>\n",
       "      <th>atom_id</th>\n",
       "      <th>atom_name</th>\n",
       "      <th>x</th>\n",
       "      <th>y</th>\n",
       "      <th>z</th>\n",
       "      <th>atom_type</th>\n",
       "      <th>subst_id</th>\n",
       "      <th>subst_name</th>\n",
       "      <th>charge</th>\n",
       "    </tr>\n",
       "  </thead>\n",
       "  <tbody>\n",
       "    <tr>\n",
       "      <th>0</th>\n",
       "      <td>1</td>\n",
       "      <td>C1</td>\n",
       "      <td>13.9920</td>\n",
       "      <td>37.8040</td>\n",
       "      <td>36.4180</td>\n",
       "      <td>C.2</td>\n",
       "      <td>1</td>\n",
       "      <td>AAN</td>\n",
       "      <td>0.3576</td>\n",
       "    </tr>\n",
       "    <tr>\n",
       "      <th>1</th>\n",
       "      <td>2</td>\n",
       "      <td>C2</td>\n",
       "      <td>13.8720</td>\n",
       "      <td>36.3160</td>\n",
       "      <td>36.0350</td>\n",
       "      <td>C.3</td>\n",
       "      <td>1</td>\n",
       "      <td>AAN</td>\n",
       "      <td>0.0965</td>\n",
       "    </tr>\n",
       "    <tr>\n",
       "      <th>2</th>\n",
       "      <td>3</td>\n",
       "      <td>C1'</td>\n",
       "      <td>12.8420</td>\n",
       "      <td>36.0860</td>\n",
       "      <td>34.9540</td>\n",
       "      <td>C.ar</td>\n",
       "      <td>1</td>\n",
       "      <td>AAN</td>\n",
       "      <td>-0.0192</td>\n",
       "    </tr>\n",
       "    <tr>\n",
       "      <th>3</th>\n",
       "      <td>4</td>\n",
       "      <td>C2'</td>\n",
       "      <td>13.0210</td>\n",
       "      <td>36.6710</td>\n",
       "      <td>33.7170</td>\n",
       "      <td>C.ar</td>\n",
       "      <td>1</td>\n",
       "      <td>AAN</td>\n",
       "      <td>-0.0501</td>\n",
       "    </tr>\n",
       "    <tr>\n",
       "      <th>4</th>\n",
       "      <td>5</td>\n",
       "      <td>C3'</td>\n",
       "      <td>11.9730</td>\n",
       "      <td>36.5260</td>\n",
       "      <td>32.8230</td>\n",
       "      <td>C.ar</td>\n",
       "      <td>1</td>\n",
       "      <td>AAN</td>\n",
       "      <td>-0.0301</td>\n",
       "    </tr>\n",
       "    <tr>\n",
       "      <th>5</th>\n",
       "      <td>6</td>\n",
       "      <td>C4'</td>\n",
       "      <td>10.8990</td>\n",
       "      <td>35.7310</td>\n",
       "      <td>33.1130</td>\n",
       "      <td>C.ar</td>\n",
       "      <td>1</td>\n",
       "      <td>AAN</td>\n",
       "      <td>0.1306</td>\n",
       "    </tr>\n",
       "    <tr>\n",
       "      <th>6</th>\n",
       "      <td>7</td>\n",
       "      <td>N4'</td>\n",
       "      <td>10.1470</td>\n",
       "      <td>35.5500</td>\n",
       "      <td>32.3480</td>\n",
       "      <td>N.2</td>\n",
       "      <td>1</td>\n",
       "      <td>AAN</td>\n",
       "      <td>0.0377</td>\n",
       "    </tr>\n",
       "    <tr>\n",
       "      <th>7</th>\n",
       "      <td>8</td>\n",
       "      <td>O3'</td>\n",
       "      <td>10.4890</td>\n",
       "      <td>36.2740</td>\n",
       "      <td>31.1760</td>\n",
       "      <td>O.2</td>\n",
       "      <td>1</td>\n",
       "      <td>AAN</td>\n",
       "      <td>-0.1524</td>\n",
       "    </tr>\n",
       "    <tr>\n",
       "      <th>8</th>\n",
       "      <td>9</td>\n",
       "      <td>O4'</td>\n",
       "      <td>9.0250</td>\n",
       "      <td>34.7280</td>\n",
       "      <td>32.6160</td>\n",
       "      <td>O.2</td>\n",
       "      <td>1</td>\n",
       "      <td>AAN</td>\n",
       "      <td>-0.1524</td>\n",
       "    </tr>\n",
       "    <tr>\n",
       "      <th>9</th>\n",
       "      <td>10</td>\n",
       "      <td>C5'</td>\n",
       "      <td>10.7210</td>\n",
       "      <td>35.0520</td>\n",
       "      <td>34.3140</td>\n",
       "      <td>C.ar</td>\n",
       "      <td>1</td>\n",
       "      <td>AAN</td>\n",
       "      <td>-0.0301</td>\n",
       "    </tr>\n",
       "    <tr>\n",
       "      <th>10</th>\n",
       "      <td>11</td>\n",
       "      <td>C6'</td>\n",
       "      <td>11.7420</td>\n",
       "      <td>35.2890</td>\n",
       "      <td>35.2320</td>\n",
       "      <td>C.ar</td>\n",
       "      <td>1</td>\n",
       "      <td>AAN</td>\n",
       "      <td>-0.0501</td>\n",
       "    </tr>\n",
       "    <tr>\n",
       "      <th>11</th>\n",
       "      <td>12</td>\n",
       "      <td>O1</td>\n",
       "      <td>14.6010</td>\n",
       "      <td>38.1410</td>\n",
       "      <td>37.4320</td>\n",
       "      <td>O.co2</td>\n",
       "      <td>1</td>\n",
       "      <td>AAN</td>\n",
       "      <td>-0.2595</td>\n",
       "    </tr>\n",
       "    <tr>\n",
       "      <th>12</th>\n",
       "      <td>13</td>\n",
       "      <td>O2</td>\n",
       "      <td>13.5040</td>\n",
       "      <td>38.7610</td>\n",
       "      <td>35.8060</td>\n",
       "      <td>O.co2</td>\n",
       "      <td>1</td>\n",
       "      <td>AAN</td>\n",
       "      <td>-0.2595</td>\n",
       "    </tr>\n",
       "    <tr>\n",
       "      <th>13</th>\n",
       "      <td>14</td>\n",
       "      <td>H1</td>\n",
       "      <td>13.5823</td>\n",
       "      <td>35.7426</td>\n",
       "      <td>36.9279</td>\n",
       "      <td>H</td>\n",
       "      <td>1</td>\n",
       "      <td>AAN</td>\n",
       "      <td>0.0654</td>\n",
       "    </tr>\n",
       "    <tr>\n",
       "      <th>14</th>\n",
       "      <td>15</td>\n",
       "      <td>H2</td>\n",
       "      <td>14.8493</td>\n",
       "      <td>35.9633</td>\n",
       "      <td>35.6738</td>\n",
       "      <td>H</td>\n",
       "      <td>1</td>\n",
       "      <td>AAN</td>\n",
       "      <td>0.0654</td>\n",
       "    </tr>\n",
       "    <tr>\n",
       "      <th>15</th>\n",
       "      <td>16</td>\n",
       "      <td>H3</td>\n",
       "      <td>13.9256</td>\n",
       "      <td>37.2105</td>\n",
       "      <td>33.4609</td>\n",
       "      <td>H</td>\n",
       "      <td>1</td>\n",
       "      <td>AAN</td>\n",
       "      <td>0.0576</td>\n",
       "    </tr>\n",
       "    <tr>\n",
       "      <th>16</th>\n",
       "      <td>17</td>\n",
       "      <td>H4</td>\n",
       "      <td>12.0049</td>\n",
       "      <td>37.0525</td>\n",
       "      <td>31.8760</td>\n",
       "      <td>H</td>\n",
       "      <td>1</td>\n",
       "      <td>AAN</td>\n",
       "      <td>0.0674</td>\n",
       "    </tr>\n",
       "    <tr>\n",
       "      <th>17</th>\n",
       "      <td>18</td>\n",
       "      <td>H5</td>\n",
       "      <td>9.8748</td>\n",
       "      <td>34.4049</td>\n",
       "      <td>34.5150</td>\n",
       "      <td>H</td>\n",
       "      <td>1</td>\n",
       "      <td>AAN</td>\n",
       "      <td>0.0674</td>\n",
       "    </tr>\n",
       "    <tr>\n",
       "      <th>18</th>\n",
       "      <td>19</td>\n",
       "      <td>H6</td>\n",
       "      <td>11.6730</td>\n",
       "      <td>34.8281</td>\n",
       "      <td>36.2107</td>\n",
       "      <td>H</td>\n",
       "      <td>1</td>\n",
       "      <td>AAN</td>\n",
       "      <td>0.0576</td>\n",
       "    </tr>\n",
       "  </tbody>\n",
       "</table>\n",
       "</div>"
      ],
      "text/plain": [
       "    atom_id atom_name        x        y        z atom_type  subst_id  \\\n",
       "0         1        C1  13.9920  37.8040  36.4180       C.2         1   \n",
       "1         2        C2  13.8720  36.3160  36.0350       C.3         1   \n",
       "2         3       C1'  12.8420  36.0860  34.9540      C.ar         1   \n",
       "3         4       C2'  13.0210  36.6710  33.7170      C.ar         1   \n",
       "4         5       C3'  11.9730  36.5260  32.8230      C.ar         1   \n",
       "5         6       C4'  10.8990  35.7310  33.1130      C.ar         1   \n",
       "6         7       N4'  10.1470  35.5500  32.3480       N.2         1   \n",
       "7         8       O3'  10.4890  36.2740  31.1760       O.2         1   \n",
       "8         9       O4'   9.0250  34.7280  32.6160       O.2         1   \n",
       "9        10       C5'  10.7210  35.0520  34.3140      C.ar         1   \n",
       "10       11       C6'  11.7420  35.2890  35.2320      C.ar         1   \n",
       "11       12        O1  14.6010  38.1410  37.4320     O.co2         1   \n",
       "12       13        O2  13.5040  38.7610  35.8060     O.co2         1   \n",
       "13       14        H1  13.5823  35.7426  36.9279         H         1   \n",
       "14       15        H2  14.8493  35.9633  35.6738         H         1   \n",
       "15       16        H3  13.9256  37.2105  33.4609         H         1   \n",
       "16       17        H4  12.0049  37.0525  31.8760         H         1   \n",
       "17       18        H5   9.8748  34.4049  34.5150         H         1   \n",
       "18       19        H6  11.6730  34.8281  36.2107         H         1   \n",
       "\n",
       "   subst_name  charge  \n",
       "0         AAN  0.3576  \n",
       "1         AAN  0.0965  \n",
       "2         AAN -0.0192  \n",
       "3         AAN -0.0501  \n",
       "4         AAN -0.0301  \n",
       "5         AAN  0.1306  \n",
       "6         AAN  0.0377  \n",
       "7         AAN -0.1524  \n",
       "8         AAN -0.1524  \n",
       "9         AAN -0.0301  \n",
       "10        AAN -0.0501  \n",
       "11        AAN -0.2595  \n",
       "12        AAN -0.2595  \n",
       "13        AAN  0.0654  \n",
       "14        AAN  0.0654  \n",
       "15        AAN  0.0576  \n",
       "16        AAN  0.0674  \n",
       "17        AAN  0.0674  \n",
       "18        AAN  0.0576  "
      ]
     },
     "execution_count": 11,
     "metadata": {},
     "output_type": "execute_result"
    }
   ],
   "source": [
    "ligand = PandasMol2().read_mol2('1ajn/1ajn_ligand.mol2')\n",
    "ligand.df"
   ]
  },
  {
   "cell_type": "code",
   "execution_count": 12,
   "metadata": {},
   "outputs": [],
   "source": [
    "ligand_coord = ligand.df[[\"x\", \"y\", \"z\"]].values"
   ]
  },
  {
   "cell_type": "code",
   "execution_count": 13,
   "metadata": {},
   "outputs": [
    {
     "ename": "ModuleNotFoundError",
     "evalue": "No module named 'scipy'",
     "output_type": "error",
     "traceback": [
      "\u001b[0;31m---------------------------------------------------------------------------\u001b[0m",
      "\u001b[0;31mModuleNotFoundError\u001b[0m                       Traceback (most recent call last)",
      "\u001b[0;32m<ipython-input-13-7beeef2b9355>\u001b[0m in \u001b[0;36m<module>\u001b[0;34m\u001b[0m\n\u001b[0;32m----> 1\u001b[0;31m \u001b[0;32mimport\u001b[0m \u001b[0mscipy\u001b[0m\u001b[0;34m.\u001b[0m\u001b[0mspatial\u001b[0m \u001b[0;32mas\u001b[0m \u001b[0msp\u001b[0m\u001b[0;34m\u001b[0m\u001b[0;34m\u001b[0m\u001b[0m\n\u001b[0m\u001b[1;32m      2\u001b[0m \u001b[0mdistance_proteinA\u001b[0m \u001b[0;34m=\u001b[0m \u001b[0msp\u001b[0m\u001b[0;34m.\u001b[0m\u001b[0mdistance_matrix\u001b[0m\u001b[0;34m(\u001b[0m\u001b[0mligand_coord\u001b[0m\u001b[0;34m,\u001b[0m \u001b[0mchainA_coord\u001b[0m\u001b[0;34m,\u001b[0m \u001b[0mp\u001b[0m\u001b[0;34m=\u001b[0m\u001b[0;36m2\u001b[0m\u001b[0;34m,\u001b[0m \u001b[0mthreshold\u001b[0m\u001b[0;34m=\u001b[0m\u001b[0;36m1000000\u001b[0m\u001b[0;34m)\u001b[0m\u001b[0;34m\u001b[0m\u001b[0;34m\u001b[0m\u001b[0m\n\u001b[1;32m      3\u001b[0m \u001b[0mdistance_proteinB\u001b[0m \u001b[0;34m=\u001b[0m \u001b[0msp\u001b[0m\u001b[0;34m.\u001b[0m\u001b[0mdistance_matrix\u001b[0m\u001b[0;34m(\u001b[0m\u001b[0mligand_coord\u001b[0m\u001b[0;34m,\u001b[0m \u001b[0mchainB_coord\u001b[0m\u001b[0;34m,\u001b[0m \u001b[0mp\u001b[0m\u001b[0;34m=\u001b[0m\u001b[0;36m2\u001b[0m\u001b[0;34m,\u001b[0m \u001b[0mthreshold\u001b[0m\u001b[0;34m=\u001b[0m\u001b[0;36m1000000\u001b[0m\u001b[0;34m)\u001b[0m\u001b[0;34m\u001b[0m\u001b[0;34m\u001b[0m\u001b[0m\n\u001b[1;32m      4\u001b[0m \u001b[0mdistance_matrix_hetatm\u001b[0m \u001b[0;34m=\u001b[0m \u001b[0msp\u001b[0m\u001b[0;34m.\u001b[0m\u001b[0mdistance_matrix\u001b[0m\u001b[0;34m(\u001b[0m\u001b[0mligand_coord\u001b[0m\u001b[0;34m,\u001b[0m \u001b[0mhetatm_coord\u001b[0m\u001b[0;34m,\u001b[0m \u001b[0mp\u001b[0m\u001b[0;34m=\u001b[0m\u001b[0;36m2\u001b[0m\u001b[0;34m,\u001b[0m \u001b[0mthreshold\u001b[0m\u001b[0;34m=\u001b[0m\u001b[0;36m1000000\u001b[0m\u001b[0;34m)\u001b[0m\u001b[0;34m\u001b[0m\u001b[0;34m\u001b[0m\u001b[0m\n\u001b[1;32m      5\u001b[0m \u001b[0mdistance_proteinB\u001b[0m\u001b[0;34m.\u001b[0m\u001b[0mshape\u001b[0m\u001b[0;34m\u001b[0m\u001b[0;34m\u001b[0m\u001b[0m\n",
      "\u001b[0;31mModuleNotFoundError\u001b[0m: No module named 'scipy'"
     ]
    }
   ],
   "source": [
    "import scipy.spatial as sp\n",
    "distance_proteinA = sp.distance_matrix(ligand_coord, chainA_coord, p=2, threshold=1000000)\n",
    "distance_proteinB = sp.distance_matrix(ligand_coord, chainB_coord, p=2, threshold=1000000)\n",
    "distance_matrix_hetatm = sp.distance_matrix(ligand_coord, hetatm_coord, p=2, threshold=1000000)\n",
    "distance_proteinB.shape"
   ]
  },
  {
   "cell_type": "code",
   "execution_count": 45,
   "metadata": {
    "scrolled": true
   },
   "outputs": [
    {
     "data": {
      "text/plain": [
       "array([  0,   1,   2,  19,  20,  21,  22,  23,  24,  47,  48,  55,  56,\n",
       "        65,  66,  67,  68,  69,  70, 174, 175, 176, 177, 178, 239, 240,\n",
       "       384, 385, 479, 480, 481])"
      ]
     },
     "execution_count": 45,
     "metadata": {},
     "output_type": "execute_result"
    }
   ],
   "source": [
    "import numpy as np\n",
    "indexArr_chainA= np.argwhere(distance_proteinA < 10)[:,1]\n",
    "indexArr_chainB= np.argwhere(distance_proteinB < 10)[:,1]\n",
    "indexArr_hetatm = np.argwhere(distance_matrix_hetatm < 8)[:,1]\n",
    "indexArr_chainA = np.unique(indexArr_chainA)\n",
    "indexArr_chainB = np.unique(indexArr_chainB)\n",
    "indexArr_hetatm = np.unique(indexArr_hetatm)\n",
    "indexArr_chainB"
   ]
  },
  {
   "cell_type": "code",
   "execution_count": 46,
   "metadata": {},
   "outputs": [],
   "source": [
    "# protein.df['HETATM'] = protein.df['HETATM'].loc[protein.df['HETATM'].index.isin(indexArr_hetatm)]\n",
    "# protein.df['ATOM'] = protein.df['ATOM'].loc[protein.df['ATOM'].index.isin(indexArr_atm)]\n",
    "# protein.df['ATOM']"
   ]
  },
  {
   "cell_type": "code",
   "execution_count": 47,
   "metadata": {},
   "outputs": [],
   "source": [
    "# import copy\n",
    "# protein_copy = copy.deepcopy(protein)"
   ]
  },
  {
   "cell_type": "code",
   "execution_count": 48,
   "metadata": {},
   "outputs": [
    {
     "data": {
      "text/plain": [
       "array([  1,   2,   3,  20,  21,  22,  23,  24,  25,  48,  49,  56,  57,\n",
       "        66,  67,  68,  69,  70,  71, 175, 176, 177, 178, 179, 240, 241,\n",
       "       385, 386, 480, 481, 482])"
      ]
     },
     "execution_count": 48,
     "metadata": {},
     "output_type": "execute_result"
    }
   ],
   "source": [
    "res_id = np.unique(protein_chainB.loc[protein_chainB.index.isin(indexArr_chainB)]['residue_number'])\n",
    "res_id"
   ]
  },
  {
   "cell_type": "code",
   "execution_count": null,
   "metadata": {},
   "outputs": [],
   "source": [
    "protein.df['ATOM'] = protein.df['ATOM'].iloc[indexArr_atm]\n",
    "#protein.df['HETATM'] = protein.df['HETATM'].iloc[indexArr_hetatm]"
   ]
  },
  {
   "cell_type": "code",
   "execution_count": null,
   "metadata": {},
   "outputs": [],
   "source": [
    "np.unique(protein.df['ATOM']['residue_number'])"
   ]
  },
  {
   "cell_type": "code",
   "execution_count": null,
   "metadata": {},
   "outputs": [],
   "source": [
    "# protein.df['HETATM'] = protein.df['HETATM'].loc[protein.df['HETATM']['record_name'] != 'HETATM']\n",
    "protein.df['ATOM'].head()"
   ]
  },
  {
   "cell_type": "code",
   "execution_count": null,
   "metadata": {},
   "outputs": [],
   "source": [
    "protein.to_pdb(path='protein_stripped.pdb', \n",
    "            records=None, \n",
    "            gz=False, \n",
    "            append_newline=True)"
   ]
  },
  {
   "cell_type": "code",
   "execution_count": null,
   "metadata": {},
   "outputs": [],
   "source": [
    "from pathlib import Path\n",
    "\n",
    "p = Path('PDBbind/refined-set/')\n",
    "subdirectories = [x for x in p.iterdir() if x.is_dir()]\n",
    "\n",
    "print(str(subdirectories[0]))"
   ]
  },
  {
   "cell_type": "code",
   "execution_count": null,
   "metadata": {},
   "outputs": [],
   "source": [
    "from biopandas.pdb import PandasPdb\n",
    "from biopandas.mol2 import PandasMol2\n",
    "import scipy.spatial as sp"
   ]
  },
  {
   "cell_type": "code",
   "execution_count": null,
   "metadata": {},
   "outputs": [],
   "source": [
    "i = 0\n",
    "\n",
    "out_path = './stripped_proteins/'\n",
    "for dir_name in subdirectories:\n",
    "    name = str(dir_name).split('/')[2]\n",
    "    protein_file_name = str(dir_name) + '/' + name + '_protein.pdb'\n",
    "    ligand_file_name = str(dir_name) + '/' + name + '_ligand.mol2'\n",
    "    #print(ligand_file_name)\n",
    "    protein = PandasPdb().read_pdb(protein_file_name)\n",
    "    protein_coord = protein.df['ATOM'][[\"x_coord\",\"y_coord\",\"z_coord\"]].values\n",
    "    ligand = PandasMol2().read_mol2(ligand_file_name)\n",
    "    ligand_coord = ligand.df[[\"x\", \"y\", \"z\"]].values\n",
    "    \n",
    "    distance_matrix = sp.distance_matrix(ligand_coord, protein_coord, p=2, threshold=1000000)\n",
    "    indexArr = np.argwhere(distance_matrix < 10)[:,1]\n",
    "    indexArr = np.unique(indexArr)\n",
    "    protein.df['ATOM'] = protein.df['ATOM'].iloc[indexArr]\n",
    "    protein.df['HETATM'] = protein.df['HETATM'].loc[protein.df['HETATM']['record_name'] != 'HETATM']\n",
    "    \n",
    "    out_file_name = out_path + name + '.pdb'\n",
    "    \n",
    "    \n",
    "    protein.to_pdb(path=out_file_name, \n",
    "            records=None, \n",
    "            gz=False, \n",
    "            append_newline=True)\n",
    "    \n",
    "    \n",
    "    i = i +1\n",
    "    print(i)\n"
   ]
  },
  {
   "cell_type": "code",
   "execution_count": null,
   "metadata": {},
   "outputs": [],
   "source": [
    "%matplotlib inline\n",
    "import matplotlib.pyplot as plt\n",
    "from matplotlib import style\n",
    "style.use('ggplot')"
   ]
  },
  {
   "cell_type": "code",
   "execution_count": null,
   "metadata": {},
   "outputs": [],
   "source": [
    "protein.df['ATOM'] = protein.df['ATOM'].loc[protein.df['ATOM']['residue_number'].isin(res_id)]"
   ]
  },
  {
   "cell_type": "code",
   "execution_count": null,
   "metadata": {},
   "outputs": [],
   "source": [
    "protein.df['ATOM']"
   ]
  },
  {
   "cell_type": "code",
   "execution_count": null,
   "metadata": {},
   "outputs": [],
   "source": [
    "protein.df['HETATM'] = protein.df['HETATM'].loc[protein.df['HETATM']['record_name'] != 'HETATM']\n",
    "protein.to_pdb(path='protein_stripped.pdb', \n",
    "            records=None, \n",
    "            gz=False, \n",
    "            append_newline=True)"
   ]
  },
  {
   "cell_type": "code",
   "execution_count": null,
   "metadata": {},
   "outputs": [],
   "source": [
    "pmol.df['atom_type'].value_counts().plot(kind='bar')\n",
    "plt.xlabel('atom type')\n",
    "plt.ylabel('count')\n",
    "plt.show()"
   ]
  },
  {
   "cell_type": "code",
   "execution_count": null,
   "metadata": {},
   "outputs": [],
   "source": [
    "res_id"
   ]
  },
  {
   "cell_type": "code",
   "execution_count": null,
   "metadata": {},
   "outputs": [],
   "source": [
    "protein.df['ATOM']=  protein.df['ATOM'][protein.df['ATOM']['line_idx'] > ter_pos[0]]"
   ]
  },
  {
   "cell_type": "code",
   "execution_count": null,
   "metadata": {},
   "outputs": [],
   "source": [
    "protein.df['ATOM']"
   ]
  },
  {
   "cell_type": "code",
   "execution_count": null,
   "metadata": {},
   "outputs": [],
   "source": [
    "protein.df['HETATM'] = protein.df['HETATM'].loc[protein.df['HETATM'].index.isin(indexArr_hetatm)]\n"
   ]
  },
  {
   "cell_type": "code",
   "execution_count": null,
   "metadata": {},
   "outputs": [],
   "source": [
    "protein.to_pdb(path='protein_stripped.pdb', \n",
    "            records=None, \n",
    "            gz=False, \n",
    "            append_newline=True)"
   ]
  },
  {
   "cell_type": "code",
   "execution_count": null,
   "metadata": {},
   "outputs": [],
   "source": [
    "protein.df['ATOM'].loc[protein.df['ATOM']['residue_number'].isin([138])]"
   ]
  },
  {
   "cell_type": "code",
   "execution_count": 25,
   "metadata": {},
   "outputs": [],
   "source": [
    "protein_pocket = PandasPdb().read_pdb('PDBbind/refined-set/1ajn/1ajn_pocket.pdb')"
   ]
  },
  {
   "cell_type": "code",
   "execution_count": 26,
   "metadata": {},
   "outputs": [],
   "source": [
    "pocket_res = np.unique(protein_pocket.df['ATOM']['residue_number'])"
   ]
  },
  {
   "cell_type": "code",
   "execution_count": null,
   "metadata": {},
   "outputs": [],
   "source": [
    "pocket_res1 = np.unique(protein.df['ATOM']['atom_name'])"
   ]
  },
  {
   "cell_type": "code",
   "execution_count": 49,
   "metadata": {},
   "outputs": [
    {
     "data": {
      "text/plain": [
       "array([  1,   2,   3,  20,  21,  22,  23,  24,  25,  31,  32,  48,  49,\n",
       "        52,  56,  57,  66,  67,  68,  69,  70,  71, 138, 141, 142, 145,\n",
       "       146, 147, 154, 173, 175, 176, 177, 178, 179, 180, 193, 239, 240,\n",
       "       241, 256, 263, 385, 386, 480, 481, 482])"
      ]
     },
     "execution_count": 49,
     "metadata": {},
     "output_type": "execute_result"
    }
   ],
   "source": [
    "pocket_res"
   ]
  },
  {
   "cell_type": "code",
   "execution_count": 50,
   "metadata": {},
   "outputs": [
    {
     "data": {
      "text/plain": [
       "array([  1,   2,   3,  20,  21,  22,  23,  24,  25,  48,  49,  56,  57,\n",
       "        66,  67,  68,  69,  70,  71, 175, 176, 177, 178, 179, 240, 241,\n",
       "       385, 386, 480, 481, 482])"
      ]
     },
     "execution_count": 50,
     "metadata": {},
     "output_type": "execute_result"
    }
   ],
   "source": [
    "res_id"
   ]
  },
  {
   "cell_type": "code",
   "execution_count": null,
   "metadata": {},
   "outputs": [],
   "source": [
    "pocket_res.shape"
   ]
  },
  {
   "cell_type": "code",
   "execution_count": null,
   "metadata": {},
   "outputs": [],
   "source": [
    "protein.df['ATOM'] = protein.df['ATOM'].loc[protein.df['ATOM']['residue_number'].isin(pocket_res)]"
   ]
  },
  {
   "cell_type": "code",
   "execution_count": null,
   "metadata": {},
   "outputs": [],
   "source": [
    "protein.df['ATOM']=  protein.df['ATOM'][protein.df['ATOM']['line_idx'] > ter_pos[0]]\n",
    "protein.df['ATOM']"
   ]
  },
  {
   "cell_type": "code",
   "execution_count": null,
   "metadata": {},
   "outputs": [],
   "source": [
    "protein_pocket.df['ATOM'].iloc[:10]"
   ]
  },
  {
   "cell_type": "code",
   "execution_count": null,
   "metadata": {},
   "outputs": [],
   "source": [
    "protein_pocket.df['ATOM'] = protein_pocket.df['ATOM'][protein_pocket.df['ATOM']['element_symbol'] != 'H']"
   ]
  },
  {
   "cell_type": "code",
   "execution_count": null,
   "metadata": {},
   "outputs": [],
   "source": [
    "protein_pocket.df['ATOM']"
   ]
  },
  {
   "cell_type": "code",
   "execution_count": null,
   "metadata": {},
   "outputs": [],
   "source": [
    "protein = PandasPdb().read_pdb('PDBbind/refined-set/1ajn/1ajn_protein.pdb')\n",
    "#protein.df['ATOM'].iloc[[1639]]\n",
    "protein.df['ATOM'] = protein.df['ATOM'][protein.df['ATOM']['element_symbol'] != 'H']\n",
    "\n",
    "alpha_carbon = protein.df['ATOM'][protein.df['ATOM']['atom_name'] == 'CA']"
   ]
  },
  {
   "cell_type": "code",
   "execution_count": null,
   "metadata": {},
   "outputs": [],
   "source": [
    "alpha_carbon"
   ]
  },
  {
   "cell_type": "code",
   "execution_count": null,
   "metadata": {},
   "outputs": [],
   "source": [
    "alpha_carbon = alpha_carbon.reset_index()"
   ]
  },
  {
   "cell_type": "code",
   "execution_count": null,
   "metadata": {},
   "outputs": [],
   "source": [
    "alpha_carbon"
   ]
  },
  {
   "cell_type": "code",
   "execution_count": null,
   "metadata": {},
   "outputs": [],
   "source": [
    "alpha_carbon = alpha_carbon.drop(['index'], axis=1)"
   ]
  },
  {
   "cell_type": "code",
   "execution_count": null,
   "metadata": {},
   "outputs": [],
   "source": [
    "alpha_carbon"
   ]
  },
  {
   "cell_type": "code",
   "execution_count": null,
   "metadata": {},
   "outputs": [],
   "source": [
    "alpha_coord = alpha_carbon[[\"x_coord\",\"y_coord\",\"z_coord\"]].values"
   ]
  },
  {
   "cell_type": "code",
   "execution_count": null,
   "metadata": {},
   "outputs": [],
   "source": [
    "ligand = PandasMol2().read_mol2('PDBbind/refined-set/1ajn/1ajn_ligand.mol2')\n",
    "ligand_noH = ligand.df[ligand.df['atom_type'] != 'H']\n",
    "ligand_noH.tail()\n"
   ]
  },
  {
   "cell_type": "code",
   "execution_count": null,
   "metadata": {},
   "outputs": [],
   "source": [
    "ligand_coord = ligand_noH[[\"x\", \"y\", \"z\"]].values"
   ]
  },
  {
   "cell_type": "code",
   "execution_count": null,
   "metadata": {},
   "outputs": [],
   "source": [
    "distance_matrix_atm = sp.distance_matrix(ligand_coord, alpha_coord, p=2, threshold=1000000)"
   ]
  },
  {
   "cell_type": "code",
   "execution_count": null,
   "metadata": {},
   "outputs": [],
   "source": [
    "indexArr_atm = np.unique(np.argwhere(distance_matrix_atm < 11)[:,1])"
   ]
  },
  {
   "cell_type": "code",
   "execution_count": null,
   "metadata": {},
   "outputs": [],
   "source": [
    "indexArr_atm"
   ]
  },
  {
   "cell_type": "code",
   "execution_count": null,
   "metadata": {},
   "outputs": [],
   "source": [
    "res_id = np.unique(alpha_carbon.loc[alpha_carbon.index.isin(indexArr_atm)]['residue_number'])"
   ]
  },
  {
   "cell_type": "code",
   "execution_count": null,
   "metadata": {},
   "outputs": [],
   "source": [
    "res_id"
   ]
  },
  {
   "cell_type": "code",
   "execution_count": null,
   "metadata": {},
   "outputs": [],
   "source": [
    "res_id.shape\n"
   ]
  },
  {
   "cell_type": "code",
   "execution_count": null,
   "metadata": {},
   "outputs": [],
   "source": [
    "protein.df['ATOM'] = protein.df['ATOM'].loc[protein.df['ATOM']['residue_number'].isin(res_id)]"
   ]
  },
  {
   "cell_type": "code",
   "execution_count": null,
   "metadata": {},
   "outputs": [],
   "source": [
    "protein.df['ATOM']=  protein.df['ATOM'][protein.df['ATOM']['line_idx'] > ter_pos[0]]\n",
    "protein.df['ATOM']"
   ]
  },
  {
   "cell_type": "code",
   "execution_count": null,
   "metadata": {},
   "outputs": [],
   "source": [
    "np.sort(np.unique(protein.df['ATOM']['residue_number']))"
   ]
  },
  {
   "cell_type": "code",
   "execution_count": null,
   "metadata": {},
   "outputs": [],
   "source": [
    "np.sort(np.unique(protein_pocket.df['ATOM']['residue_number']))"
   ]
  },
  {
   "cell_type": "code",
   "execution_count": null,
   "metadata": {},
   "outputs": [],
   "source": [
    "ligand_alpha = ligand.df[ligand.df['atom_name'] == 'CA']"
   ]
  },
  {
   "cell_type": "code",
   "execution_count": null,
   "metadata": {},
   "outputs": [],
   "source": [
    "ligand_co = ligand_alpha[[\"x\", \"y\", \"z\"]].values"
   ]
  },
  {
   "cell_type": "code",
   "execution_count": null,
   "metadata": {},
   "outputs": [],
   "source": [
    "distance_matrix_atm = sp.distance_matrix(ligand_co, alpha_coord, p=2, threshold=1000000)"
   ]
  },
  {
   "cell_type": "code",
   "execution_count": null,
   "metadata": {},
   "outputs": [],
   "source": [
    "indexArr_atm = np.unique(np.argwhere(distance_matrix_atm < 10)[:,1])"
   ]
  },
  {
   "cell_type": "code",
   "execution_count": null,
   "metadata": {},
   "outputs": [],
   "source": [
    "indexArr_atm"
   ]
  },
  {
   "cell_type": "code",
   "execution_count": null,
   "metadata": {},
   "outputs": [],
   "source": []
  }
 ],
 "metadata": {
  "kernelspec": {
   "display_name": "edsi",
   "language": "python",
   "name": "edsi"
  },
  "language_info": {
   "codemirror_mode": {
    "name": "ipython",
    "version": 3
   },
   "file_extension": ".py",
   "mimetype": "text/x-python",
   "name": "python",
   "nbconvert_exporter": "python",
   "pygments_lexer": "ipython3",
   "version": "3.7.6"
  }
 },
 "nbformat": 4,
 "nbformat_minor": 4
}
