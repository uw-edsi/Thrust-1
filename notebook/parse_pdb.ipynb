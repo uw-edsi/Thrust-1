{
 "cells": [
  {
   "cell_type": "code",
   "execution_count": 1,
   "metadata": {},
   "outputs": [],
   "source": [
    "# import biopandas\n",
    "from biopandas.pdb import PandasPdb\n",
    "from biopandas.mol2 import PandasMol2\n",
    "import numpy as np\n",
    "import scipy.spatial as sp\n",
    "import pandas as pd"
   ]
  },
  {
   "cell_type": "code",
   "execution_count": 2,
   "metadata": {},
   "outputs": [],
   "source": [
    "# read protein pdb file\n",
    "\n",
    "pdb_id = '1a1e'\n",
    "protein = PandasPdb().read_pdb(pdb_id + '/' + pdb_id + '_protein.pdb')\n",
    "#protein.df['ATOM'].iloc[[1639]]\n"
   ]
  },
  {
   "cell_type": "code",
   "execution_count": 3,
   "metadata": {},
   "outputs": [
    {
     "data": {
      "text/plain": [
       "array(['A', 'B'], dtype=object)"
      ]
     },
     "execution_count": 3,
     "metadata": {},
     "output_type": "execute_result"
    }
   ],
   "source": [
    "#getting the number of chains and chain_id\n",
    "\n",
    "chain = np.unique(protein.df['ATOM']['chain_id'])\n",
    "chain"
   ]
  },
  {
   "cell_type": "code",
   "execution_count": 4,
   "metadata": {},
   "outputs": [],
   "source": [
    "# reading the ligand file\n",
    "\n",
    "ligand = PandasMol2().read_mol2(pdb_id + '/' + pdb_id + '_ligand.mol2')\n",
    "ligand_noH = ligand.df.loc[ligand.df['atom_type'] != 'H']\n",
    "ligand_coord = ligand_noH[[\"x\", \"y\", \"z\"]].values"
   ]
  },
  {
   "cell_type": "code",
   "execution_count": 5,
   "metadata": {},
   "outputs": [
    {
     "data": {
      "text/html": [
       "<div>\n",
       "<style scoped>\n",
       "    .dataframe tbody tr th:only-of-type {\n",
       "        vertical-align: middle;\n",
       "    }\n",
       "\n",
       "    .dataframe tbody tr th {\n",
       "        vertical-align: top;\n",
       "    }\n",
       "\n",
       "    .dataframe thead th {\n",
       "        text-align: right;\n",
       "    }\n",
       "</style>\n",
       "<table border=\"1\" class=\"dataframe\">\n",
       "  <thead>\n",
       "    <tr style=\"text-align: right;\">\n",
       "      <th></th>\n",
       "      <th>record_name</th>\n",
       "      <th>atom_number</th>\n",
       "      <th>blank_1</th>\n",
       "      <th>atom_name</th>\n",
       "      <th>alt_loc</th>\n",
       "      <th>residue_name</th>\n",
       "      <th>blank_2</th>\n",
       "      <th>chain_id</th>\n",
       "      <th>residue_number</th>\n",
       "      <th>insertion</th>\n",
       "      <th>...</th>\n",
       "      <th>x_coord</th>\n",
       "      <th>y_coord</th>\n",
       "      <th>z_coord</th>\n",
       "      <th>occupancy</th>\n",
       "      <th>b_factor</th>\n",
       "      <th>blank_4</th>\n",
       "      <th>segment_id</th>\n",
       "      <th>element_symbol</th>\n",
       "      <th>charge</th>\n",
       "      <th>line_idx</th>\n",
       "    </tr>\n",
       "  </thead>\n",
       "  <tbody>\n",
       "    <tr>\n",
       "      <th>0</th>\n",
       "      <td>ATOM</td>\n",
       "      <td>1782</td>\n",
       "      <td></td>\n",
       "      <td>N</td>\n",
       "      <td></td>\n",
       "      <td>LYS</td>\n",
       "      <td></td>\n",
       "      <td>B</td>\n",
       "      <td>155</td>\n",
       "      <td></td>\n",
       "      <td>...</td>\n",
       "      <td>36.647</td>\n",
       "      <td>6.515</td>\n",
       "      <td>30.602</td>\n",
       "      <td>1.0</td>\n",
       "      <td>35.68</td>\n",
       "      <td></td>\n",
       "      <td></td>\n",
       "      <td>N</td>\n",
       "      <td>NaN</td>\n",
       "      <td>1801</td>\n",
       "    </tr>\n",
       "    <tr>\n",
       "      <th>1</th>\n",
       "      <td>ATOM</td>\n",
       "      <td>1783</td>\n",
       "      <td></td>\n",
       "      <td>H</td>\n",
       "      <td></td>\n",
       "      <td>LYS</td>\n",
       "      <td></td>\n",
       "      <td>B</td>\n",
       "      <td>155</td>\n",
       "      <td></td>\n",
       "      <td>...</td>\n",
       "      <td>36.193</td>\n",
       "      <td>7.299</td>\n",
       "      <td>30.090</td>\n",
       "      <td>1.0</td>\n",
       "      <td>0.00</td>\n",
       "      <td></td>\n",
       "      <td></td>\n",
       "      <td>H</td>\n",
       "      <td>NaN</td>\n",
       "      <td>1802</td>\n",
       "    </tr>\n",
       "    <tr>\n",
       "      <th>2</th>\n",
       "      <td>ATOM</td>\n",
       "      <td>1784</td>\n",
       "      <td></td>\n",
       "      <td>CA</td>\n",
       "      <td></td>\n",
       "      <td>LYS</td>\n",
       "      <td></td>\n",
       "      <td>B</td>\n",
       "      <td>155</td>\n",
       "      <td></td>\n",
       "      <td>...</td>\n",
       "      <td>36.879</td>\n",
       "      <td>5.269</td>\n",
       "      <td>29.919</td>\n",
       "      <td>1.0</td>\n",
       "      <td>36.15</td>\n",
       "      <td></td>\n",
       "      <td></td>\n",
       "      <td>C</td>\n",
       "      <td>NaN</td>\n",
       "      <td>1803</td>\n",
       "    </tr>\n",
       "    <tr>\n",
       "      <th>3</th>\n",
       "      <td>ATOM</td>\n",
       "      <td>1785</td>\n",
       "      <td></td>\n",
       "      <td>HA</td>\n",
       "      <td></td>\n",
       "      <td>LYS</td>\n",
       "      <td></td>\n",
       "      <td>B</td>\n",
       "      <td>155</td>\n",
       "      <td></td>\n",
       "      <td>...</td>\n",
       "      <td>36.868</td>\n",
       "      <td>4.481</td>\n",
       "      <td>30.672</td>\n",
       "      <td>1.0</td>\n",
       "      <td>0.00</td>\n",
       "      <td></td>\n",
       "      <td></td>\n",
       "      <td>H</td>\n",
       "      <td>NaN</td>\n",
       "      <td>1804</td>\n",
       "    </tr>\n",
       "    <tr>\n",
       "      <th>4</th>\n",
       "      <td>ATOM</td>\n",
       "      <td>1786</td>\n",
       "      <td></td>\n",
       "      <td>C</td>\n",
       "      <td></td>\n",
       "      <td>LYS</td>\n",
       "      <td></td>\n",
       "      <td>B</td>\n",
       "      <td>155</td>\n",
       "      <td></td>\n",
       "      <td>...</td>\n",
       "      <td>38.252</td>\n",
       "      <td>5.067</td>\n",
       "      <td>29.287</td>\n",
       "      <td>1.0</td>\n",
       "      <td>36.67</td>\n",
       "      <td></td>\n",
       "      <td></td>\n",
       "      <td>C</td>\n",
       "      <td>NaN</td>\n",
       "      <td>1805</td>\n",
       "    </tr>\n",
       "    <tr>\n",
       "      <th>...</th>\n",
       "      <td>...</td>\n",
       "      <td>...</td>\n",
       "      <td>...</td>\n",
       "      <td>...</td>\n",
       "      <td>...</td>\n",
       "      <td>...</td>\n",
       "      <td>...</td>\n",
       "      <td>...</td>\n",
       "      <td>...</td>\n",
       "      <td>...</td>\n",
       "      <td>...</td>\n",
       "      <td>...</td>\n",
       "      <td>...</td>\n",
       "      <td>...</td>\n",
       "      <td>...</td>\n",
       "      <td>...</td>\n",
       "      <td>...</td>\n",
       "      <td>...</td>\n",
       "      <td>...</td>\n",
       "      <td>...</td>\n",
       "      <td>...</td>\n",
       "    </tr>\n",
       "    <tr>\n",
       "      <th>603</th>\n",
       "      <td>ATOM</td>\n",
       "      <td>3102</td>\n",
       "      <td></td>\n",
       "      <td>CB</td>\n",
       "      <td></td>\n",
       "      <td>CYS</td>\n",
       "      <td></td>\n",
       "      <td>B</td>\n",
       "      <td>241</td>\n",
       "      <td></td>\n",
       "      <td>...</td>\n",
       "      <td>48.772</td>\n",
       "      <td>-2.218</td>\n",
       "      <td>47.321</td>\n",
       "      <td>1.0</td>\n",
       "      <td>27.85</td>\n",
       "      <td></td>\n",
       "      <td></td>\n",
       "      <td>C</td>\n",
       "      <td>NaN</td>\n",
       "      <td>3121</td>\n",
       "    </tr>\n",
       "    <tr>\n",
       "      <th>604</th>\n",
       "      <td>ATOM</td>\n",
       "      <td>3103</td>\n",
       "      <td></td>\n",
       "      <td>HB1</td>\n",
       "      <td></td>\n",
       "      <td>CYS</td>\n",
       "      <td></td>\n",
       "      <td>B</td>\n",
       "      <td>241</td>\n",
       "      <td></td>\n",
       "      <td>...</td>\n",
       "      <td>48.451</td>\n",
       "      <td>-3.157</td>\n",
       "      <td>46.871</td>\n",
       "      <td>1.0</td>\n",
       "      <td>0.00</td>\n",
       "      <td></td>\n",
       "      <td></td>\n",
       "      <td>H</td>\n",
       "      <td>NaN</td>\n",
       "      <td>3122</td>\n",
       "    </tr>\n",
       "    <tr>\n",
       "      <th>605</th>\n",
       "      <td>ATOM</td>\n",
       "      <td>3104</td>\n",
       "      <td></td>\n",
       "      <td>HB2</td>\n",
       "      <td></td>\n",
       "      <td>CYS</td>\n",
       "      <td></td>\n",
       "      <td>B</td>\n",
       "      <td>241</td>\n",
       "      <td></td>\n",
       "      <td>...</td>\n",
       "      <td>49.857</td>\n",
       "      <td>-2.219</td>\n",
       "      <td>47.426</td>\n",
       "      <td>1.0</td>\n",
       "      <td>0.00</td>\n",
       "      <td></td>\n",
       "      <td></td>\n",
       "      <td>H</td>\n",
       "      <td>NaN</td>\n",
       "      <td>3123</td>\n",
       "    </tr>\n",
       "    <tr>\n",
       "      <th>606</th>\n",
       "      <td>ATOM</td>\n",
       "      <td>3105</td>\n",
       "      <td></td>\n",
       "      <td>SG</td>\n",
       "      <td></td>\n",
       "      <td>CYS</td>\n",
       "      <td></td>\n",
       "      <td>B</td>\n",
       "      <td>241</td>\n",
       "      <td></td>\n",
       "      <td>...</td>\n",
       "      <td>48.292</td>\n",
       "      <td>-0.852</td>\n",
       "      <td>46.229</td>\n",
       "      <td>1.0</td>\n",
       "      <td>35.25</td>\n",
       "      <td></td>\n",
       "      <td></td>\n",
       "      <td>S</td>\n",
       "      <td>NaN</td>\n",
       "      <td>3124</td>\n",
       "    </tr>\n",
       "    <tr>\n",
       "      <th>607</th>\n",
       "      <td>ATOM</td>\n",
       "      <td>3106</td>\n",
       "      <td></td>\n",
       "      <td>HG</td>\n",
       "      <td></td>\n",
       "      <td>CYS</td>\n",
       "      <td></td>\n",
       "      <td>B</td>\n",
       "      <td>241</td>\n",
       "      <td></td>\n",
       "      <td>...</td>\n",
       "      <td>48.890</td>\n",
       "      <td>-1.019</td>\n",
       "      <td>44.996</td>\n",
       "      <td>1.0</td>\n",
       "      <td>0.00</td>\n",
       "      <td></td>\n",
       "      <td></td>\n",
       "      <td>H</td>\n",
       "      <td>NaN</td>\n",
       "      <td>3125</td>\n",
       "    </tr>\n",
       "  </tbody>\n",
       "</table>\n",
       "<p>608 rows × 21 columns</p>\n",
       "</div>"
      ],
      "text/plain": [
       "    record_name  atom_number blank_1 atom_name alt_loc residue_name blank_2  \\\n",
       "0          ATOM         1782                 N                  LYS           \n",
       "1          ATOM         1783                 H                  LYS           \n",
       "2          ATOM         1784                CA                  LYS           \n",
       "3          ATOM         1785                HA                  LYS           \n",
       "4          ATOM         1786                 C                  LYS           \n",
       "..          ...          ...     ...       ...     ...          ...     ...   \n",
       "603        ATOM         3102                CB                  CYS           \n",
       "604        ATOM         3103               HB1                  CYS           \n",
       "605        ATOM         3104               HB2                  CYS           \n",
       "606        ATOM         3105                SG                  CYS           \n",
       "607        ATOM         3106                HG                  CYS           \n",
       "\n",
       "    chain_id  residue_number insertion  ... x_coord  y_coord  z_coord  \\\n",
       "0          B             155            ...  36.647    6.515   30.602   \n",
       "1          B             155            ...  36.193    7.299   30.090   \n",
       "2          B             155            ...  36.879    5.269   29.919   \n",
       "3          B             155            ...  36.868    4.481   30.672   \n",
       "4          B             155            ...  38.252    5.067   29.287   \n",
       "..       ...             ...       ...  ...     ...      ...      ...   \n",
       "603        B             241            ...  48.772   -2.218   47.321   \n",
       "604        B             241            ...  48.451   -3.157   46.871   \n",
       "605        B             241            ...  49.857   -2.219   47.426   \n",
       "606        B             241            ...  48.292   -0.852   46.229   \n",
       "607        B             241            ...  48.890   -1.019   44.996   \n",
       "\n",
       "     occupancy  b_factor  blank_4 segment_id element_symbol charge  line_idx  \n",
       "0          1.0     35.68                                  N    NaN      1801  \n",
       "1          1.0      0.00                                  H    NaN      1802  \n",
       "2          1.0     36.15                                  C    NaN      1803  \n",
       "3          1.0      0.00                                  H    NaN      1804  \n",
       "4          1.0     36.67                                  C    NaN      1805  \n",
       "..         ...       ...      ...        ...            ...    ...       ...  \n",
       "603        1.0     27.85                                  C    NaN      3121  \n",
       "604        1.0      0.00                                  H    NaN      3122  \n",
       "605        1.0      0.00                                  H    NaN      3123  \n",
       "606        1.0     35.25                                  S    NaN      3124  \n",
       "607        1.0      0.00                                  H    NaN      3125  \n",
       "\n",
       "[608 rows x 21 columns]"
      ]
     },
     "execution_count": 5,
     "metadata": {},
     "output_type": "execute_result"
    }
   ],
   "source": [
    "# getting the residue numbers of each chain those are within the cutoff distance of the ligand heavy atoms\n",
    "\n",
    "protein_pocket = pd.DataFrame()\n",
    "\n",
    "for ch in chain:\n",
    "    protein_chain = protein.df['ATOM'].loc[protein.df['ATOM']['chain_id'] == ch].reset_index()\n",
    "    chain_coord = protein_chain[[\"x_coord\",\"y_coord\",\"z_coord\"]].values\n",
    "    distance_protein = sp.distance_matrix(ligand_coord, chain_coord, p=2)\n",
    "    indexarr_chain= np.unique(np.argwhere(distance_protein < 8)[:,1])\n",
    "    res_id = np.unique(protein_chain.loc[protein_chain.index.isin(indexarr_chain)]['residue_number'])\n",
    "    protein_seg = protein_chain.loc[protein_chain['residue_number'].isin(res_id)]\n",
    "    protein_pocket = pd.concat([protein_pocket, protein_seg])\n",
    "\n",
    "protein.df['ATOM'] = protein_pocket.drop(['index'], axis=1).reset_index().drop(['index'], axis=1)\n",
    "protein.df['ATOM']\n"
   ]
  },
  {
   "cell_type": "code",
   "execution_count": 6,
   "metadata": {},
   "outputs": [
    {
     "data": {
      "text/plain": [
       "array([26, 27, 30, 31, 39, 42, 43])"
      ]
     },
     "execution_count": 6,
     "metadata": {},
     "output_type": "execute_result"
    }
   ],
   "source": [
    "# getting the hetatms within the ligand cutoff distance\n",
    "\n",
    "hetatm_coord = protein.df['HETATM'][[\"x_coord\",\"y_coord\",\"z_coord\"]].values\n",
    "distance_hetatm = sp.distance_matrix(ligand_coord, hetatm_coord, p=2)\n",
    "indexarr_hetatm = np.unique(np.argwhere(distance_hetatm < 8)[:,1])\n",
    "protein.df['HETATM'] = protein.df['HETATM'].loc[protein.df['HETATM'].index.isin(indexarr_hetatm)]\n",
    "indexarr_hetatm"
   ]
  },
  {
   "cell_type": "code",
   "execution_count": 7,
   "metadata": {},
   "outputs": [],
   "source": [
    "# writing the pdb file that for the pocket\n",
    "\n",
    "protein.to_pdb(path='protein_stripped.pdb', \n",
    "            records=None, \n",
    "            gz=False, \n",
    "            append_newline=True)"
   ]
  },
  {
   "cell_type": "code",
   "execution_count": 8,
   "metadata": {},
   "outputs": [
    {
     "data": {
      "text/plain": [
       "array([155, 156, 157, 158, 159, 161, 162, 178, 179, 180, 181, 182, 183,\n",
       "       186, 187, 188, 189, 190, 191, 193, 201, 202, 203, 204, 205, 206,\n",
       "       207, 208, 216, 217, 218, 219, 233, 237, 238, 239, 240, 241])"
      ]
     },
     "execution_count": 8,
     "metadata": {},
     "output_type": "execute_result"
    }
   ],
   "source": [
    "# cross check: residue ids in the calculated pocket structure\n",
    "\n",
    "pocket_res_calculated = np.unique(protein.df['ATOM']['residue_number'])\n",
    "pocket_res_calculated"
   ]
  },
  {
   "cell_type": "code",
   "execution_count": 9,
   "metadata": {},
   "outputs": [
    {
     "data": {
      "text/plain": [
       "array([155, 156, 157, 158, 159, 161, 162, 178, 179, 180, 181, 182, 183,\n",
       "       186, 187, 188, 189, 190, 191, 193, 201, 202, 203, 204, 205, 206,\n",
       "       207, 208, 216, 217, 218, 219, 233, 237, 238, 239, 240, 241])"
      ]
     },
     "execution_count": 9,
     "metadata": {},
     "output_type": "execute_result"
    }
   ],
   "source": [
    "# residue ids from the given pocket structure in PDBbind\n",
    "\n",
    "protein_pocket = PandasPdb().read_pdb(pdb_id + '/' + pdb_id + '_pocket.pdb')\n",
    "\n",
    "pocket_res_file = np.unique(protein_pocket.df['ATOM']['residue_number'])\n",
    "pocket_res_file"
   ]
  },
  {
   "cell_type": "code",
   "execution_count": 10,
   "metadata": {},
   "outputs": [
    {
     "name": "stdout",
     "output_type": "stream",
     "text": [
      "(608, 21)\n",
      "(386, 21)\n"
     ]
    }
   ],
   "source": [
    "print(protein.df['ATOM'].shape)\n",
    "print(protein_pocket.df['ATOM'].shape)"
   ]
  },
  {
   "cell_type": "code",
   "execution_count": 11,
   "metadata": {},
   "outputs": [
    {
     "name": "stdout",
     "output_type": "stream",
     "text": [
      "(308, 21)\n",
      "(308, 21)\n"
     ]
    }
   ],
   "source": [
    "# Though the residue number matches, the number of atoms in each structure does not match\n",
    "# to compare, considered only the heavy atomm\n",
    "protein_noH = protein.df['ATOM'][protein.df['ATOM']['element_symbol'] != 'H']\n",
    "print(protein_noH.shape)\n",
    "\n",
    "protein_pocket_noH = protein_pocket.df['ATOM'][protein_pocket.df['ATOM']['element_symbol'] != 'H']\n",
    "print(protein_pocket_noH.shape)"
   ]
  },
  {
   "cell_type": "code",
   "execution_count": 15,
   "metadata": {},
   "outputs": [
    {
     "data": {
      "text/plain": [
       "array(['1HD1', '1HD2', '1HG1', '1HG2', '1HH1', '1HH2', '2HD1', '2HD2',\n",
       "       '2HG1', '2HG2', '2HH1', '2HH2', '3HD1', '3HD2', '3HG1', '3HG2',\n",
       "       'H', 'HA', 'HA1', 'HA2', 'HB', 'HB1', 'HB2', 'HB3', 'HD1', 'HD2',\n",
       "       'HE', 'HE1', 'HE2', 'HG', 'HG1', 'HG2', 'HH', 'HZ1', 'HZ2', 'HZ3'],\n",
       "      dtype=object)"
      ]
     },
     "execution_count": 15,
     "metadata": {},
     "output_type": "execute_result"
    }
   ],
   "source": [
    "protein_H = protein.df['ATOM'][protein.df['ATOM']['element_symbol'] == 'H']['atom_name']\n",
    "np.unique(protein_H)"
   ]
  },
  {
   "cell_type": "code",
   "execution_count": 16,
   "metadata": {},
   "outputs": [
    {
     "data": {
      "text/plain": [
       "array(['1HD2', '1HH1', '1HH2', '2HD2', '2HH1', '2HH2', 'H', 'HE', 'HG',\n",
       "       'HG1', 'HH', 'HZ1', 'HZ2', 'HZ3'], dtype=object)"
      ]
     },
     "execution_count": 16,
     "metadata": {},
     "output_type": "execute_result"
    }
   ],
   "source": [
    "protein_pocket_H = protein_pocket.df['ATOM'][protein_pocket.df['ATOM']['element_symbol'] == 'H']['atom_name']\n",
    "np.unique(protein_pocket_H)"
   ]
  },
  {
   "cell_type": "code",
   "execution_count": null,
   "metadata": {},
   "outputs": [],
   "source": [
    "from pathlib import Path\n",
    "\n",
    "p = Path('PDBbind/refined-set/')\n",
    "subdirectories = [x for x in p.iterdir() if x.is_dir()]\n",
    "\n",
    "print(str(subdirectories[0]))"
   ]
  },
  {
   "cell_type": "code",
   "execution_count": null,
   "metadata": {},
   "outputs": [],
   "source": [
    "i = 0\n",
    "\n",
    "out_path = './stripped_proteins/'\n",
    "for dir_name in subdirectories:\n",
    "    name = str(dir_name).split('/')[2]\n",
    "    protein_file_name = str(dir_name) + '/' + name + '_protein.pdb'\n",
    "    ligand_file_name = str(dir_name) + '/' + name + '_ligand.mol2'\n",
    "    #print(ligand_file_name)\n",
    "    protein = PandasPdb().read_pdb(protein_file_name)\n",
    "    protein_coord = protein.df['ATOM'][[\"x_coord\",\"y_coord\",\"z_coord\"]].values\n",
    "    ligand = PandasMol2().read_mol2(ligand_file_name)\n",
    "    ligand_coord = ligand.df[[\"x\", \"y\", \"z\"]].values\n",
    "    \n",
    "    distance_matrix = sp.distance_matrix(ligand_coord, protein_coord, p=2, threshold=1000000)\n",
    "    indexArr = np.argwhere(distance_matrix < 10)[:,1]\n",
    "    indexArr = np.unique(indexArr)\n",
    "    protein.df['ATOM'] = protein.df['ATOM'].iloc[indexArr]\n",
    "    protein.df['HETATM'] = protein.df['HETATM'].loc[protein.df['HETATM']['record_name'] != 'HETATM']\n",
    "    \n",
    "    out_file_name = out_path + name + '.pdb'\n",
    "    \n",
    "    \n",
    "    protein.to_pdb(path=out_file_name, \n",
    "            records=None, \n",
    "            gz=False, \n",
    "            append_newline=True)\n",
    "    \n",
    "    \n",
    "    i = i +1\n",
    "    print(i)\n"
   ]
  },
  {
   "cell_type": "code",
   "execution_count": null,
   "metadata": {},
   "outputs": [],
   "source": [
    "protein.df['HETATM'] = protein.df['HETATM'].loc[protein.df['HETATM'].index.isin(indexArr_hetatm)]\n"
   ]
  },
  {
   "cell_type": "code",
   "execution_count": null,
   "metadata": {},
   "outputs": [],
   "source": [
    "protein.to_pdb(path='protein_stripped.pdb', \n",
    "            records=None, \n",
    "            gz=False, \n",
    "            append_newline=True)"
   ]
  },
  {
   "cell_type": "code",
   "execution_count": null,
   "metadata": {},
   "outputs": [],
   "source": [
    "protein.df['ATOM'].loc[protein.df['ATOM']['residue_number'].isin([138])]"
   ]
  },
  {
   "cell_type": "code",
   "execution_count": null,
   "metadata": {},
   "outputs": [],
   "source": [
    "protein_pocket = PandasPdb().read_pdb('1ajn/1ajn_pocket.pdb')"
   ]
  },
  {
   "cell_type": "code",
   "execution_count": null,
   "metadata": {},
   "outputs": [],
   "source": [
    "np.unique(protein_pocket.df['ATOM']['chain_id'])"
   ]
  },
  {
   "cell_type": "code",
   "execution_count": null,
   "metadata": {},
   "outputs": [],
   "source": [
    "pocket_res = np.unique(protein_pocket.df['ATOM']['residue_number'])"
   ]
  },
  {
   "cell_type": "code",
   "execution_count": null,
   "metadata": {},
   "outputs": [],
   "source": [
    "pocket_res1 = np.unique(protein.df['ATOM']['atom_name'])"
   ]
  },
  {
   "cell_type": "code",
   "execution_count": null,
   "metadata": {},
   "outputs": [],
   "source": [
    "pocket_res"
   ]
  },
  {
   "cell_type": "code",
   "execution_count": null,
   "metadata": {},
   "outputs": [],
   "source": [
    "res_id"
   ]
  },
  {
   "cell_type": "code",
   "execution_count": null,
   "metadata": {},
   "outputs": [],
   "source": [
    "protein_pocket.df['ATOM']"
   ]
  },
  {
   "cell_type": "code",
   "execution_count": null,
   "metadata": {},
   "outputs": [],
   "source": [
    "protein.df['ATOM'] = protein.df['ATOM'].loc[protein.df['ATOM']['residue_number'].isin(pocket_res)]"
   ]
  },
  {
   "cell_type": "code",
   "execution_count": null,
   "metadata": {},
   "outputs": [],
   "source": [
    "protein.df['ATOM']=  protein.df['ATOM'][protein.df['ATOM']['line_idx'] > ter_pos[0]]\n",
    "protein.df['ATOM']"
   ]
  },
  {
   "cell_type": "code",
   "execution_count": null,
   "metadata": {},
   "outputs": [],
   "source": [
    "protein_pocket.df['ATOM'].iloc[:10]"
   ]
  },
  {
   "cell_type": "code",
   "execution_count": null,
   "metadata": {},
   "outputs": [],
   "source": [
    "protein_pocket.df['ATOM'] = protein_pocket.df['ATOM'][protein_pocket.df['ATOM']['element_symbol'] != 'H']"
   ]
  },
  {
   "cell_type": "code",
   "execution_count": null,
   "metadata": {},
   "outputs": [],
   "source": [
    "protein_pocket.df['ATOM']"
   ]
  },
  {
   "cell_type": "code",
   "execution_count": null,
   "metadata": {},
   "outputs": [],
   "source": [
    "protein = PandasPdb().read_pdb('PDBbind/refined-set/1ajn/1ajn_protein.pdb')\n",
    "#protein.df['ATOM'].iloc[[1639]]\n",
    "protein.df['ATOM'] = protein.df['ATOM'][protein.df['ATOM']['element_symbol'] != 'H']\n",
    "\n",
    "alpha_carbon = protein.df['ATOM'][protein.df['ATOM']['atom_name'] == 'CA']"
   ]
  },
  {
   "cell_type": "code",
   "execution_count": null,
   "metadata": {},
   "outputs": [],
   "source": [
    "alpha_carbon"
   ]
  },
  {
   "cell_type": "code",
   "execution_count": null,
   "metadata": {},
   "outputs": [],
   "source": [
    "alpha_carbon = alpha_carbon.reset_index()"
   ]
  },
  {
   "cell_type": "code",
   "execution_count": null,
   "metadata": {},
   "outputs": [],
   "source": [
    "alpha_carbon"
   ]
  },
  {
   "cell_type": "code",
   "execution_count": null,
   "metadata": {},
   "outputs": [],
   "source": [
    "alpha_carbon = alpha_carbon.drop(['index'], axis=1)"
   ]
  },
  {
   "cell_type": "code",
   "execution_count": null,
   "metadata": {},
   "outputs": [],
   "source": [
    "alpha_carbon"
   ]
  },
  {
   "cell_type": "code",
   "execution_count": null,
   "metadata": {},
   "outputs": [],
   "source": [
    "alpha_coord = alpha_carbon[[\"x_coord\",\"y_coord\",\"z_coord\"]].values"
   ]
  },
  {
   "cell_type": "code",
   "execution_count": null,
   "metadata": {},
   "outputs": [],
   "source": [
    "ligand = PandasMol2().read_mol2('PDBbind/refined-set/1ajn/1ajn_ligand.mol2')\n",
    "ligand_noH = ligand.df[ligand.df['atom_type'] != 'H']\n",
    "ligand_noH.tail()\n"
   ]
  },
  {
   "cell_type": "code",
   "execution_count": null,
   "metadata": {},
   "outputs": [],
   "source": [
    "ligand_coord = ligand_noH[[\"x\", \"y\", \"z\"]].values"
   ]
  },
  {
   "cell_type": "code",
   "execution_count": null,
   "metadata": {},
   "outputs": [],
   "source": [
    "distance_matrix_atm = sp.distance_matrix(ligand_coord, alpha_coord, p=2, threshold=1000000)"
   ]
  },
  {
   "cell_type": "code",
   "execution_count": null,
   "metadata": {},
   "outputs": [],
   "source": [
    "indexArr_atm = np.unique(np.argwhere(distance_matrix_atm < 11)[:,1])"
   ]
  },
  {
   "cell_type": "code",
   "execution_count": null,
   "metadata": {},
   "outputs": [],
   "source": [
    "indexArr_atm"
   ]
  },
  {
   "cell_type": "code",
   "execution_count": null,
   "metadata": {},
   "outputs": [],
   "source": [
    "res_id = np.unique(alpha_carbon.loc[alpha_carbon.index.isin(indexArr_atm)]['residue_number'])"
   ]
  },
  {
   "cell_type": "code",
   "execution_count": null,
   "metadata": {},
   "outputs": [],
   "source": [
    "res_id"
   ]
  },
  {
   "cell_type": "code",
   "execution_count": null,
   "metadata": {},
   "outputs": [],
   "source": [
    "res_id.shape\n"
   ]
  },
  {
   "cell_type": "code",
   "execution_count": null,
   "metadata": {},
   "outputs": [],
   "source": [
    "protein.df['ATOM'] = protein.df['ATOM'].loc[protein.df['ATOM']['residue_number'].isin(res_id)]"
   ]
  },
  {
   "cell_type": "code",
   "execution_count": null,
   "metadata": {},
   "outputs": [],
   "source": [
    "protein.df['ATOM']=  protein.df['ATOM'][protein.df['ATOM']['line_idx'] > ter_pos[0]]\n",
    "protein.df['ATOM']"
   ]
  },
  {
   "cell_type": "code",
   "execution_count": null,
   "metadata": {},
   "outputs": [],
   "source": [
    "np.sort(np.unique(protein.df['ATOM']['residue_number']))"
   ]
  },
  {
   "cell_type": "code",
   "execution_count": null,
   "metadata": {},
   "outputs": [],
   "source": [
    "np.sort(np.unique(protein_pocket.df['ATOM']['residue_number']))"
   ]
  },
  {
   "cell_type": "code",
   "execution_count": null,
   "metadata": {},
   "outputs": [],
   "source": [
    "ligand_alpha = ligand.df[ligand.df['atom_name'] == 'CA']"
   ]
  },
  {
   "cell_type": "code",
   "execution_count": null,
   "metadata": {},
   "outputs": [],
   "source": [
    "ligand_co = ligand_alpha[[\"x\", \"y\", \"z\"]].values"
   ]
  },
  {
   "cell_type": "code",
   "execution_count": null,
   "metadata": {},
   "outputs": [],
   "source": [
    "distance_matrix_atm = sp.distance_matrix(ligand_co, alpha_coord, p=2, threshold=1000000)"
   ]
  },
  {
   "cell_type": "code",
   "execution_count": null,
   "metadata": {},
   "outputs": [],
   "source": [
    "indexArr_atm = np.unique(np.argwhere(distance_matrix_atm < 10)[:,1])"
   ]
  },
  {
   "cell_type": "code",
   "execution_count": null,
   "metadata": {},
   "outputs": [],
   "source": [
    "indexArr_atm"
   ]
  },
  {
   "cell_type": "code",
   "execution_count": null,
   "metadata": {},
   "outputs": [],
   "source": []
  }
 ],
 "metadata": {
  "kernelspec": {
   "display_name": "edsi",
   "language": "python",
   "name": "edsi"
  },
  "language_info": {
   "codemirror_mode": {
    "name": "ipython",
    "version": 3
   },
   "file_extension": ".py",
   "mimetype": "text/x-python",
   "name": "python",
   "nbconvert_exporter": "python",
   "pygments_lexer": "ipython3",
   "version": "3.7.6"
  }
 },
 "nbformat": 4,
 "nbformat_minor": 4
}
