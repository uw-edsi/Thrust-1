{
 "cells": [
  {
   "cell_type": "code",
   "execution_count": 1,
   "metadata": {},
   "outputs": [],
   "source": [
    "\"\"\"\n",
    "This module contains functions for loading a pdb file and calculating\n",
    "the atomic density fields for different atom types. The fields can then be\n",
    "used for plotting, or to send into the convolutional neural network.\n",
    "\"\"\"\n",
    "\n",
    "import os\n",
    "import sys\n",
    "import torch\n",
    "import numpy as np\n",
    "\n",
    "from biopandas.pdb import PandasPdb\n",
    "from biopandas.mol2 import PandasMol2\n",
    "\n",
    "import pickle\n",
    "\n",
    "import numpy as np\n",
    "\n",
    "import pybel\n",
    "from math import ceil, sin, cos, sqrt, pi\n",
    "from itertools import combinations"
   ]
  },
  {
   "cell_type": "code",
   "execution_count": 2,
   "metadata": {},
   "outputs": [],
   "source": [
    "def load_pdb(path):\n",
    "    \"\"\"\n",
    "    Loads all of the atomic positioning/type arrays from a pdb file.\n",
    "    The arrays can then be transformed into density (or \"field\") tensors before\n",
    "        being sent through the neural network.\n",
    "    Parameters:\n",
    "        path (str, required): The full path to the pdb file being voxelized.\n",
    "    Returns:\n",
    "        dictionary: A dictionary containing the following arrays from\n",
    "            the pdb file: num_atoms, atom_types, positions, atom_type_set,\n",
    "            xcoords, ycoords, zcoords, residues, residue_set\n",
    "    \"\"\"\n",
    "    \n",
    "    file_type = path.split('.')[-1]\n",
    "    \n",
    "    if file_type == 'pdb':\n",
    "    #pdb = PandasPdb().read_pdb(path)\n",
    "        pdb = PandasPdb().read_pdb(path)\n",
    "    # This just creates a dataframe from the pdb file using biopandas\n",
    "    #print('This is vars',vars(pdb))\n",
    "        pdf = pdb.df['ATOM']\n",
    "        x_coords = pdf['x_coord'].values\n",
    "        y_coords = pdf['y_coord'].values\n",
    "        z_coords = pdf['z_coord'].values\n",
    "        atom_types = pdf['atom_name'].values\n",
    "        residue_names = pdf['residue_name'].values\n",
    "    \n",
    "    elif file_type == 'mol2':\n",
    "        mol = PandasMol2().read_mol2(path)\n",
    "        pdf = mol\n",
    "        x_coords = pdf.df['x'].values\n",
    "        y_coords = pdf.df['y'].values\n",
    "        z_coords = pdf.df['z'].values\n",
    "        atom_types = pdf.df['atom_name'].values\n",
    "        residue_names = pdf.df['subst_name'].values\n",
    "        partial_charge = pdf.df['charge'].values\n",
    "        smarts_notation = next(pybel.readfile(file_type, path))\n",
    "    else:\n",
    "        raise ValueError('Need a pdb or mol2 file')\n",
    "    # atomic coordinates\n",
    "   \n",
    "\n",
    "    # create an array containing tuples of x,y,z for every atom\n",
    "    positions = []\n",
    "    for i, x in enumerate(x_coords):\n",
    "        position_tuple = (x_coords[i], y_coords[i], z_coords[i])\n",
    "        positions.append(position_tuple)\n",
    "    positions = np.array(positions)\n",
    "\n",
    "    # names of all the atoms contained in the protein\n",
    "    \n",
    "    num_atoms = len(atom_types)\n",
    "    atom_type_set = np.unique(atom_types)\n",
    "    num_atom_types = len(atom_type_set)\n",
    "\n",
    "    # residue names\n",
    "    \n",
    "    residue_set = np.unique(residue_names)\n",
    "\n",
    "    protein_dict = {'x_coords':x_coords, 'y_coords':y_coords, 'z_coords':z_coords,\n",
    "                    'positions':positions, 'atom_types':atom_types,\n",
    "                    'num_atoms':num_atoms, 'atom_type_set':atom_type_set,\n",
    "                    'num_atom_types':num_atom_types, 'residues':residue_names,\n",
    "                    'residue_set':residue_set}\n",
    "    \n",
    "    if file_type == 'mol2':\n",
    "        protein_dict['charge'] = partial_charge\n",
    "        protein_dict['smarts'] = smarts_notation\n",
    "\n",
    "    # add a value to the dictionary, which is all of the atomic coordinates just\n",
    "    # shifted to the origin\n",
    "    protein_dict = shift_coords(protein_dict)\n",
    "\n",
    "    return protein_dict\n",
    "\n",
    "def shift_coords(protein_dict):\n",
    "    \"\"\"\n",
    "    This function shifts the coordinates of a protein so that it's coordinates are in the center\n",
    "    of the field tensor.\n",
    "    Parameters:\n",
    "        protein_dict (dict): A dictionary of information from the first part of the load_pdb function.\n",
    "    Returns:\n",
    "        dictionary: The original protein dict but with an added value containing\n",
    "            the coordinates of the protein shifted to the origin.\n",
    "    \"\"\"\n",
    "    # find the extreme x, y, and z values that exist in the protein atomic coordinates\n",
    "    x_extremes = np.array([protein_dict['x_coords'].min(), protein_dict['x_coords'].max()])\n",
    "    y_extremes = np.array([protein_dict['y_coords'].min(), protein_dict['y_coords'].max()])\n",
    "    z_extremes = np.array([protein_dict['z_coords'].min(), protein_dict['z_coords'].max()])\n",
    "\n",
    "    # calculate the midpoints of the extremes\n",
    "    midpoints = [np.sum(x_extremes)/2, np.sum(y_extremes)/2, np.sum(z_extremes)/2]\n",
    "#     print(x_extremes, y_extremes, z_extremes)\n",
    "\n",
    "    # shift the coordinates by the midpoints of those extremes (center the protein on the origin)\n",
    "    protein_dict['shifted_positions'] = protein_dict['positions'] - midpoints\n",
    "\n",
    "    return protein_dict"
   ]
  },
  {
   "cell_type": "code",
   "execution_count": 3,
   "metadata": {},
   "outputs": [
    {
     "name": "stdout",
     "output_type": "stream",
     "text": [
      "C(=O)(C)N[C@H](C(=O)N[C@H](C(=O)N1CCC[C@H](C1)CCCC)CCC(=O)O)Cc1ccc(cc1)OP(O)(O)O\t1a1e_ligand\n",
      "\n"
     ]
    }
   ],
   "source": [
    "pro_dict = load_pdb('1a1e_ligand.mol2')\n",
    "print(pro_dict['smarts'])"
   ]
  },
  {
   "cell_type": "code",
   "execution_count": 4,
   "metadata": {},
   "outputs": [],
   "source": [
    "def grid_positions(grid_array):\n",
    "    \"\"\"\n",
    "    This function returns the 3D meshgrids of x, y and z positions.\n",
    "    These cubes will be flattened, then used as a reference coordinate system\n",
    "    to place the actual channel densities into.\n",
    "    Parameters:\n",
    "        grid_positions (pytorch tensor): lineraly spaced grid\n",
    "    Returns:\n",
    "        array: meshgrid array of the x, y and z positions.\n",
    "    \"\"\"\n",
    "    xgrid = grid_array.view(-1, 1, 1).repeat(1, len(grid_array), len(grid_array))\n",
    "    ygrid = grid_array.view(1, -1, 1).repeat(len(grid_array), 1, len(grid_array))\n",
    "    zgrid = grid_array.view(1, 1, -1).repeat(len(grid_array), len(grid_array), 1)\n",
    "    return (xgrid, ygrid, zgrid)\n",
    "\n",
    "def make_fields(protein_dict, channels, bin_size, num_bins):\n",
    "    \"\"\"\n",
    "    This function takes a protein dict (from load_pdb function) and outputs a\n",
    "        large tensor containing many atomic \"fields\" for the protein.\n",
    "    The fields describe the atomic \"density\" (an exponentially decaying function\n",
    "        of number of atoms in a voxel) of any particular atom type.\n",
    "    Parameters:\n",
    "        protein_dict (dict, requred): dictionary from the load_pdb function\n",
    "        channels (list-like, optional): the different atomic densities we want fields for\n",
    "            theoretically these different fields provide different chemical information\n",
    "            full list of available channels is in protein_dict['atom_type_set']\n",
    "        bin_size (float, optional): the side-length (angstrom) of a given voxel in the box\n",
    "            that atomic densities are placed in\n",
    "        num_bins (int, optional): how big is the cubic field tensor side length\n",
    "            (i.e., num_bins is box side length)\n",
    "    Returns:\n",
    "        dictionary: A list of atomic density tensors (50x50x50), one for each\n",
    "            channel in channels\n",
    "    \"\"\"\n",
    "    # sets of allowed filters to build channels with\n",
    "    residue_filters = protein_dict['residue_set']\n",
    "    atom_filters = protein_dict['atom_type_set']\n",
    "    residue_property_filters = np.array(['acidic', 'basic', 'polar', 'nonpolar',\\\n",
    "                                         'charged', 'amphipathic'])\n",
    "    smart_filters = np.array(['hydrophobic', 'aromatic', 'acceptor', 'donor',\n",
    "                             'ring'])\n",
    "    named_prop = np.array(['hyb', 'heavyvalence', 'heterovalence', 'partialcharge'])\n",
    "    other_filters = np.array(['backbone', 'sidechains'])\n",
    "\n",
    "    # consolidate into one set of filters\n",
    "    filter_set = {'atom':atom_filters, 'residue':residue_filters,\\\n",
    "                  'residue_property':residue_property_filters, \\\n",
    "                  'smarts_property':smart_filters, \\\n",
    "                  'atom_property': named_prop, 'other':other_filters}\n",
    "\n",
    "    # construct a single empty field, then initialize a dictionary with one\n",
    "    # empty field for every channel we are going to calculate the density for\n",
    "    empty_field = torch.zeros((num_bins, num_bins, num_bins))\n",
    "    fields = {channel:empty_field for channel in channels}\n",
    "\n",
    "    # create linearly spaced grid (default is -49 to 49 in steps of 2)\n",
    "    grid_1d = torch.linspace(start=-num_bins / 2 * bin_size + bin_size / 2,\n",
    "                             end=num_bins / 2 * bin_size - bin_size / 2,\n",
    "                             steps=num_bins)\n",
    "\n",
    "    # This makes three 3D meshgrids in for the x, y, and z positions\n",
    "    # These cubes will be flattened, then used as a reference coordinate system\n",
    "    # to place the actual channel densities into\n",
    "    xgrid, ygrid, zgrid = grid_positions(grid_1d)\n",
    "\n",
    "    for channel_index, channel in enumerate(channels):\n",
    "\n",
    "        # no illegal channels allowed, assume the channel sucks\n",
    "        channel_allowed = check_channel(channel, filter_set)\n",
    "\n",
    "        if channel_allowed:\n",
    "            pass\n",
    "        else:\n",
    "            #err_string = 'Allowed channels are: in a protein\\'s atom_type_set,\n",
    "                        # residue_set',or the \\'sidechains\\' and \\'backbone\\' channels.'\n",
    "            raise ValueError('The channel ', channel, ' is not allowed for this protein.')\n",
    "\n",
    "\n",
    "        # Extract positions of atoms that are part of the current channel\n",
    "\n",
    "        atom_positions = find_channel_atoms(channel, protein_dict, filter_set)\n",
    "        \n",
    "        #print('This is channel ', atom_positions)\n",
    "\n",
    "        atom_positions = torch.FloatTensor(atom_positions)\n",
    "        \n",
    "\n",
    "        # xgrid.view(-1, 1) is 125,000 long, because it's viewing a 50x50x50 cube in one column\n",
    "        # then you repeat that column horizontally for each atom\n",
    "        xx_xx = xgrid.view(-1, 1).repeat(1, len(atom_positions))\n",
    "        yy_yy = ygrid.view(-1, 1).repeat(1, len(atom_positions))\n",
    "        zz_zz = zgrid.view(-1, 1).repeat(1, len(atom_positions))\n",
    "        \n",
    "        # at this point we've created 3 arrays that are 125,000 long\n",
    "        # and as wide as the number of atoms that are the current channel type\n",
    "        # these 3 arrays just contain the flattened x,y,z positions of our 50x50x50 box\n",
    "\n",
    "\n",
    "        # now do the same thing as above, just with the ACTUAL atomic position data\n",
    "        posx_posx = atom_positions[:, 0].contiguous().view(1, -1).repeat(len(xgrid.view(-1)), 1)\n",
    "        print(xx_xx[0].shape)\n",
    "        posy_posy = atom_positions[:, 1].contiguous().view(1, -1).repeat(len(ygrid.view(-1)), 1)\n",
    "        posz_posz = atom_positions[:, 2].contiguous().view(1, -1).repeat(len(zgrid.view(-1)), 1)\n",
    "        # three tensors of the same size, with actual atomic coordinates\n",
    "\n",
    "        # normalizes the atomic positions with respect to the center of the box\n",
    "        # and calculates density of atoms in each voxel\n",
    "        sigma = 0.5*bin_size\n",
    "\n",
    "        \n",
    "        if channel in named_prop:\n",
    "            prop = []\n",
    "            for atom in protein_dict['smarts']:\n",
    "    #atom.__getattribute__(prop)\n",
    "                prop.append(atom.__getattribute__(named_prop[np.int(np.where(named_prop == channel)[0])]))\n",
    "\n",
    "            prop = np.array(prop)\n",
    "\n",
    "            normalized_prop =  (prop-min(prop))/(max(prop)-min(prop))\n",
    "            #print(normalized_prop)\n",
    "            \n",
    "            density = torch.exp(-(((xx_xx - posx_posx)**2) * normalized_prop\n",
    "                              + ((yy_yy - posy_posy)**2) * normalized_prop\n",
    "                              + ((zz_zz - posz_posz)**2) * normalized_prop) / (2 * (sigma)**2))\n",
    "        \n",
    "        else:\n",
    "            density = torch.exp(-((xx_xx - posx_posx)**2\n",
    "                            + (yy_yy - posy_posy)**2\n",
    "                            + (zz_zz - posz_posz)**2) / (2 * (sigma)**2))\n",
    "        print(density.shape)\n",
    "\n",
    "        # Normalize so each atom density sums to one\n",
    "        density /= torch.sum(density, dim=0)\n",
    "\n",
    "        # Sum densities and reshape to original shape\n",
    "        sum_densities = torch.sum(density, dim=1).view(xgrid.shape)\n",
    "        print(sum_densities.shape)\n",
    "\n",
    "        # set all nans to 0\n",
    "        sum_densities[sum_densities != sum_densities] = 0\n",
    "\n",
    "        # add two empty dimmensions to make it 1x1x50x50x50, needed for CNN\n",
    "        # sum_densities = sum_densities.unsqueeze(0)\n",
    "        # sum_densities = sum_densities.unsqueeze(0)\n",
    "\n",
    "        #fields[atom_type_index] = sum_densities\n",
    "        fields[channel] = sum_densities.numpy()\n",
    "\n",
    "#     if return_bins:\n",
    "#         return fields, num_bins\n",
    "#     else:\n",
    "        return fields\n",
    "\n",
    "def check_channel(channel, filter_set):\n",
    "    \"\"\"\n",
    "    This function checks to see if a channel the user is asking to make a field\n",
    "        for is an allowed channel to ask for.\n",
    "    Parameters:\n",
    "        channel (str, required): The atomic channel being requested\n",
    "        filter_set (dict, required): The set of defined atomic filters\n",
    "    Returns:\n",
    "        boolean: indicator for if the channel is allowed\n",
    "    \"\"\"\n",
    "    channel_allowed = False\n",
    "    for key in filter_set:\n",
    "        if channel in filter_set[key]:\n",
    "            channel_allowed = True\n",
    "\n",
    "    return channel_allowed\n",
    "\n",
    "def find_channel_atoms(channel, protein_dict, filter_set):\n",
    "    \"\"\"\n",
    "    This function finds the coordinates of all relevant atoms in a channel.\n",
    "    It uses the filter set to constrcut the atomic channel (i.e., a channel can\n",
    "        be composed of multiple filters).\n",
    "    Parameters:\n",
    "        channel (str, required): The atomic channel being constructed\n",
    "        protein_dict (dict, required): The dictionary of the protein, returned from\n",
    "            load_pdb()\n",
    "        filter_set (dict, required): The set of available filters to construct channels with\n",
    "    Returns:\n",
    "        numpy array:  array containing the coordinates of each atom that is relevant\n",
    "            to the channel\n",
    "    \"\"\"\n",
    "    if channel in filter_set['atom']:\n",
    "        atom_positions = protein_dict['shifted_positions'][protein_dict['atom_types'] == channel]\n",
    "\n",
    "    elif channel in filter_set['residue']:\n",
    "        atom_positions = protein_dict['shifted_positions'][protein_dict['residues'] == channel]\n",
    "        \n",
    "    elif channel in filter_set['smarts_property']:\n",
    "        smarts_list = [\n",
    "                '[#6+0!$(*~[#7,#8,F]),SH0+0v2,s+0,S^3,Cl+0,Br+0,I+0]',\n",
    "                '[a]',\n",
    "                '[!$([#1,#6,F,Cl,Br,I,o,s,nX3,#7v5,#15v5,#16v4,#16v6,*+1,*+2,*+3])]',\n",
    "                '[!$([#6,H0,-,-2,-3]),$([!H0;#7,#8,#9])]',\n",
    "                '[r]'\n",
    "            ]\n",
    "        smarts_list_entry = smarts_list[np.int(np.where(filter_set['smarts_property'] == channel)[0])]\n",
    "        pattern = pybel.Smarts(smarts_list_entry)\n",
    "        atoms_smart = np.array(list(*zip(*pattern.findall(protein_dict['smarts']))),\n",
    "                                    dtype=int) - 1\n",
    "        print(atoms_smart)\n",
    "        atom_positions = protein_dict['shifted_positions'][atoms_smart]\n",
    "    \n",
    "    elif channel in filter_set['atom_property']:\n",
    "        atom_positions = protein_dict['shifted_positions']\n",
    "\n",
    "    elif channel in filter_set['other']: # backbone or sidechain\n",
    "        if channel == 'backbone':\n",
    "            # create boolean arrays for backbone atoms\n",
    "            bool_oxygen = protein_dict['atom_types'] == 'O'\n",
    "            bool_carbon = protein_dict['atom_types'] == 'C'\n",
    "            bool_alphacarbon = protein_dict['atom_types'] == 'CA'\n",
    "            bool_nitrogen = protein_dict['atom_types'] == 'N'\n",
    "\n",
    "            # sum of all the backbone channels into one boolean array\n",
    "            bool_backbone = bool_oxygen + bool_carbon + bool_alphacarbon + bool_nitrogen\n",
    "\n",
    "            # select the backbone atoms\n",
    "            atom_positions = protein_dict['shifted_positions'][bool_backbone]\n",
    "\n",
    "        else: # it was 'sidechain' filter, so grab sidechain atoms\n",
    "            backbone_atom_set = np.array(['O', 'C', 'CA', 'N'])\n",
    "            sidechain_atom_set = np.array([atom for atom in protein_dict['atom_type_set'] \\\n",
    "                                           if atom not in backbone_atom_set])\n",
    "\n",
    "            for index, sidechain_atom in enumerate(sidechain_atom_set):\n",
    "                if index == 0:\n",
    "                    # create the first sidechains boolean array, will be edited\n",
    "                    bool_sidechains = protein_dict['atom_types'] == sidechain_atom\n",
    "                else:\n",
    "                    # single boolean array for the current sidechain atom\n",
    "                    bool_atom = protein_dict['atom_types'] == sidechain_atom\n",
    "\n",
    "                    # sum this boolean array with the master boolean array\n",
    "                    bool_sidechains += bool_atom\n",
    "\n",
    "            # grab all sidechain atom positions\n",
    "            atom_positions = protein_dict['shifted_positions'][bool_sidechains]\n",
    "\n",
    "    else: # it was a residue property channel\n",
    "        acidic_residues = np.array(['ASP', 'GLU'])\n",
    "        basic_residues = np.array(['LYS', 'ARG', 'HIS'])\n",
    "        polar_residues = np.array(['GLN', 'ASN', 'HIS', 'SER', 'THR', 'TYR', 'CYS'])\n",
    "        nonpolar_residues = np.array(['GLY', 'ALA', 'VAL', 'LEU', \\\n",
    "                                        'ILE', 'MET', 'PRO', 'PHE', 'TRP'])\n",
    "        amphipathic_residues = np.array(['TRP', 'TYR', 'MET'])\n",
    "        charged_residues = np.array(['ARG', 'LYS', 'ASP', 'GLU'])\n",
    "        # custom_residues = something\n",
    "        property_dict = {'acidic':acidic_residues, 'basic':basic_residues,\\\n",
    "                         'polar':polar_residues, 'nonpolar':nonpolar_residues,\\\n",
    "                         'amphipathic':amphipathic_residues, 'charged':charged_residues}\n",
    "\n",
    "        atom_positions = atoms_from_residues(protein_dict, property_dict[channel])\n",
    "\n",
    "    return atom_positions\n",
    "\n",
    "def atoms_from_residues(protein_dict, residue_list):\n",
    "    \"\"\"\n",
    "    This function finds all the atoms in a protein that are members of any residues\n",
    "    in a list of residues.\n",
    "    Parameters:\n",
    "        protein_dict (dict, required): The dictionary of the protein, returned from\n",
    "            load_pdb()\n",
    "        residue_list (list-like, required): The list of residues whose atoms we are\n",
    "            finding coordinates for\n",
    "    \"\"\"\n",
    "    # construct the appropriate boolean array to index the atoms in the protein_dict\n",
    "    for index, residue in enumerate(residue_list):\n",
    "        if index == 0:\n",
    "            bool_residue = protein_dict['residues'] == residue\n",
    "        else:\n",
    "            bool_residue += protein_dict['residues'] == residue\n",
    "\n",
    "    atom_positions = protein_dict['shifted_positions'][bool_residue]\n",
    "\n",
    "    return atom_positions\n",
    "\n",
    "def voxelize(path, channels=['CA'], path_type='file', bin_size=2.0, num_bins=50, save=False, save_fn='voxels.npy', save_path='./'):\n",
    "    \"\"\"\n",
    "    This function creates a dictionary of tensor fields directly from a pdb file.\n",
    "    These tensor fields can be plotted, or sent directly into the cnn for\n",
    "        plotting internals, or sent all the way through a cnn/vae to be used for\n",
    "        training.\n",
    "    Parameters:\n",
    "        path (str, required): path to a .pdb file\n",
    "        channels (list of strings, optional): The list of atomic channels to be included in\n",
    "            the output dictionary, one field for every channel.\n",
    "            Any channels from points 1-4 below may be combined in any order.\n",
    "            i.e., one could call voxelize with the channels parameter as\n",
    "            channels=['charged', 'CB', 'GLY', 'polar', ...etc]. Note that voxelization\n",
    "            for channels containing more atoms will take longer.\n",
    "            1. any of the following atom types\n",
    "                ['C' 'CA' 'CB' 'CD' 'CD1' 'CD2' 'CE' 'CE1' 'CE2' 'CE3' 'CG' 'CG1' 'CG2'\n",
    "                'CH2' 'CZ' 'CZ2' 'CZ3' 'N' 'ND1' 'ND2' 'NE' 'NE1' 'NE2' 'NH1' 'NH2' 'NZ'\n",
    "                'O' 'OD1' 'OD2' 'OE1' 'OE2' 'OG' 'OG1' 'OH' 'OXT' 'SD' 'SG']\n",
    "            2. Any canonical residue in the protein, using the three letter residue code, all caps\n",
    "               (NOTE: the residue must actually exist in the protein)\n",
    "                e.g., ['LYS', 'LEU', 'ALA']\n",
    "            3. The 'other' channel options: 'backbone', 'sidechains'\n",
    "            4. There are 6 channels corresponding to specific types of residues:\n",
    "                'charged', 'polar', 'nonpolar', 'amphipathic', 'acidic', 'basic'\n",
    "    Returns:\n",
    "        dictionary: a dictionary containing a voxelized atomic fields, one for each\n",
    "        channel requested. Each field has shape = ([1, 1, 50, 50, 50])\n",
    "    \"\"\"\n",
    "    if path_type == 'file':\n",
    "        protein_dict = load_pdb(path)\n",
    "        sys.stdout.write('done')\n",
    "        return make_fields(protein_dict, channels=channels, bin_size=bin_size, num_bins=num_bins)\n",
    "\n",
    "    # ------------FOLDER FUNCTIONALITY INCOMPLETE---------------\n",
    "    elif path_type == 'folder':\n",
    "        fields = []\n",
    "        pdb_fns = os.listdir(path)\n",
    "        for j, fn in enumerate(pdb_fns):\n",
    "            progress = '{}/{} pdbs voxelized ({}%)'.format(j, len(pdb_fns), \\\n",
    "                        round(j / len(pdb_fns) * 100, 2))\n",
    "            sys.stdout.write('\\r'+progress)\n",
    "            protein_dict = load_pdb(os.path.join(path, fn))\n",
    "            field, bins = make_fields(protein_dict, channels=channels, bin_size=bin_size, num_bins=num_bins)\n",
    "            channel_list = []\n",
    "            for channel in channels:\n",
    "                channel_list.append(field[channel].reshape(1,\n",
    "                                                           bins,\n",
    "                                                           bins,\n",
    "                                                           bins))\n",
    "            field = np.concatenate(channel_list).reshape(1,len(channels),\n",
    "                                                         bins, bins, bins)\n",
    "            fields.append(field)\n",
    "        sys.stdout.write(\"\\r\\033[K\")\n",
    "        out_statement = 'voxelization complete!\\n'\n",
    "        sys.stdout.write('\\r'+out_statement)\n",
    "        fields = np.concatenate(fields)\n",
    "\n",
    "        if save:\n",
    "            np.save(os.path.join(save_path, save_fn), fields)\n",
    "        else:\n",
    "            return fields"
   ]
  },
  {
   "cell_type": "code",
   "execution_count": 14,
   "metadata": {},
   "outputs": [],
   "source": [
    "file_name = '1a1e_ligand.mol2'\n",
    "myprotein_dict = load_pdb(file_name)\n",
    "shift_coordinates = shift_coords(myprotein_dict)"
   ]
  },
  {
   "cell_type": "code",
   "execution_count": 15,
   "metadata": {},
   "outputs": [
    {
     "name": "stdout",
     "output_type": "stream",
     "text": [
      "donetorch.Size([73])\n",
      "torch.Size([125000, 73])\n",
      "torch.Size([50, 50, 50])\n"
     ]
    }
   ],
   "source": [
    "voxel = voxelize(file_name, channels=['partialcharge'], bin_size=2.0,num_bins=50)"
   ]
  },
  {
   "cell_type": "code",
   "execution_count": 16,
   "metadata": {},
   "outputs": [
    {
     "name": "stdout",
     "output_type": "stream",
     "text": [
      "torch.Size([73])\n",
      "torch.Size([125000, 73])\n",
      "torch.Size([50, 50, 50])\n"
     ]
    },
    {
     "data": {
      "application/vnd.plotly.v1+json": {
       "config": {
        "plotlyServerURL": "https://plot.ly"
       },
       "data": [
        {
         "hovertemplate": "x=%{x}<br>y=%{y}<br>z=%{z}<br>intensity=%{marker.color}<extra></extra>",
         "legendgroup": "",
         "marker": {
          "color": [
           0.2676590864337514,
           0.36480379732386936,
           0.559998623256637,
           0.2720818193769483,
           0.5218472988987061,
           0.6605657379868634,
           0.4578450897566906,
           0.25025016594408556,
           0.5451741959897338,
           0.5018039662150383,
           0.3239014635268699,
           0.7996748028629008,
           0.6931611880151244,
           0.38535629060916055,
           0.34464528452385573,
           0.6832385204873658,
           0.24175309334546463,
           0.4242573266407715,
           0.6864909704441666,
           0.4937281697932518,
           0.3897130151765016,
           0.2287588660266538,
           0.3162515151191204,
           0.28021463173380473,
           0.35013824541023203,
           0.21157732461869355,
           0.6739715309106066,
           1,
           0.6604240533010834,
           0.34239548610263826,
           0.8589540347712274,
           0.8675330876141071,
           0.6090498233816302,
           0.6810439731515505,
           0.8608449028585308,
           0.9713563474555947,
           0.32538676740498046,
           0.20005919280377263,
           0.6320270915728803,
           0.6315479208188105,
           0.44842435522727586,
           0.2788254402524268,
           0.4530445735261138,
           0.9630235090710427,
           0.4534398304000594,
           0.34512184571470483,
           0.4181932560924584,
           0.30229424417181466,
           0.30579597295106503,
           0.6470438898507096,
           0.27189395264518973,
           0.3509013006299749,
           0.840475883588189,
           0.9573659620184275,
           0.5049079110335997,
           0.2159597412661824,
           0.7008762785453581,
           0.6079550746642826,
           0.520675888622117,
           0.8623056055460705,
           0.8189666962843423,
           0.5721105650968115,
           0.38018702101869295,
           0.24861643525271424,
           0.34825270226653166,
           0.7482239701501929,
           0.6808102553401009,
           0.2057322521577366,
           0.3060669614195559,
           0.23796866886210635,
           0.2860396070213925,
           0.36527443050860975,
           0.31497385724584726,
           0.6170520073284306,
           0.4205458703496949
          ],
          "coloraxis": "coloraxis",
          "opacity": 0.7,
          "symbol": "circle"
         },
         "mode": "markers",
         "name": "",
         "scene": "scene",
         "showlegend": false,
         "type": "scatter3d",
         "x": [
          -5,
          -3,
          -3,
          -3,
          -3,
          -3,
          -3,
          -3,
          -3,
          -3,
          -3,
          -3,
          -3,
          -3,
          -3,
          -3,
          -3,
          -3,
          -3,
          -3,
          -3,
          -1,
          -1,
          -1,
          -1,
          -1,
          -1,
          -1,
          -1,
          -1,
          -1,
          -1,
          -1,
          -1,
          -1,
          -1,
          -1,
          -1,
          -1,
          -1,
          -1,
          -1,
          -1,
          -1,
          -1,
          -1,
          -1,
          1,
          1,
          1,
          1,
          1,
          1,
          1,
          1,
          1,
          1,
          1,
          1,
          1,
          1,
          1,
          1,
          1,
          1,
          1,
          1,
          1,
          1,
          3,
          3,
          3,
          3,
          3,
          3
         ],
         "y": [
          1,
          -3,
          -3,
          -3,
          -1,
          -1,
          -1,
          -1,
          -1,
          -1,
          1,
          1,
          1,
          1,
          1,
          1,
          1,
          3,
          3,
          3,
          3,
          -5,
          -5,
          -3,
          -3,
          -3,
          -3,
          -3,
          -3,
          -1,
          -1,
          -1,
          -1,
          -1,
          -1,
          -1,
          -1,
          1,
          1,
          1,
          1,
          1,
          1,
          1,
          1,
          3,
          3,
          -5,
          -5,
          -3,
          -3,
          -3,
          -3,
          -3,
          -3,
          -1,
          -1,
          -1,
          -1,
          -1,
          -1,
          -1,
          -1,
          1,
          1,
          1,
          1,
          1,
          1,
          -3,
          -3,
          -1,
          -1,
          1,
          1
         ],
         "z": [
          -5,
          3,
          5,
          7,
          -5,
          -3,
          -1,
          3,
          5,
          7,
          -7,
          -5,
          -3,
          -1,
          5,
          7,
          9,
          -7,
          -5,
          -3,
          7,
          3,
          5,
          -5,
          -3,
          1,
          3,
          5,
          7,
          -5,
          -3,
          -1,
          1,
          3,
          5,
          7,
          9,
          -5,
          -3,
          -1,
          1,
          3,
          5,
          7,
          9,
          -3,
          7,
          3,
          5,
          -5,
          -3,
          1,
          3,
          5,
          7,
          -7,
          -5,
          -3,
          -1,
          1,
          3,
          5,
          7,
          -3,
          -1,
          1,
          3,
          5,
          7,
          -5,
          5,
          1,
          3,
          1,
          3
         ]
        }
       ],
       "layout": {
        "coloraxis": {
         "colorbar": {
          "title": {
           "text": "intensity"
          }
         },
         "colorscale": [
          [
           0,
           "rgb(253, 253, 204)"
          ],
          [
           0.09090909090909091,
           "rgb(206, 236, 179)"
          ],
          [
           0.18181818181818182,
           "rgb(156, 219, 165)"
          ],
          [
           0.2727272727272727,
           "rgb(111, 201, 163)"
          ],
          [
           0.36363636363636365,
           "rgb(86, 177, 163)"
          ],
          [
           0.45454545454545453,
           "rgb(76, 153, 160)"
          ],
          [
           0.5454545454545454,
           "rgb(68, 130, 155)"
          ],
          [
           0.6363636363636364,
           "rgb(62, 108, 150)"
          ],
          [
           0.7272727272727273,
           "rgb(62, 82, 143)"
          ],
          [
           0.8181818181818182,
           "rgb(64, 60, 115)"
          ],
          [
           0.9090909090909091,
           "rgb(54, 43, 77)"
          ],
          [
           1,
           "rgb(39, 26, 44)"
          ]
         ]
        },
        "legend": {
         "tracegroupgap": 0
        },
        "margin": {
         "t": 60
        },
        "scene": {
         "domain": {
          "x": [
           0,
           1
          ],
          "y": [
           0,
           1
          ]
         },
         "xaxis": {
          "range": [
           -25,
           25
          ],
          "title": {
           "text": "x"
          }
         },
         "yaxis": {
          "range": [
           -25,
           25
          ],
          "title": {
           "text": "y"
          }
         },
         "zaxis": {
          "range": [
           -25,
           25
          ],
          "title": {
           "text": "z"
          }
         }
        },
        "template": {
         "data": {
          "bar": [
           {
            "error_x": {
             "color": "#2a3f5f"
            },
            "error_y": {
             "color": "#2a3f5f"
            },
            "marker": {
             "line": {
              "color": "#E5ECF6",
              "width": 0.5
             }
            },
            "type": "bar"
           }
          ],
          "barpolar": [
           {
            "marker": {
             "line": {
              "color": "#E5ECF6",
              "width": 0.5
             }
            },
            "type": "barpolar"
           }
          ],
          "carpet": [
           {
            "aaxis": {
             "endlinecolor": "#2a3f5f",
             "gridcolor": "white",
             "linecolor": "white",
             "minorgridcolor": "white",
             "startlinecolor": "#2a3f5f"
            },
            "baxis": {
             "endlinecolor": "#2a3f5f",
             "gridcolor": "white",
             "linecolor": "white",
             "minorgridcolor": "white",
             "startlinecolor": "#2a3f5f"
            },
            "type": "carpet"
           }
          ],
          "choropleth": [
           {
            "colorbar": {
             "outlinewidth": 0,
             "ticks": ""
            },
            "type": "choropleth"
           }
          ],
          "contour": [
           {
            "colorbar": {
             "outlinewidth": 0,
             "ticks": ""
            },
            "colorscale": [
             [
              0,
              "#0d0887"
             ],
             [
              0.1111111111111111,
              "#46039f"
             ],
             [
              0.2222222222222222,
              "#7201a8"
             ],
             [
              0.3333333333333333,
              "#9c179e"
             ],
             [
              0.4444444444444444,
              "#bd3786"
             ],
             [
              0.5555555555555556,
              "#d8576b"
             ],
             [
              0.6666666666666666,
              "#ed7953"
             ],
             [
              0.7777777777777778,
              "#fb9f3a"
             ],
             [
              0.8888888888888888,
              "#fdca26"
             ],
             [
              1,
              "#f0f921"
             ]
            ],
            "type": "contour"
           }
          ],
          "contourcarpet": [
           {
            "colorbar": {
             "outlinewidth": 0,
             "ticks": ""
            },
            "type": "contourcarpet"
           }
          ],
          "heatmap": [
           {
            "colorbar": {
             "outlinewidth": 0,
             "ticks": ""
            },
            "colorscale": [
             [
              0,
              "#0d0887"
             ],
             [
              0.1111111111111111,
              "#46039f"
             ],
             [
              0.2222222222222222,
              "#7201a8"
             ],
             [
              0.3333333333333333,
              "#9c179e"
             ],
             [
              0.4444444444444444,
              "#bd3786"
             ],
             [
              0.5555555555555556,
              "#d8576b"
             ],
             [
              0.6666666666666666,
              "#ed7953"
             ],
             [
              0.7777777777777778,
              "#fb9f3a"
             ],
             [
              0.8888888888888888,
              "#fdca26"
             ],
             [
              1,
              "#f0f921"
             ]
            ],
            "type": "heatmap"
           }
          ],
          "heatmapgl": [
           {
            "colorbar": {
             "outlinewidth": 0,
             "ticks": ""
            },
            "colorscale": [
             [
              0,
              "#0d0887"
             ],
             [
              0.1111111111111111,
              "#46039f"
             ],
             [
              0.2222222222222222,
              "#7201a8"
             ],
             [
              0.3333333333333333,
              "#9c179e"
             ],
             [
              0.4444444444444444,
              "#bd3786"
             ],
             [
              0.5555555555555556,
              "#d8576b"
             ],
             [
              0.6666666666666666,
              "#ed7953"
             ],
             [
              0.7777777777777778,
              "#fb9f3a"
             ],
             [
              0.8888888888888888,
              "#fdca26"
             ],
             [
              1,
              "#f0f921"
             ]
            ],
            "type": "heatmapgl"
           }
          ],
          "histogram": [
           {
            "marker": {
             "colorbar": {
              "outlinewidth": 0,
              "ticks": ""
             }
            },
            "type": "histogram"
           }
          ],
          "histogram2d": [
           {
            "colorbar": {
             "outlinewidth": 0,
             "ticks": ""
            },
            "colorscale": [
             [
              0,
              "#0d0887"
             ],
             [
              0.1111111111111111,
              "#46039f"
             ],
             [
              0.2222222222222222,
              "#7201a8"
             ],
             [
              0.3333333333333333,
              "#9c179e"
             ],
             [
              0.4444444444444444,
              "#bd3786"
             ],
             [
              0.5555555555555556,
              "#d8576b"
             ],
             [
              0.6666666666666666,
              "#ed7953"
             ],
             [
              0.7777777777777778,
              "#fb9f3a"
             ],
             [
              0.8888888888888888,
              "#fdca26"
             ],
             [
              1,
              "#f0f921"
             ]
            ],
            "type": "histogram2d"
           }
          ],
          "histogram2dcontour": [
           {
            "colorbar": {
             "outlinewidth": 0,
             "ticks": ""
            },
            "colorscale": [
             [
              0,
              "#0d0887"
             ],
             [
              0.1111111111111111,
              "#46039f"
             ],
             [
              0.2222222222222222,
              "#7201a8"
             ],
             [
              0.3333333333333333,
              "#9c179e"
             ],
             [
              0.4444444444444444,
              "#bd3786"
             ],
             [
              0.5555555555555556,
              "#d8576b"
             ],
             [
              0.6666666666666666,
              "#ed7953"
             ],
             [
              0.7777777777777778,
              "#fb9f3a"
             ],
             [
              0.8888888888888888,
              "#fdca26"
             ],
             [
              1,
              "#f0f921"
             ]
            ],
            "type": "histogram2dcontour"
           }
          ],
          "mesh3d": [
           {
            "colorbar": {
             "outlinewidth": 0,
             "ticks": ""
            },
            "type": "mesh3d"
           }
          ],
          "parcoords": [
           {
            "line": {
             "colorbar": {
              "outlinewidth": 0,
              "ticks": ""
             }
            },
            "type": "parcoords"
           }
          ],
          "pie": [
           {
            "automargin": true,
            "type": "pie"
           }
          ],
          "scatter": [
           {
            "marker": {
             "colorbar": {
              "outlinewidth": 0,
              "ticks": ""
             }
            },
            "type": "scatter"
           }
          ],
          "scatter3d": [
           {
            "line": {
             "colorbar": {
              "outlinewidth": 0,
              "ticks": ""
             }
            },
            "marker": {
             "colorbar": {
              "outlinewidth": 0,
              "ticks": ""
             }
            },
            "type": "scatter3d"
           }
          ],
          "scattercarpet": [
           {
            "marker": {
             "colorbar": {
              "outlinewidth": 0,
              "ticks": ""
             }
            },
            "type": "scattercarpet"
           }
          ],
          "scattergeo": [
           {
            "marker": {
             "colorbar": {
              "outlinewidth": 0,
              "ticks": ""
             }
            },
            "type": "scattergeo"
           }
          ],
          "scattergl": [
           {
            "marker": {
             "colorbar": {
              "outlinewidth": 0,
              "ticks": ""
             }
            },
            "type": "scattergl"
           }
          ],
          "scattermapbox": [
           {
            "marker": {
             "colorbar": {
              "outlinewidth": 0,
              "ticks": ""
             }
            },
            "type": "scattermapbox"
           }
          ],
          "scatterpolar": [
           {
            "marker": {
             "colorbar": {
              "outlinewidth": 0,
              "ticks": ""
             }
            },
            "type": "scatterpolar"
           }
          ],
          "scatterpolargl": [
           {
            "marker": {
             "colorbar": {
              "outlinewidth": 0,
              "ticks": ""
             }
            },
            "type": "scatterpolargl"
           }
          ],
          "scatterternary": [
           {
            "marker": {
             "colorbar": {
              "outlinewidth": 0,
              "ticks": ""
             }
            },
            "type": "scatterternary"
           }
          ],
          "surface": [
           {
            "colorbar": {
             "outlinewidth": 0,
             "ticks": ""
            },
            "colorscale": [
             [
              0,
              "#0d0887"
             ],
             [
              0.1111111111111111,
              "#46039f"
             ],
             [
              0.2222222222222222,
              "#7201a8"
             ],
             [
              0.3333333333333333,
              "#9c179e"
             ],
             [
              0.4444444444444444,
              "#bd3786"
             ],
             [
              0.5555555555555556,
              "#d8576b"
             ],
             [
              0.6666666666666666,
              "#ed7953"
             ],
             [
              0.7777777777777778,
              "#fb9f3a"
             ],
             [
              0.8888888888888888,
              "#fdca26"
             ],
             [
              1,
              "#f0f921"
             ]
            ],
            "type": "surface"
           }
          ],
          "table": [
           {
            "cells": {
             "fill": {
              "color": "#EBF0F8"
             },
             "line": {
              "color": "white"
             }
            },
            "header": {
             "fill": {
              "color": "#C8D4E3"
             },
             "line": {
              "color": "white"
             }
            },
            "type": "table"
           }
          ]
         },
         "layout": {
          "annotationdefaults": {
           "arrowcolor": "#2a3f5f",
           "arrowhead": 0,
           "arrowwidth": 1
          },
          "coloraxis": {
           "colorbar": {
            "outlinewidth": 0,
            "ticks": ""
           }
          },
          "colorscale": {
           "diverging": [
            [
             0,
             "#8e0152"
            ],
            [
             0.1,
             "#c51b7d"
            ],
            [
             0.2,
             "#de77ae"
            ],
            [
             0.3,
             "#f1b6da"
            ],
            [
             0.4,
             "#fde0ef"
            ],
            [
             0.5,
             "#f7f7f7"
            ],
            [
             0.6,
             "#e6f5d0"
            ],
            [
             0.7,
             "#b8e186"
            ],
            [
             0.8,
             "#7fbc41"
            ],
            [
             0.9,
             "#4d9221"
            ],
            [
             1,
             "#276419"
            ]
           ],
           "sequential": [
            [
             0,
             "#0d0887"
            ],
            [
             0.1111111111111111,
             "#46039f"
            ],
            [
             0.2222222222222222,
             "#7201a8"
            ],
            [
             0.3333333333333333,
             "#9c179e"
            ],
            [
             0.4444444444444444,
             "#bd3786"
            ],
            [
             0.5555555555555556,
             "#d8576b"
            ],
            [
             0.6666666666666666,
             "#ed7953"
            ],
            [
             0.7777777777777778,
             "#fb9f3a"
            ],
            [
             0.8888888888888888,
             "#fdca26"
            ],
            [
             1,
             "#f0f921"
            ]
           ],
           "sequentialminus": [
            [
             0,
             "#0d0887"
            ],
            [
             0.1111111111111111,
             "#46039f"
            ],
            [
             0.2222222222222222,
             "#7201a8"
            ],
            [
             0.3333333333333333,
             "#9c179e"
            ],
            [
             0.4444444444444444,
             "#bd3786"
            ],
            [
             0.5555555555555556,
             "#d8576b"
            ],
            [
             0.6666666666666666,
             "#ed7953"
            ],
            [
             0.7777777777777778,
             "#fb9f3a"
            ],
            [
             0.8888888888888888,
             "#fdca26"
            ],
            [
             1,
             "#f0f921"
            ]
           ]
          },
          "colorway": [
           "#636efa",
           "#EF553B",
           "#00cc96",
           "#ab63fa",
           "#FFA15A",
           "#19d3f3",
           "#FF6692",
           "#B6E880",
           "#FF97FF",
           "#FECB52"
          ],
          "font": {
           "color": "#2a3f5f"
          },
          "geo": {
           "bgcolor": "white",
           "lakecolor": "white",
           "landcolor": "#E5ECF6",
           "showlakes": true,
           "showland": true,
           "subunitcolor": "white"
          },
          "hoverlabel": {
           "align": "left"
          },
          "hovermode": "closest",
          "mapbox": {
           "style": "light"
          },
          "paper_bgcolor": "white",
          "plot_bgcolor": "#E5ECF6",
          "polar": {
           "angularaxis": {
            "gridcolor": "white",
            "linecolor": "white",
            "ticks": ""
           },
           "bgcolor": "#E5ECF6",
           "radialaxis": {
            "gridcolor": "white",
            "linecolor": "white",
            "ticks": ""
           }
          },
          "scene": {
           "xaxis": {
            "backgroundcolor": "#E5ECF6",
            "gridcolor": "white",
            "gridwidth": 2,
            "linecolor": "white",
            "showbackground": true,
            "ticks": "",
            "zerolinecolor": "white"
           },
           "yaxis": {
            "backgroundcolor": "#E5ECF6",
            "gridcolor": "white",
            "gridwidth": 2,
            "linecolor": "white",
            "showbackground": true,
            "ticks": "",
            "zerolinecolor": "white"
           },
           "zaxis": {
            "backgroundcolor": "#E5ECF6",
            "gridcolor": "white",
            "gridwidth": 2,
            "linecolor": "white",
            "showbackground": true,
            "ticks": "",
            "zerolinecolor": "white"
           }
          },
          "shapedefaults": {
           "line": {
            "color": "#2a3f5f"
           }
          },
          "ternary": {
           "aaxis": {
            "gridcolor": "white",
            "linecolor": "white",
            "ticks": ""
           },
           "baxis": {
            "gridcolor": "white",
            "linecolor": "white",
            "ticks": ""
           },
           "bgcolor": "#E5ECF6",
           "caxis": {
            "gridcolor": "white",
            "linecolor": "white",
            "ticks": ""
           }
          },
          "title": {
           "x": 0.05
          },
          "xaxis": {
           "automargin": true,
           "gridcolor": "white",
           "linecolor": "white",
           "ticks": "",
           "title": {
            "standoff": 15
           },
           "zerolinecolor": "white",
           "zerolinewidth": 2
          },
          "yaxis": {
           "automargin": true,
           "gridcolor": "white",
           "linecolor": "white",
           "ticks": "",
           "title": {
            "standoff": 15
           },
           "zerolinecolor": "white",
           "zerolinewidth": 2
          }
         }
        },
        "title": {
         "text": ""
        }
       }
      },
      "text/html": [
       "<div>\n",
       "        \n",
       "        \n",
       "            <div id=\"124776a4-d458-410e-a7a0-f50dcb35e80a\" class=\"plotly-graph-div\" style=\"height:525px; width:100%;\"></div>\n",
       "            <script type=\"text/javascript\">\n",
       "                require([\"plotly\"], function(Plotly) {\n",
       "                    window.PLOTLYENV=window.PLOTLYENV || {};\n",
       "                    \n",
       "                if (document.getElementById(\"124776a4-d458-410e-a7a0-f50dcb35e80a\")) {\n",
       "                    Plotly.newPlot(\n",
       "                        '124776a4-d458-410e-a7a0-f50dcb35e80a',\n",
       "                        [{\"hovertemplate\": \"x=%{x}<br>y=%{y}<br>z=%{z}<br>intensity=%{marker.color}<extra></extra>\", \"legendgroup\": \"\", \"marker\": {\"color\": [0.2676590864337514, 0.36480379732386936, 0.559998623256637, 0.2720818193769483, 0.5218472988987061, 0.6605657379868634, 0.4578450897566906, 0.25025016594408556, 0.5451741959897338, 0.5018039662150383, 0.3239014635268699, 0.7996748028629008, 0.6931611880151244, 0.38535629060916055, 0.34464528452385573, 0.6832385204873658, 0.24175309334546463, 0.4242573266407715, 0.6864909704441666, 0.4937281697932518, 0.3897130151765016, 0.2287588660266538, 0.3162515151191204, 0.28021463173380473, 0.35013824541023203, 0.21157732461869355, 0.6739715309106066, 1.0, 0.6604240533010834, 0.34239548610263826, 0.8589540347712274, 0.8675330876141071, 0.6090498233816302, 0.6810439731515505, 0.8608449028585308, 0.9713563474555947, 0.32538676740498046, 0.20005919280377263, 0.6320270915728803, 0.6315479208188105, 0.44842435522727586, 0.2788254402524268, 0.4530445735261138, 0.9630235090710427, 0.4534398304000594, 0.34512184571470483, 0.4181932560924584, 0.30229424417181466, 0.30579597295106503, 0.6470438898507096, 0.27189395264518973, 0.3509013006299749, 0.840475883588189, 0.9573659620184275, 0.5049079110335997, 0.2159597412661824, 0.7008762785453581, 0.6079550746642826, 0.520675888622117, 0.8623056055460705, 0.8189666962843423, 0.5721105650968115, 0.38018702101869295, 0.24861643525271424, 0.34825270226653166, 0.7482239701501929, 0.6808102553401009, 0.2057322521577366, 0.3060669614195559, 0.23796866886210635, 0.2860396070213925, 0.36527443050860975, 0.31497385724584726, 0.6170520073284306, 0.4205458703496949], \"coloraxis\": \"coloraxis\", \"opacity\": 0.7, \"symbol\": \"circle\"}, \"mode\": \"markers\", \"name\": \"\", \"scene\": \"scene\", \"showlegend\": false, \"type\": \"scatter3d\", \"x\": [-5.0, -3.0, -3.0, -3.0, -3.0, -3.0, -3.0, -3.0, -3.0, -3.0, -3.0, -3.0, -3.0, -3.0, -3.0, -3.0, -3.0, -3.0, -3.0, -3.0, -3.0, -1.0, -1.0, -1.0, -1.0, -1.0, -1.0, -1.0, -1.0, -1.0, -1.0, -1.0, -1.0, -1.0, -1.0, -1.0, -1.0, -1.0, -1.0, -1.0, -1.0, -1.0, -1.0, -1.0, -1.0, -1.0, -1.0, 1.0, 1.0, 1.0, 1.0, 1.0, 1.0, 1.0, 1.0, 1.0, 1.0, 1.0, 1.0, 1.0, 1.0, 1.0, 1.0, 1.0, 1.0, 1.0, 1.0, 1.0, 1.0, 3.0, 3.0, 3.0, 3.0, 3.0, 3.0], \"y\": [1.0, -3.0, -3.0, -3.0, -1.0, -1.0, -1.0, -1.0, -1.0, -1.0, 1.0, 1.0, 1.0, 1.0, 1.0, 1.0, 1.0, 3.0, 3.0, 3.0, 3.0, -5.0, -5.0, -3.0, -3.0, -3.0, -3.0, -3.0, -3.0, -1.0, -1.0, -1.0, -1.0, -1.0, -1.0, -1.0, -1.0, 1.0, 1.0, 1.0, 1.0, 1.0, 1.0, 1.0, 1.0, 3.0, 3.0, -5.0, -5.0, -3.0, -3.0, -3.0, -3.0, -3.0, -3.0, -1.0, -1.0, -1.0, -1.0, -1.0, -1.0, -1.0, -1.0, 1.0, 1.0, 1.0, 1.0, 1.0, 1.0, -3.0, -3.0, -1.0, -1.0, 1.0, 1.0], \"z\": [-5.0, 3.0, 5.0, 7.0, -5.0, -3.0, -1.0, 3.0, 5.0, 7.0, -7.0, -5.0, -3.0, -1.0, 5.0, 7.0, 9.0, -7.0, -5.0, -3.0, 7.0, 3.0, 5.0, -5.0, -3.0, 1.0, 3.0, 5.0, 7.0, -5.0, -3.0, -1.0, 1.0, 3.0, 5.0, 7.0, 9.0, -5.0, -3.0, -1.0, 1.0, 3.0, 5.0, 7.0, 9.0, -3.0, 7.0, 3.0, 5.0, -5.0, -3.0, 1.0, 3.0, 5.0, 7.0, -7.0, -5.0, -3.0, -1.0, 1.0, 3.0, 5.0, 7.0, -3.0, -1.0, 1.0, 3.0, 5.0, 7.0, -5.0, 5.0, 1.0, 3.0, 1.0, 3.0]}],\n",
       "                        {\"coloraxis\": {\"colorbar\": {\"title\": {\"text\": \"intensity\"}}, \"colorscale\": [[0.0, \"rgb(253, 253, 204)\"], [0.09090909090909091, \"rgb(206, 236, 179)\"], [0.18181818181818182, \"rgb(156, 219, 165)\"], [0.2727272727272727, \"rgb(111, 201, 163)\"], [0.36363636363636365, \"rgb(86, 177, 163)\"], [0.45454545454545453, \"rgb(76, 153, 160)\"], [0.5454545454545454, \"rgb(68, 130, 155)\"], [0.6363636363636364, \"rgb(62, 108, 150)\"], [0.7272727272727273, \"rgb(62, 82, 143)\"], [0.8181818181818182, \"rgb(64, 60, 115)\"], [0.9090909090909091, \"rgb(54, 43, 77)\"], [1.0, \"rgb(39, 26, 44)\"]]}, \"legend\": {\"tracegroupgap\": 0}, \"margin\": {\"t\": 60}, \"scene\": {\"domain\": {\"x\": [0.0, 1.0], \"y\": [0.0, 1.0]}, \"xaxis\": {\"range\": [-25.0, 25.0], \"title\": {\"text\": \"x\"}}, \"yaxis\": {\"range\": [-25.0, 25.0], \"title\": {\"text\": \"y\"}}, \"zaxis\": {\"range\": [-25.0, 25.0], \"title\": {\"text\": \"z\"}}}, \"template\": {\"data\": {\"bar\": [{\"error_x\": {\"color\": \"#2a3f5f\"}, \"error_y\": {\"color\": \"#2a3f5f\"}, \"marker\": {\"line\": {\"color\": \"#E5ECF6\", \"width\": 0.5}}, \"type\": \"bar\"}], \"barpolar\": [{\"marker\": {\"line\": {\"color\": \"#E5ECF6\", \"width\": 0.5}}, \"type\": \"barpolar\"}], \"carpet\": [{\"aaxis\": {\"endlinecolor\": \"#2a3f5f\", \"gridcolor\": \"white\", \"linecolor\": \"white\", \"minorgridcolor\": \"white\", \"startlinecolor\": \"#2a3f5f\"}, \"baxis\": {\"endlinecolor\": \"#2a3f5f\", \"gridcolor\": \"white\", \"linecolor\": \"white\", \"minorgridcolor\": \"white\", \"startlinecolor\": \"#2a3f5f\"}, \"type\": \"carpet\"}], \"choropleth\": [{\"colorbar\": {\"outlinewidth\": 0, \"ticks\": \"\"}, \"type\": \"choropleth\"}], \"contour\": [{\"colorbar\": {\"outlinewidth\": 0, \"ticks\": \"\"}, \"colorscale\": [[0.0, \"#0d0887\"], [0.1111111111111111, \"#46039f\"], [0.2222222222222222, \"#7201a8\"], [0.3333333333333333, \"#9c179e\"], [0.4444444444444444, \"#bd3786\"], [0.5555555555555556, \"#d8576b\"], [0.6666666666666666, \"#ed7953\"], [0.7777777777777778, \"#fb9f3a\"], [0.8888888888888888, \"#fdca26\"], [1.0, \"#f0f921\"]], \"type\": \"contour\"}], \"contourcarpet\": [{\"colorbar\": {\"outlinewidth\": 0, \"ticks\": \"\"}, \"type\": \"contourcarpet\"}], \"heatmap\": [{\"colorbar\": {\"outlinewidth\": 0, \"ticks\": \"\"}, \"colorscale\": [[0.0, \"#0d0887\"], [0.1111111111111111, \"#46039f\"], [0.2222222222222222, \"#7201a8\"], [0.3333333333333333, \"#9c179e\"], [0.4444444444444444, \"#bd3786\"], [0.5555555555555556, \"#d8576b\"], [0.6666666666666666, \"#ed7953\"], [0.7777777777777778, \"#fb9f3a\"], [0.8888888888888888, \"#fdca26\"], [1.0, \"#f0f921\"]], \"type\": \"heatmap\"}], \"heatmapgl\": [{\"colorbar\": {\"outlinewidth\": 0, \"ticks\": \"\"}, \"colorscale\": [[0.0, \"#0d0887\"], [0.1111111111111111, \"#46039f\"], [0.2222222222222222, \"#7201a8\"], [0.3333333333333333, \"#9c179e\"], [0.4444444444444444, \"#bd3786\"], [0.5555555555555556, \"#d8576b\"], [0.6666666666666666, \"#ed7953\"], [0.7777777777777778, \"#fb9f3a\"], [0.8888888888888888, \"#fdca26\"], [1.0, \"#f0f921\"]], \"type\": \"heatmapgl\"}], \"histogram\": [{\"marker\": {\"colorbar\": {\"outlinewidth\": 0, \"ticks\": \"\"}}, \"type\": \"histogram\"}], \"histogram2d\": [{\"colorbar\": {\"outlinewidth\": 0, \"ticks\": \"\"}, \"colorscale\": [[0.0, \"#0d0887\"], [0.1111111111111111, \"#46039f\"], [0.2222222222222222, \"#7201a8\"], [0.3333333333333333, \"#9c179e\"], [0.4444444444444444, \"#bd3786\"], [0.5555555555555556, \"#d8576b\"], [0.6666666666666666, \"#ed7953\"], [0.7777777777777778, \"#fb9f3a\"], [0.8888888888888888, \"#fdca26\"], [1.0, \"#f0f921\"]], \"type\": \"histogram2d\"}], \"histogram2dcontour\": [{\"colorbar\": {\"outlinewidth\": 0, \"ticks\": \"\"}, \"colorscale\": [[0.0, \"#0d0887\"], [0.1111111111111111, \"#46039f\"], [0.2222222222222222, \"#7201a8\"], [0.3333333333333333, \"#9c179e\"], [0.4444444444444444, \"#bd3786\"], [0.5555555555555556, \"#d8576b\"], [0.6666666666666666, \"#ed7953\"], [0.7777777777777778, \"#fb9f3a\"], [0.8888888888888888, \"#fdca26\"], [1.0, \"#f0f921\"]], \"type\": \"histogram2dcontour\"}], \"mesh3d\": [{\"colorbar\": {\"outlinewidth\": 0, \"ticks\": \"\"}, \"type\": \"mesh3d\"}], \"parcoords\": [{\"line\": {\"colorbar\": {\"outlinewidth\": 0, \"ticks\": \"\"}}, \"type\": \"parcoords\"}], \"pie\": [{\"automargin\": true, \"type\": \"pie\"}], \"scatter\": [{\"marker\": {\"colorbar\": {\"outlinewidth\": 0, \"ticks\": \"\"}}, \"type\": \"scatter\"}], \"scatter3d\": [{\"line\": {\"colorbar\": {\"outlinewidth\": 0, \"ticks\": \"\"}}, \"marker\": {\"colorbar\": {\"outlinewidth\": 0, \"ticks\": \"\"}}, \"type\": \"scatter3d\"}], \"scattercarpet\": [{\"marker\": {\"colorbar\": {\"outlinewidth\": 0, \"ticks\": \"\"}}, \"type\": \"scattercarpet\"}], \"scattergeo\": [{\"marker\": {\"colorbar\": {\"outlinewidth\": 0, \"ticks\": \"\"}}, \"type\": \"scattergeo\"}], \"scattergl\": [{\"marker\": {\"colorbar\": {\"outlinewidth\": 0, \"ticks\": \"\"}}, \"type\": \"scattergl\"}], \"scattermapbox\": [{\"marker\": {\"colorbar\": {\"outlinewidth\": 0, \"ticks\": \"\"}}, \"type\": \"scattermapbox\"}], \"scatterpolar\": [{\"marker\": {\"colorbar\": {\"outlinewidth\": 0, \"ticks\": \"\"}}, \"type\": \"scatterpolar\"}], \"scatterpolargl\": [{\"marker\": {\"colorbar\": {\"outlinewidth\": 0, \"ticks\": \"\"}}, \"type\": \"scatterpolargl\"}], \"scatterternary\": [{\"marker\": {\"colorbar\": {\"outlinewidth\": 0, \"ticks\": \"\"}}, \"type\": \"scatterternary\"}], \"surface\": [{\"colorbar\": {\"outlinewidth\": 0, \"ticks\": \"\"}, \"colorscale\": [[0.0, \"#0d0887\"], [0.1111111111111111, \"#46039f\"], [0.2222222222222222, \"#7201a8\"], [0.3333333333333333, \"#9c179e\"], [0.4444444444444444, \"#bd3786\"], [0.5555555555555556, \"#d8576b\"], [0.6666666666666666, \"#ed7953\"], [0.7777777777777778, \"#fb9f3a\"], [0.8888888888888888, \"#fdca26\"], [1.0, \"#f0f921\"]], \"type\": \"surface\"}], \"table\": [{\"cells\": {\"fill\": {\"color\": \"#EBF0F8\"}, \"line\": {\"color\": \"white\"}}, \"header\": {\"fill\": {\"color\": \"#C8D4E3\"}, \"line\": {\"color\": \"white\"}}, \"type\": \"table\"}]}, \"layout\": {\"annotationdefaults\": {\"arrowcolor\": \"#2a3f5f\", \"arrowhead\": 0, \"arrowwidth\": 1}, \"coloraxis\": {\"colorbar\": {\"outlinewidth\": 0, \"ticks\": \"\"}}, \"colorscale\": {\"diverging\": [[0, \"#8e0152\"], [0.1, \"#c51b7d\"], [0.2, \"#de77ae\"], [0.3, \"#f1b6da\"], [0.4, \"#fde0ef\"], [0.5, \"#f7f7f7\"], [0.6, \"#e6f5d0\"], [0.7, \"#b8e186\"], [0.8, \"#7fbc41\"], [0.9, \"#4d9221\"], [1, \"#276419\"]], \"sequential\": [[0.0, \"#0d0887\"], [0.1111111111111111, \"#46039f\"], [0.2222222222222222, \"#7201a8\"], [0.3333333333333333, \"#9c179e\"], [0.4444444444444444, \"#bd3786\"], [0.5555555555555556, \"#d8576b\"], [0.6666666666666666, \"#ed7953\"], [0.7777777777777778, \"#fb9f3a\"], [0.8888888888888888, \"#fdca26\"], [1.0, \"#f0f921\"]], \"sequentialminus\": [[0.0, \"#0d0887\"], [0.1111111111111111, \"#46039f\"], [0.2222222222222222, \"#7201a8\"], [0.3333333333333333, \"#9c179e\"], [0.4444444444444444, \"#bd3786\"], [0.5555555555555556, \"#d8576b\"], [0.6666666666666666, \"#ed7953\"], [0.7777777777777778, \"#fb9f3a\"], [0.8888888888888888, \"#fdca26\"], [1.0, \"#f0f921\"]]}, \"colorway\": [\"#636efa\", \"#EF553B\", \"#00cc96\", \"#ab63fa\", \"#FFA15A\", \"#19d3f3\", \"#FF6692\", \"#B6E880\", \"#FF97FF\", \"#FECB52\"], \"font\": {\"color\": \"#2a3f5f\"}, \"geo\": {\"bgcolor\": \"white\", \"lakecolor\": \"white\", \"landcolor\": \"#E5ECF6\", \"showlakes\": true, \"showland\": true, \"subunitcolor\": \"white\"}, \"hoverlabel\": {\"align\": \"left\"}, \"hovermode\": \"closest\", \"mapbox\": {\"style\": \"light\"}, \"paper_bgcolor\": \"white\", \"plot_bgcolor\": \"#E5ECF6\", \"polar\": {\"angularaxis\": {\"gridcolor\": \"white\", \"linecolor\": \"white\", \"ticks\": \"\"}, \"bgcolor\": \"#E5ECF6\", \"radialaxis\": {\"gridcolor\": \"white\", \"linecolor\": \"white\", \"ticks\": \"\"}}, \"scene\": {\"xaxis\": {\"backgroundcolor\": \"#E5ECF6\", \"gridcolor\": \"white\", \"gridwidth\": 2, \"linecolor\": \"white\", \"showbackground\": true, \"ticks\": \"\", \"zerolinecolor\": \"white\"}, \"yaxis\": {\"backgroundcolor\": \"#E5ECF6\", \"gridcolor\": \"white\", \"gridwidth\": 2, \"linecolor\": \"white\", \"showbackground\": true, \"ticks\": \"\", \"zerolinecolor\": \"white\"}, \"zaxis\": {\"backgroundcolor\": \"#E5ECF6\", \"gridcolor\": \"white\", \"gridwidth\": 2, \"linecolor\": \"white\", \"showbackground\": true, \"ticks\": \"\", \"zerolinecolor\": \"white\"}}, \"shapedefaults\": {\"line\": {\"color\": \"#2a3f5f\"}}, \"ternary\": {\"aaxis\": {\"gridcolor\": \"white\", \"linecolor\": \"white\", \"ticks\": \"\"}, \"baxis\": {\"gridcolor\": \"white\", \"linecolor\": \"white\", \"ticks\": \"\"}, \"bgcolor\": \"#E5ECF6\", \"caxis\": {\"gridcolor\": \"white\", \"linecolor\": \"white\", \"ticks\": \"\"}}, \"title\": {\"x\": 0.05}, \"xaxis\": {\"automargin\": true, \"gridcolor\": \"white\", \"linecolor\": \"white\", \"ticks\": \"\", \"title\": {\"standoff\": 15}, \"zerolinecolor\": \"white\", \"zerolinewidth\": 2}, \"yaxis\": {\"automargin\": true, \"gridcolor\": \"white\", \"linecolor\": \"white\", \"ticks\": \"\", \"title\": {\"standoff\": 15}, \"zerolinecolor\": \"white\", \"zerolinewidth\": 2}}}, \"title\": {\"text\": \"\"}},\n",
       "                        {\"responsive\": true}\n",
       "                    ).then(function(){\n",
       "                            \n",
       "var gd = document.getElementById('124776a4-d458-410e-a7a0-f50dcb35e80a');\n",
       "var x = new MutationObserver(function (mutations, observer) {{\n",
       "        var display = window.getComputedStyle(gd).display;\n",
       "        if (!display || display === 'none') {{\n",
       "            console.log([gd, 'removed!']);\n",
       "            Plotly.purge(gd);\n",
       "            observer.disconnect();\n",
       "        }}\n",
       "}});\n",
       "\n",
       "// Listen for the removal of the full notebook cells\n",
       "var notebookContainer = gd.closest('#notebook-container');\n",
       "if (notebookContainer) {{\n",
       "    x.observe(notebookContainer, {childList: true});\n",
       "}}\n",
       "\n",
       "// Listen for the clearing of the current output cell\n",
       "var outputEl = gd.closest('.output');\n",
       "if (outputEl) {{\n",
       "    x.observe(outputEl, {childList: true});\n",
       "}}\n",
       "\n",
       "                        })\n",
       "                };\n",
       "                });\n",
       "            </script>\n",
       "        </div>"
      ]
     },
     "metadata": {},
     "output_type": "display_data"
    }
   ],
   "source": [
    "field_dict = make_fields(myprotein_dict, channels = ['partialcharge'], bin_size=2.0,num_bins=50)\n",
    "\n",
    "from cnns4qspr import visualizer\n",
    "plottable=plot_field_test(field_dict['partialcharge'],num_bins=50, show=False)\n",
    "plottable.show()"
   ]
  },
  {
   "cell_type": "code",
   "execution_count": 17,
   "metadata": {},
   "outputs": [
    {
     "name": "stdout",
     "output_type": "stream",
     "text": [
      "torch.Size([73])\n",
      "torch.Size([27000, 73])\n",
      "torch.Size([30, 30, 30])\n"
     ]
    },
    {
     "data": {
      "application/vnd.plotly.v1+json": {
       "config": {
        "plotlyServerURL": "https://plot.ly"
       },
       "data": [
        {
         "hovertemplate": "x=%{x}<br>y=%{y}<br>z=%{z}<br>intensity=%{marker.color}<extra></extra>",
         "legendgroup": "",
         "marker": {
          "color": [
           0.2643008976332671,
           0.25914053709976065,
           0.2144610610178078,
           0.21119740846695234,
           0.30334438408357733,
           0.31565616578700056,
           0.4398339814001165,
           0.24527734520236671,
           0.24150354582691266,
           0.24383646340929965,
           0.20971430570666494,
           0.34934286720733615,
           0.42407632779238363,
           0.7926443093841942,
           0.7105646779156846,
           0.35057060404876883,
           0.6444756536394235,
           0.9542662022698734,
           0.6368145855447485,
           0.37893517240695307,
           0.3320189180832563,
           0.26411999513493534,
           0.23480461723834078,
           0.2446066608594542,
           0.6923540118886166,
           1,
           0.37354995436787264,
           0.24987157694893308,
           0.8219046869510533,
           0.8455252827869315,
           0.7095861618984496,
           0.6753450082317197,
           0.6888540381523898,
           0.7681413178067883,
           0.2568921095856947,
           0.540427030509729,
           0.34141002482401006,
           0.21012702288168209,
           0.8137065035231765,
           0.5171110166819103,
           0.214602803756126,
           0.36499654098843726,
           0.23057250716576363,
           0.2963535712237429,
           0.21571697737976073,
           0.6005071366596537,
           0.8457889770028316,
           0.2255303987067544,
           0.5859750686023883,
           0.7068059180543182,
           0.5727285909128033,
           0.8296527093892702,
           0.5818413526639827,
           0.21378172963261882,
           0.2591171205483858,
           0.5225063282638549,
           0.4411689091182096,
           0.5349354518286202,
           0.41338833332416086,
           0.5518204649659783,
           0.4127222449125131,
           0.270912077369067,
           0.23987345807462143
          ],
          "coloraxis": "coloraxis",
          "opacity": 0.7,
          "symbol": "circle"
         },
         "mode": "markers",
         "name": "",
         "scene": "scene",
         "showlegend": false,
         "type": "scatter3d",
         "x": [
          -5,
          -5,
          -5,
          -3,
          -3,
          -3,
          -3,
          -3,
          -3,
          -3,
          -3,
          -3,
          -3,
          -3,
          -3,
          -3,
          -3,
          -3,
          -3,
          -3,
          -3,
          -3,
          -1,
          -1,
          -1,
          -1,
          -1,
          -1,
          -1,
          -1,
          -1,
          -1,
          -1,
          -1,
          -1,
          -1,
          -1,
          -1,
          -1,
          -1,
          -1,
          1,
          1,
          1,
          1,
          1,
          1,
          1,
          1,
          1,
          1,
          1,
          1,
          1,
          1,
          1,
          1,
          3,
          3,
          3,
          3,
          5,
          5
         ],
         "y": [
          1,
          3,
          3,
          -3,
          -3,
          -1,
          -1,
          -1,
          -1,
          -1,
          -1,
          1,
          1,
          1,
          1,
          1,
          3,
          3,
          3,
          3,
          5,
          5,
          -3,
          -3,
          -3,
          -3,
          -3,
          -1,
          -1,
          -1,
          -1,
          -1,
          -1,
          -1,
          1,
          1,
          1,
          1,
          1,
          3,
          3,
          -3,
          -3,
          -3,
          -3,
          -3,
          -3,
          -3,
          -1,
          -1,
          -1,
          -1,
          -1,
          -1,
          1,
          1,
          1,
          -1,
          -1,
          1,
          1,
          -1,
          -1
         ],
         "z": [
          -5,
          -7,
          -5,
          3,
          5,
          -5,
          -3,
          -1,
          3,
          5,
          7,
          -9,
          -7,
          -5,
          -3,
          7,
          -9,
          -7,
          -5,
          -3,
          -9,
          -7,
          -1,
          1,
          3,
          5,
          7,
          -5,
          -3,
          -1,
          1,
          3,
          5,
          7,
          -5,
          -3,
          -1,
          1,
          7,
          -7,
          -5,
          -5,
          -3,
          -1,
          1,
          3,
          5,
          7,
          -5,
          -3,
          -1,
          1,
          3,
          5,
          -3,
          1,
          3,
          1,
          3,
          1,
          3,
          1,
          3
         ]
        }
       ],
       "layout": {
        "coloraxis": {
         "colorbar": {
          "title": {
           "text": "intensity"
          }
         },
         "colorscale": [
          [
           0,
           "rgb(253, 253, 204)"
          ],
          [
           0.09090909090909091,
           "rgb(206, 236, 179)"
          ],
          [
           0.18181818181818182,
           "rgb(156, 219, 165)"
          ],
          [
           0.2727272727272727,
           "rgb(111, 201, 163)"
          ],
          [
           0.36363636363636365,
           "rgb(86, 177, 163)"
          ],
          [
           0.45454545454545453,
           "rgb(76, 153, 160)"
          ],
          [
           0.5454545454545454,
           "rgb(68, 130, 155)"
          ],
          [
           0.6363636363636364,
           "rgb(62, 108, 150)"
          ],
          [
           0.7272727272727273,
           "rgb(62, 82, 143)"
          ],
          [
           0.8181818181818182,
           "rgb(64, 60, 115)"
          ],
          [
           0.9090909090909091,
           "rgb(54, 43, 77)"
          ],
          [
           1,
           "rgb(39, 26, 44)"
          ]
         ]
        },
        "legend": {
         "tracegroupgap": 0
        },
        "margin": {
         "t": 60
        },
        "scene": {
         "domain": {
          "x": [
           0,
           1
          ],
          "y": [
           0,
           1
          ]
         },
         "xaxis": {
          "range": [
           -15,
           15
          ],
          "title": {
           "text": "x"
          }
         },
         "yaxis": {
          "range": [
           -15,
           15
          ],
          "title": {
           "text": "y"
          }
         },
         "zaxis": {
          "range": [
           -15,
           15
          ],
          "title": {
           "text": "z"
          }
         }
        },
        "template": {
         "data": {
          "bar": [
           {
            "error_x": {
             "color": "#2a3f5f"
            },
            "error_y": {
             "color": "#2a3f5f"
            },
            "marker": {
             "line": {
              "color": "#E5ECF6",
              "width": 0.5
             }
            },
            "type": "bar"
           }
          ],
          "barpolar": [
           {
            "marker": {
             "line": {
              "color": "#E5ECF6",
              "width": 0.5
             }
            },
            "type": "barpolar"
           }
          ],
          "carpet": [
           {
            "aaxis": {
             "endlinecolor": "#2a3f5f",
             "gridcolor": "white",
             "linecolor": "white",
             "minorgridcolor": "white",
             "startlinecolor": "#2a3f5f"
            },
            "baxis": {
             "endlinecolor": "#2a3f5f",
             "gridcolor": "white",
             "linecolor": "white",
             "minorgridcolor": "white",
             "startlinecolor": "#2a3f5f"
            },
            "type": "carpet"
           }
          ],
          "choropleth": [
           {
            "colorbar": {
             "outlinewidth": 0,
             "ticks": ""
            },
            "type": "choropleth"
           }
          ],
          "contour": [
           {
            "colorbar": {
             "outlinewidth": 0,
             "ticks": ""
            },
            "colorscale": [
             [
              0,
              "#0d0887"
             ],
             [
              0.1111111111111111,
              "#46039f"
             ],
             [
              0.2222222222222222,
              "#7201a8"
             ],
             [
              0.3333333333333333,
              "#9c179e"
             ],
             [
              0.4444444444444444,
              "#bd3786"
             ],
             [
              0.5555555555555556,
              "#d8576b"
             ],
             [
              0.6666666666666666,
              "#ed7953"
             ],
             [
              0.7777777777777778,
              "#fb9f3a"
             ],
             [
              0.8888888888888888,
              "#fdca26"
             ],
             [
              1,
              "#f0f921"
             ]
            ],
            "type": "contour"
           }
          ],
          "contourcarpet": [
           {
            "colorbar": {
             "outlinewidth": 0,
             "ticks": ""
            },
            "type": "contourcarpet"
           }
          ],
          "heatmap": [
           {
            "colorbar": {
             "outlinewidth": 0,
             "ticks": ""
            },
            "colorscale": [
             [
              0,
              "#0d0887"
             ],
             [
              0.1111111111111111,
              "#46039f"
             ],
             [
              0.2222222222222222,
              "#7201a8"
             ],
             [
              0.3333333333333333,
              "#9c179e"
             ],
             [
              0.4444444444444444,
              "#bd3786"
             ],
             [
              0.5555555555555556,
              "#d8576b"
             ],
             [
              0.6666666666666666,
              "#ed7953"
             ],
             [
              0.7777777777777778,
              "#fb9f3a"
             ],
             [
              0.8888888888888888,
              "#fdca26"
             ],
             [
              1,
              "#f0f921"
             ]
            ],
            "type": "heatmap"
           }
          ],
          "heatmapgl": [
           {
            "colorbar": {
             "outlinewidth": 0,
             "ticks": ""
            },
            "colorscale": [
             [
              0,
              "#0d0887"
             ],
             [
              0.1111111111111111,
              "#46039f"
             ],
             [
              0.2222222222222222,
              "#7201a8"
             ],
             [
              0.3333333333333333,
              "#9c179e"
             ],
             [
              0.4444444444444444,
              "#bd3786"
             ],
             [
              0.5555555555555556,
              "#d8576b"
             ],
             [
              0.6666666666666666,
              "#ed7953"
             ],
             [
              0.7777777777777778,
              "#fb9f3a"
             ],
             [
              0.8888888888888888,
              "#fdca26"
             ],
             [
              1,
              "#f0f921"
             ]
            ],
            "type": "heatmapgl"
           }
          ],
          "histogram": [
           {
            "marker": {
             "colorbar": {
              "outlinewidth": 0,
              "ticks": ""
             }
            },
            "type": "histogram"
           }
          ],
          "histogram2d": [
           {
            "colorbar": {
             "outlinewidth": 0,
             "ticks": ""
            },
            "colorscale": [
             [
              0,
              "#0d0887"
             ],
             [
              0.1111111111111111,
              "#46039f"
             ],
             [
              0.2222222222222222,
              "#7201a8"
             ],
             [
              0.3333333333333333,
              "#9c179e"
             ],
             [
              0.4444444444444444,
              "#bd3786"
             ],
             [
              0.5555555555555556,
              "#d8576b"
             ],
             [
              0.6666666666666666,
              "#ed7953"
             ],
             [
              0.7777777777777778,
              "#fb9f3a"
             ],
             [
              0.8888888888888888,
              "#fdca26"
             ],
             [
              1,
              "#f0f921"
             ]
            ],
            "type": "histogram2d"
           }
          ],
          "histogram2dcontour": [
           {
            "colorbar": {
             "outlinewidth": 0,
             "ticks": ""
            },
            "colorscale": [
             [
              0,
              "#0d0887"
             ],
             [
              0.1111111111111111,
              "#46039f"
             ],
             [
              0.2222222222222222,
              "#7201a8"
             ],
             [
              0.3333333333333333,
              "#9c179e"
             ],
             [
              0.4444444444444444,
              "#bd3786"
             ],
             [
              0.5555555555555556,
              "#d8576b"
             ],
             [
              0.6666666666666666,
              "#ed7953"
             ],
             [
              0.7777777777777778,
              "#fb9f3a"
             ],
             [
              0.8888888888888888,
              "#fdca26"
             ],
             [
              1,
              "#f0f921"
             ]
            ],
            "type": "histogram2dcontour"
           }
          ],
          "mesh3d": [
           {
            "colorbar": {
             "outlinewidth": 0,
             "ticks": ""
            },
            "type": "mesh3d"
           }
          ],
          "parcoords": [
           {
            "line": {
             "colorbar": {
              "outlinewidth": 0,
              "ticks": ""
             }
            },
            "type": "parcoords"
           }
          ],
          "pie": [
           {
            "automargin": true,
            "type": "pie"
           }
          ],
          "scatter": [
           {
            "marker": {
             "colorbar": {
              "outlinewidth": 0,
              "ticks": ""
             }
            },
            "type": "scatter"
           }
          ],
          "scatter3d": [
           {
            "line": {
             "colorbar": {
              "outlinewidth": 0,
              "ticks": ""
             }
            },
            "marker": {
             "colorbar": {
              "outlinewidth": 0,
              "ticks": ""
             }
            },
            "type": "scatter3d"
           }
          ],
          "scattercarpet": [
           {
            "marker": {
             "colorbar": {
              "outlinewidth": 0,
              "ticks": ""
             }
            },
            "type": "scattercarpet"
           }
          ],
          "scattergeo": [
           {
            "marker": {
             "colorbar": {
              "outlinewidth": 0,
              "ticks": ""
             }
            },
            "type": "scattergeo"
           }
          ],
          "scattergl": [
           {
            "marker": {
             "colorbar": {
              "outlinewidth": 0,
              "ticks": ""
             }
            },
            "type": "scattergl"
           }
          ],
          "scattermapbox": [
           {
            "marker": {
             "colorbar": {
              "outlinewidth": 0,
              "ticks": ""
             }
            },
            "type": "scattermapbox"
           }
          ],
          "scatterpolar": [
           {
            "marker": {
             "colorbar": {
              "outlinewidth": 0,
              "ticks": ""
             }
            },
            "type": "scatterpolar"
           }
          ],
          "scatterpolargl": [
           {
            "marker": {
             "colorbar": {
              "outlinewidth": 0,
              "ticks": ""
             }
            },
            "type": "scatterpolargl"
           }
          ],
          "scatterternary": [
           {
            "marker": {
             "colorbar": {
              "outlinewidth": 0,
              "ticks": ""
             }
            },
            "type": "scatterternary"
           }
          ],
          "surface": [
           {
            "colorbar": {
             "outlinewidth": 0,
             "ticks": ""
            },
            "colorscale": [
             [
              0,
              "#0d0887"
             ],
             [
              0.1111111111111111,
              "#46039f"
             ],
             [
              0.2222222222222222,
              "#7201a8"
             ],
             [
              0.3333333333333333,
              "#9c179e"
             ],
             [
              0.4444444444444444,
              "#bd3786"
             ],
             [
              0.5555555555555556,
              "#d8576b"
             ],
             [
              0.6666666666666666,
              "#ed7953"
             ],
             [
              0.7777777777777778,
              "#fb9f3a"
             ],
             [
              0.8888888888888888,
              "#fdca26"
             ],
             [
              1,
              "#f0f921"
             ]
            ],
            "type": "surface"
           }
          ],
          "table": [
           {
            "cells": {
             "fill": {
              "color": "#EBF0F8"
             },
             "line": {
              "color": "white"
             }
            },
            "header": {
             "fill": {
              "color": "#C8D4E3"
             },
             "line": {
              "color": "white"
             }
            },
            "type": "table"
           }
          ]
         },
         "layout": {
          "annotationdefaults": {
           "arrowcolor": "#2a3f5f",
           "arrowhead": 0,
           "arrowwidth": 1
          },
          "coloraxis": {
           "colorbar": {
            "outlinewidth": 0,
            "ticks": ""
           }
          },
          "colorscale": {
           "diverging": [
            [
             0,
             "#8e0152"
            ],
            [
             0.1,
             "#c51b7d"
            ],
            [
             0.2,
             "#de77ae"
            ],
            [
             0.3,
             "#f1b6da"
            ],
            [
             0.4,
             "#fde0ef"
            ],
            [
             0.5,
             "#f7f7f7"
            ],
            [
             0.6,
             "#e6f5d0"
            ],
            [
             0.7,
             "#b8e186"
            ],
            [
             0.8,
             "#7fbc41"
            ],
            [
             0.9,
             "#4d9221"
            ],
            [
             1,
             "#276419"
            ]
           ],
           "sequential": [
            [
             0,
             "#0d0887"
            ],
            [
             0.1111111111111111,
             "#46039f"
            ],
            [
             0.2222222222222222,
             "#7201a8"
            ],
            [
             0.3333333333333333,
             "#9c179e"
            ],
            [
             0.4444444444444444,
             "#bd3786"
            ],
            [
             0.5555555555555556,
             "#d8576b"
            ],
            [
             0.6666666666666666,
             "#ed7953"
            ],
            [
             0.7777777777777778,
             "#fb9f3a"
            ],
            [
             0.8888888888888888,
             "#fdca26"
            ],
            [
             1,
             "#f0f921"
            ]
           ],
           "sequentialminus": [
            [
             0,
             "#0d0887"
            ],
            [
             0.1111111111111111,
             "#46039f"
            ],
            [
             0.2222222222222222,
             "#7201a8"
            ],
            [
             0.3333333333333333,
             "#9c179e"
            ],
            [
             0.4444444444444444,
             "#bd3786"
            ],
            [
             0.5555555555555556,
             "#d8576b"
            ],
            [
             0.6666666666666666,
             "#ed7953"
            ],
            [
             0.7777777777777778,
             "#fb9f3a"
            ],
            [
             0.8888888888888888,
             "#fdca26"
            ],
            [
             1,
             "#f0f921"
            ]
           ]
          },
          "colorway": [
           "#636efa",
           "#EF553B",
           "#00cc96",
           "#ab63fa",
           "#FFA15A",
           "#19d3f3",
           "#FF6692",
           "#B6E880",
           "#FF97FF",
           "#FECB52"
          ],
          "font": {
           "color": "#2a3f5f"
          },
          "geo": {
           "bgcolor": "white",
           "lakecolor": "white",
           "landcolor": "#E5ECF6",
           "showlakes": true,
           "showland": true,
           "subunitcolor": "white"
          },
          "hoverlabel": {
           "align": "left"
          },
          "hovermode": "closest",
          "mapbox": {
           "style": "light"
          },
          "paper_bgcolor": "white",
          "plot_bgcolor": "#E5ECF6",
          "polar": {
           "angularaxis": {
            "gridcolor": "white",
            "linecolor": "white",
            "ticks": ""
           },
           "bgcolor": "#E5ECF6",
           "radialaxis": {
            "gridcolor": "white",
            "linecolor": "white",
            "ticks": ""
           }
          },
          "scene": {
           "xaxis": {
            "backgroundcolor": "#E5ECF6",
            "gridcolor": "white",
            "gridwidth": 2,
            "linecolor": "white",
            "showbackground": true,
            "ticks": "",
            "zerolinecolor": "white"
           },
           "yaxis": {
            "backgroundcolor": "#E5ECF6",
            "gridcolor": "white",
            "gridwidth": 2,
            "linecolor": "white",
            "showbackground": true,
            "ticks": "",
            "zerolinecolor": "white"
           },
           "zaxis": {
            "backgroundcolor": "#E5ECF6",
            "gridcolor": "white",
            "gridwidth": 2,
            "linecolor": "white",
            "showbackground": true,
            "ticks": "",
            "zerolinecolor": "white"
           }
          },
          "shapedefaults": {
           "line": {
            "color": "#2a3f5f"
           }
          },
          "ternary": {
           "aaxis": {
            "gridcolor": "white",
            "linecolor": "white",
            "ticks": ""
           },
           "baxis": {
            "gridcolor": "white",
            "linecolor": "white",
            "ticks": ""
           },
           "bgcolor": "#E5ECF6",
           "caxis": {
            "gridcolor": "white",
            "linecolor": "white",
            "ticks": ""
           }
          },
          "title": {
           "x": 0.05
          },
          "xaxis": {
           "automargin": true,
           "gridcolor": "white",
           "linecolor": "white",
           "ticks": "",
           "title": {
            "standoff": 15
           },
           "zerolinecolor": "white",
           "zerolinewidth": 2
          },
          "yaxis": {
           "automargin": true,
           "gridcolor": "white",
           "linecolor": "white",
           "ticks": "",
           "title": {
            "standoff": 15
           },
           "zerolinecolor": "white",
           "zerolinewidth": 2
          }
         }
        },
        "title": {
         "text": ""
        }
       }
      },
      "text/html": [
       "<div>\n",
       "        \n",
       "        \n",
       "            <div id=\"11bd9fc5-b974-4b34-8a86-22398da1ae54\" class=\"plotly-graph-div\" style=\"height:525px; width:100%;\"></div>\n",
       "            <script type=\"text/javascript\">\n",
       "                require([\"plotly\"], function(Plotly) {\n",
       "                    window.PLOTLYENV=window.PLOTLYENV || {};\n",
       "                    \n",
       "                if (document.getElementById(\"11bd9fc5-b974-4b34-8a86-22398da1ae54\")) {\n",
       "                    Plotly.newPlot(\n",
       "                        '11bd9fc5-b974-4b34-8a86-22398da1ae54',\n",
       "                        [{\"hovertemplate\": \"x=%{x}<br>y=%{y}<br>z=%{z}<br>intensity=%{marker.color}<extra></extra>\", \"legendgroup\": \"\", \"marker\": {\"color\": [0.2643008976332671, 0.25914053709976065, 0.2144610610178078, 0.21119740846695234, 0.30334438408357733, 0.31565616578700056, 0.4398339814001165, 0.24527734520236671, 0.24150354582691266, 0.24383646340929965, 0.20971430570666494, 0.34934286720733615, 0.42407632779238363, 0.7926443093841942, 0.7105646779156846, 0.35057060404876883, 0.6444756536394235, 0.9542662022698734, 0.6368145855447485, 0.37893517240695307, 0.3320189180832563, 0.26411999513493534, 0.23480461723834078, 0.2446066608594542, 0.6923540118886166, 1.0, 0.37354995436787264, 0.24987157694893308, 0.8219046869510533, 0.8455252827869315, 0.7095861618984496, 0.6753450082317197, 0.6888540381523898, 0.7681413178067883, 0.2568921095856947, 0.540427030509729, 0.34141002482401006, 0.21012702288168209, 0.8137065035231765, 0.5171110166819103, 0.214602803756126, 0.36499654098843726, 0.23057250716576363, 0.2963535712237429, 0.21571697737976073, 0.6005071366596537, 0.8457889770028316, 0.2255303987067544, 0.5859750686023883, 0.7068059180543182, 0.5727285909128033, 0.8296527093892702, 0.5818413526639827, 0.21378172963261882, 0.2591171205483858, 0.5225063282638549, 0.4411689091182096, 0.5349354518286202, 0.41338833332416086, 0.5518204649659783, 0.4127222449125131, 0.270912077369067, 0.23987345807462143], \"coloraxis\": \"coloraxis\", \"opacity\": 0.7, \"symbol\": \"circle\"}, \"mode\": \"markers\", \"name\": \"\", \"scene\": \"scene\", \"showlegend\": false, \"type\": \"scatter3d\", \"x\": [-5.0, -5.0, -5.0, -3.0, -3.0, -3.0, -3.0, -3.0, -3.0, -3.0, -3.0, -3.0, -3.0, -3.0, -3.0, -3.0, -3.0, -3.0, -3.0, -3.0, -3.0, -3.0, -1.0, -1.0, -1.0, -1.0, -1.0, -1.0, -1.0, -1.0, -1.0, -1.0, -1.0, -1.0, -1.0, -1.0, -1.0, -1.0, -1.0, -1.0, -1.0, 1.0, 1.0, 1.0, 1.0, 1.0, 1.0, 1.0, 1.0, 1.0, 1.0, 1.0, 1.0, 1.0, 1.0, 1.0, 1.0, 3.0, 3.0, 3.0, 3.0, 5.0, 5.0], \"y\": [1.0, 3.0, 3.0, -3.0, -3.0, -1.0, -1.0, -1.0, -1.0, -1.0, -1.0, 1.0, 1.0, 1.0, 1.0, 1.0, 3.0, 3.0, 3.0, 3.0, 5.0, 5.0, -3.0, -3.0, -3.0, -3.0, -3.0, -1.0, -1.0, -1.0, -1.0, -1.0, -1.0, -1.0, 1.0, 1.0, 1.0, 1.0, 1.0, 3.0, 3.0, -3.0, -3.0, -3.0, -3.0, -3.0, -3.0, -3.0, -1.0, -1.0, -1.0, -1.0, -1.0, -1.0, 1.0, 1.0, 1.0, -1.0, -1.0, 1.0, 1.0, -1.0, -1.0], \"z\": [-5.0, -7.0, -5.0, 3.0, 5.0, -5.0, -3.0, -1.0, 3.0, 5.0, 7.0, -9.0, -7.0, -5.0, -3.0, 7.0, -9.0, -7.0, -5.0, -3.0, -9.0, -7.0, -1.0, 1.0, 3.0, 5.0, 7.0, -5.0, -3.0, -1.0, 1.0, 3.0, 5.0, 7.0, -5.0, -3.0, -1.0, 1.0, 7.0, -7.0, -5.0, -5.0, -3.0, -1.0, 1.0, 3.0, 5.0, 7.0, -5.0, -3.0, -1.0, 1.0, 3.0, 5.0, -3.0, 1.0, 3.0, 1.0, 3.0, 1.0, 3.0, 1.0, 3.0]}],\n",
       "                        {\"coloraxis\": {\"colorbar\": {\"title\": {\"text\": \"intensity\"}}, \"colorscale\": [[0.0, \"rgb(253, 253, 204)\"], [0.09090909090909091, \"rgb(206, 236, 179)\"], [0.18181818181818182, \"rgb(156, 219, 165)\"], [0.2727272727272727, \"rgb(111, 201, 163)\"], [0.36363636363636365, \"rgb(86, 177, 163)\"], [0.45454545454545453, \"rgb(76, 153, 160)\"], [0.5454545454545454, \"rgb(68, 130, 155)\"], [0.6363636363636364, \"rgb(62, 108, 150)\"], [0.7272727272727273, \"rgb(62, 82, 143)\"], [0.8181818181818182, \"rgb(64, 60, 115)\"], [0.9090909090909091, \"rgb(54, 43, 77)\"], [1.0, \"rgb(39, 26, 44)\"]]}, \"legend\": {\"tracegroupgap\": 0}, \"margin\": {\"t\": 60}, \"scene\": {\"domain\": {\"x\": [0.0, 1.0], \"y\": [0.0, 1.0]}, \"xaxis\": {\"range\": [-15.0, 15.0], \"title\": {\"text\": \"x\"}}, \"yaxis\": {\"range\": [-15.0, 15.0], \"title\": {\"text\": \"y\"}}, \"zaxis\": {\"range\": [-15.0, 15.0], \"title\": {\"text\": \"z\"}}}, \"template\": {\"data\": {\"bar\": [{\"error_x\": {\"color\": \"#2a3f5f\"}, \"error_y\": {\"color\": \"#2a3f5f\"}, \"marker\": {\"line\": {\"color\": \"#E5ECF6\", \"width\": 0.5}}, \"type\": \"bar\"}], \"barpolar\": [{\"marker\": {\"line\": {\"color\": \"#E5ECF6\", \"width\": 0.5}}, \"type\": \"barpolar\"}], \"carpet\": [{\"aaxis\": {\"endlinecolor\": \"#2a3f5f\", \"gridcolor\": \"white\", \"linecolor\": \"white\", \"minorgridcolor\": \"white\", \"startlinecolor\": \"#2a3f5f\"}, \"baxis\": {\"endlinecolor\": \"#2a3f5f\", \"gridcolor\": \"white\", \"linecolor\": \"white\", \"minorgridcolor\": \"white\", \"startlinecolor\": \"#2a3f5f\"}, \"type\": \"carpet\"}], \"choropleth\": [{\"colorbar\": {\"outlinewidth\": 0, \"ticks\": \"\"}, \"type\": \"choropleth\"}], \"contour\": [{\"colorbar\": {\"outlinewidth\": 0, \"ticks\": \"\"}, \"colorscale\": [[0.0, \"#0d0887\"], [0.1111111111111111, \"#46039f\"], [0.2222222222222222, \"#7201a8\"], [0.3333333333333333, \"#9c179e\"], [0.4444444444444444, \"#bd3786\"], [0.5555555555555556, \"#d8576b\"], [0.6666666666666666, \"#ed7953\"], [0.7777777777777778, \"#fb9f3a\"], [0.8888888888888888, \"#fdca26\"], [1.0, \"#f0f921\"]], \"type\": \"contour\"}], \"contourcarpet\": [{\"colorbar\": {\"outlinewidth\": 0, \"ticks\": \"\"}, \"type\": \"contourcarpet\"}], \"heatmap\": [{\"colorbar\": {\"outlinewidth\": 0, \"ticks\": \"\"}, \"colorscale\": [[0.0, \"#0d0887\"], [0.1111111111111111, \"#46039f\"], [0.2222222222222222, \"#7201a8\"], [0.3333333333333333, \"#9c179e\"], [0.4444444444444444, \"#bd3786\"], [0.5555555555555556, \"#d8576b\"], [0.6666666666666666, \"#ed7953\"], [0.7777777777777778, \"#fb9f3a\"], [0.8888888888888888, \"#fdca26\"], [1.0, \"#f0f921\"]], \"type\": \"heatmap\"}], \"heatmapgl\": [{\"colorbar\": {\"outlinewidth\": 0, \"ticks\": \"\"}, \"colorscale\": [[0.0, \"#0d0887\"], [0.1111111111111111, \"#46039f\"], [0.2222222222222222, \"#7201a8\"], [0.3333333333333333, \"#9c179e\"], [0.4444444444444444, \"#bd3786\"], [0.5555555555555556, \"#d8576b\"], [0.6666666666666666, \"#ed7953\"], [0.7777777777777778, \"#fb9f3a\"], [0.8888888888888888, \"#fdca26\"], [1.0, \"#f0f921\"]], \"type\": \"heatmapgl\"}], \"histogram\": [{\"marker\": {\"colorbar\": {\"outlinewidth\": 0, \"ticks\": \"\"}}, \"type\": \"histogram\"}], \"histogram2d\": [{\"colorbar\": {\"outlinewidth\": 0, \"ticks\": \"\"}, \"colorscale\": [[0.0, \"#0d0887\"], [0.1111111111111111, \"#46039f\"], [0.2222222222222222, \"#7201a8\"], [0.3333333333333333, \"#9c179e\"], [0.4444444444444444, \"#bd3786\"], [0.5555555555555556, \"#d8576b\"], [0.6666666666666666, \"#ed7953\"], [0.7777777777777778, \"#fb9f3a\"], [0.8888888888888888, \"#fdca26\"], [1.0, \"#f0f921\"]], \"type\": \"histogram2d\"}], \"histogram2dcontour\": [{\"colorbar\": {\"outlinewidth\": 0, \"ticks\": \"\"}, \"colorscale\": [[0.0, \"#0d0887\"], [0.1111111111111111, \"#46039f\"], [0.2222222222222222, \"#7201a8\"], [0.3333333333333333, \"#9c179e\"], [0.4444444444444444, \"#bd3786\"], [0.5555555555555556, \"#d8576b\"], [0.6666666666666666, \"#ed7953\"], [0.7777777777777778, \"#fb9f3a\"], [0.8888888888888888, \"#fdca26\"], [1.0, \"#f0f921\"]], \"type\": \"histogram2dcontour\"}], \"mesh3d\": [{\"colorbar\": {\"outlinewidth\": 0, \"ticks\": \"\"}, \"type\": \"mesh3d\"}], \"parcoords\": [{\"line\": {\"colorbar\": {\"outlinewidth\": 0, \"ticks\": \"\"}}, \"type\": \"parcoords\"}], \"pie\": [{\"automargin\": true, \"type\": \"pie\"}], \"scatter\": [{\"marker\": {\"colorbar\": {\"outlinewidth\": 0, \"ticks\": \"\"}}, \"type\": \"scatter\"}], \"scatter3d\": [{\"line\": {\"colorbar\": {\"outlinewidth\": 0, \"ticks\": \"\"}}, \"marker\": {\"colorbar\": {\"outlinewidth\": 0, \"ticks\": \"\"}}, \"type\": \"scatter3d\"}], \"scattercarpet\": [{\"marker\": {\"colorbar\": {\"outlinewidth\": 0, \"ticks\": \"\"}}, \"type\": \"scattercarpet\"}], \"scattergeo\": [{\"marker\": {\"colorbar\": {\"outlinewidth\": 0, \"ticks\": \"\"}}, \"type\": \"scattergeo\"}], \"scattergl\": [{\"marker\": {\"colorbar\": {\"outlinewidth\": 0, \"ticks\": \"\"}}, \"type\": \"scattergl\"}], \"scattermapbox\": [{\"marker\": {\"colorbar\": {\"outlinewidth\": 0, \"ticks\": \"\"}}, \"type\": \"scattermapbox\"}], \"scatterpolar\": [{\"marker\": {\"colorbar\": {\"outlinewidth\": 0, \"ticks\": \"\"}}, \"type\": \"scatterpolar\"}], \"scatterpolargl\": [{\"marker\": {\"colorbar\": {\"outlinewidth\": 0, \"ticks\": \"\"}}, \"type\": \"scatterpolargl\"}], \"scatterternary\": [{\"marker\": {\"colorbar\": {\"outlinewidth\": 0, \"ticks\": \"\"}}, \"type\": \"scatterternary\"}], \"surface\": [{\"colorbar\": {\"outlinewidth\": 0, \"ticks\": \"\"}, \"colorscale\": [[0.0, \"#0d0887\"], [0.1111111111111111, \"#46039f\"], [0.2222222222222222, \"#7201a8\"], [0.3333333333333333, \"#9c179e\"], [0.4444444444444444, \"#bd3786\"], [0.5555555555555556, \"#d8576b\"], [0.6666666666666666, \"#ed7953\"], [0.7777777777777778, \"#fb9f3a\"], [0.8888888888888888, \"#fdca26\"], [1.0, \"#f0f921\"]], \"type\": \"surface\"}], \"table\": [{\"cells\": {\"fill\": {\"color\": \"#EBF0F8\"}, \"line\": {\"color\": \"white\"}}, \"header\": {\"fill\": {\"color\": \"#C8D4E3\"}, \"line\": {\"color\": \"white\"}}, \"type\": \"table\"}]}, \"layout\": {\"annotationdefaults\": {\"arrowcolor\": \"#2a3f5f\", \"arrowhead\": 0, \"arrowwidth\": 1}, \"coloraxis\": {\"colorbar\": {\"outlinewidth\": 0, \"ticks\": \"\"}}, \"colorscale\": {\"diverging\": [[0, \"#8e0152\"], [0.1, \"#c51b7d\"], [0.2, \"#de77ae\"], [0.3, \"#f1b6da\"], [0.4, \"#fde0ef\"], [0.5, \"#f7f7f7\"], [0.6, \"#e6f5d0\"], [0.7, \"#b8e186\"], [0.8, \"#7fbc41\"], [0.9, \"#4d9221\"], [1, \"#276419\"]], \"sequential\": [[0.0, \"#0d0887\"], [0.1111111111111111, \"#46039f\"], [0.2222222222222222, \"#7201a8\"], [0.3333333333333333, \"#9c179e\"], [0.4444444444444444, \"#bd3786\"], [0.5555555555555556, \"#d8576b\"], [0.6666666666666666, \"#ed7953\"], [0.7777777777777778, \"#fb9f3a\"], [0.8888888888888888, \"#fdca26\"], [1.0, \"#f0f921\"]], \"sequentialminus\": [[0.0, \"#0d0887\"], [0.1111111111111111, \"#46039f\"], [0.2222222222222222, \"#7201a8\"], [0.3333333333333333, \"#9c179e\"], [0.4444444444444444, \"#bd3786\"], [0.5555555555555556, \"#d8576b\"], [0.6666666666666666, \"#ed7953\"], [0.7777777777777778, \"#fb9f3a\"], [0.8888888888888888, \"#fdca26\"], [1.0, \"#f0f921\"]]}, \"colorway\": [\"#636efa\", \"#EF553B\", \"#00cc96\", \"#ab63fa\", \"#FFA15A\", \"#19d3f3\", \"#FF6692\", \"#B6E880\", \"#FF97FF\", \"#FECB52\"], \"font\": {\"color\": \"#2a3f5f\"}, \"geo\": {\"bgcolor\": \"white\", \"lakecolor\": \"white\", \"landcolor\": \"#E5ECF6\", \"showlakes\": true, \"showland\": true, \"subunitcolor\": \"white\"}, \"hoverlabel\": {\"align\": \"left\"}, \"hovermode\": \"closest\", \"mapbox\": {\"style\": \"light\"}, \"paper_bgcolor\": \"white\", \"plot_bgcolor\": \"#E5ECF6\", \"polar\": {\"angularaxis\": {\"gridcolor\": \"white\", \"linecolor\": \"white\", \"ticks\": \"\"}, \"bgcolor\": \"#E5ECF6\", \"radialaxis\": {\"gridcolor\": \"white\", \"linecolor\": \"white\", \"ticks\": \"\"}}, \"scene\": {\"xaxis\": {\"backgroundcolor\": \"#E5ECF6\", \"gridcolor\": \"white\", \"gridwidth\": 2, \"linecolor\": \"white\", \"showbackground\": true, \"ticks\": \"\", \"zerolinecolor\": \"white\"}, \"yaxis\": {\"backgroundcolor\": \"#E5ECF6\", \"gridcolor\": \"white\", \"gridwidth\": 2, \"linecolor\": \"white\", \"showbackground\": true, \"ticks\": \"\", \"zerolinecolor\": \"white\"}, \"zaxis\": {\"backgroundcolor\": \"#E5ECF6\", \"gridcolor\": \"white\", \"gridwidth\": 2, \"linecolor\": \"white\", \"showbackground\": true, \"ticks\": \"\", \"zerolinecolor\": \"white\"}}, \"shapedefaults\": {\"line\": {\"color\": \"#2a3f5f\"}}, \"ternary\": {\"aaxis\": {\"gridcolor\": \"white\", \"linecolor\": \"white\", \"ticks\": \"\"}, \"baxis\": {\"gridcolor\": \"white\", \"linecolor\": \"white\", \"ticks\": \"\"}, \"bgcolor\": \"#E5ECF6\", \"caxis\": {\"gridcolor\": \"white\", \"linecolor\": \"white\", \"ticks\": \"\"}}, \"title\": {\"x\": 0.05}, \"xaxis\": {\"automargin\": true, \"gridcolor\": \"white\", \"linecolor\": \"white\", \"ticks\": \"\", \"title\": {\"standoff\": 15}, \"zerolinecolor\": \"white\", \"zerolinewidth\": 2}, \"yaxis\": {\"automargin\": true, \"gridcolor\": \"white\", \"linecolor\": \"white\", \"ticks\": \"\", \"title\": {\"standoff\": 15}, \"zerolinecolor\": \"white\", \"zerolinewidth\": 2}}}, \"title\": {\"text\": \"\"}},\n",
       "                        {\"responsive\": true}\n",
       "                    ).then(function(){\n",
       "                            \n",
       "var gd = document.getElementById('11bd9fc5-b974-4b34-8a86-22398da1ae54');\n",
       "var x = new MutationObserver(function (mutations, observer) {{\n",
       "        var display = window.getComputedStyle(gd).display;\n",
       "        if (!display || display === 'none') {{\n",
       "            console.log([gd, 'removed!']);\n",
       "            Plotly.purge(gd);\n",
       "            observer.disconnect();\n",
       "        }}\n",
       "}});\n",
       "\n",
       "// Listen for the removal of the full notebook cells\n",
       "var notebookContainer = gd.closest('#notebook-container');\n",
       "if (notebookContainer) {{\n",
       "    x.observe(notebookContainer, {childList: true});\n",
       "}}\n",
       "\n",
       "// Listen for the clearing of the current output cell\n",
       "var outputEl = gd.closest('.output');\n",
       "if (outputEl) {{\n",
       "    x.observe(outputEl, {childList: true});\n",
       "}}\n",
       "\n",
       "                        })\n",
       "                };\n",
       "                });\n",
       "            </script>\n",
       "        </div>"
      ]
     },
     "metadata": {},
     "output_type": "display_data"
    }
   ],
   "source": [
    "field_dict_20 = make_fields(myprotein_dict, channels = ['hyb'], bin_size=2.0,num_bins=30)\n",
    "plottable=plot_field_test(field_dict_20['hyb'],num_bins=30, show=False)\n",
    "plottable.show()"
   ]
  },
  {
   "cell_type": "code",
   "execution_count": 51,
   "metadata": {},
   "outputs": [
    {
     "data": {
      "text/plain": [
       "array([ 8,  9, 10, 11, 12, 13, 28, 29, 30, 31, 32, 33])"
      ]
     },
     "execution_count": 51,
     "metadata": {},
     "output_type": "execute_result"
    }
   ],
   "source": [
    "smarts_list = [\n",
    "                '[#6+0!$(*~[#7,#8,F]),SH0+0v2,s+0,S^3,Cl+0,Br+0,I+0]',\n",
    "                '[a]',\n",
    "                '[!$([#1,#6,F,Cl,Br,I,o,s,nX3,#7v5,#15v5,#16v4,#16v6,*+1,*+2,*+3])]',\n",
    "                '[!$([#6,H0,-,-2,-3]),$([!H0;#7,#8,#9])]',\n",
    "                '[r]'\n",
    "            ]\n",
    "\n",
    "smart_filters = np.array(['hydrophobic', 'aromatic', 'acceptor', 'donor',\n",
    "                             'ring'])\n",
    "\n",
    "channel = 'ring'\n",
    "# smarts_list[smart_filters==channel)]\n",
    "smarts_list_entry = smarts_list[np.int(np.where(smart_filters == channel)[0])]\n",
    "molecule = next(pybel.readfile('mol2', '1a1e_ligand.mol2'))\n",
    "pattern = pybel.Smarts(smarts_list_entry)\n",
    "atoms_with_prop = np.array(list(*zip(*pattern.findall(molecule))),\n",
    "                                       dtype=int) - 1\n",
    "atoms_with_prop"
   ]
  },
  {
   "cell_type": "code",
   "execution_count": 25,
   "metadata": {},
   "outputs": [
    {
     "data": {
      "text/plain": [
       "'mol2'"
      ]
     },
     "execution_count": 25,
     "metadata": {},
     "output_type": "execute_result"
    }
   ],
   "source": [
    "path = '../../PDBbind/test-set/1a1e/1a1e_ligand.mol2'\n",
    "file_type = path.split('.')[-1]\n",
    "file_type"
   ]
  },
  {
   "cell_type": "code",
   "execution_count": 220,
   "metadata": {
    "scrolled": true
   },
   "outputs": [
    {
     "name": "stdout",
     "output_type": "stream",
     "text": [
      "0\n"
     ]
    },
    {
     "data": {
      "text/plain": [
       "array([0.9632176 , 0.30720752, 0.79191016, 0.46121233, 0.93056033,\n",
       "       1.        , 0.31075971, 0.80818151, 0.76188839, 0.73496047,\n",
       "       0.73496047, 0.77552424, 0.77552424, 0.96035293, 0.52858944,\n",
       "       0.9168099 , 0.        , 0.        , 0.        , 0.46052481,\n",
       "       0.9141744 , 0.99633322, 0.31053054, 0.76143004, 0.76738856,\n",
       "       0.80245216, 0.1103472 , 0.1103472 , 0.45170162, 0.80130629,\n",
       "       0.80451472, 0.72544975, 0.70906382, 0.73885642, 0.70688667,\n",
       "       0.70161568, 0.69829265, 0.68752149, 0.81585883, 0.81585883,\n",
       "       0.81585883, 0.97834307, 0.85859975, 0.8292655 , 0.8292655 ,\n",
       "       0.84290134, 0.84290134, 0.84668271, 0.84668271, 0.9781139 ,\n",
       "       0.85413086, 0.80016042, 0.80016042, 0.81196287, 0.81196287,\n",
       "       0.82216111, 0.82216111, 0.82250487, 0.82250487, 0.79500401,\n",
       "       0.79500401, 0.79317062, 0.79317062, 0.79901455, 0.79317062,\n",
       "       0.79317062, 0.79271227, 0.79271227, 0.7924831 , 0.7924831 ,\n",
       "       0.78870173, 0.78870173, 0.78870173])"
      ]
     },
     "execution_count": 220,
     "metadata": {},
     "output_type": "execute_result"
    }
   ],
   "source": [
    "named_prop = np.array(['hyb', 'heavyvalence', 'heterovalence', 'partialcharge'])\n",
    "\n",
    "channel = 'partialcharge'\n",
    "\n",
    "print(index)\n",
    "prop = []\n",
    "for atom in pocket:\n",
    "    #atom.__getattribute__(prop)\n",
    "    prop.append(atom.__getattribute__(named_prop[np.int(np.where(named_prop == channel)[0])]))\n",
    "\n",
    "prop = np.array(prop)\n",
    "\n",
    "normalized_prop =  (prop-min(prop))/(max(prop)-min(prop))\n",
    "norm_prop = normalized_prop.reshape(73,1)\n",
    "normalized_prop"
   ]
  },
  {
   "cell_type": "code",
   "execution_count": 7,
   "metadata": {},
   "outputs": [],
   "source": [
    "\n",
    "\"\"\"\n",
    "This module contains functions to plot atomic density fields before\n",
    "they go into a model, as well as what the density fields have been\n",
    "transformed into at certain points within the model.\n",
    "\"\"\"\n",
    "import torch\n",
    "import numpy as np\n",
    "import pandas as pd\n",
    "import plotly.express as px\n",
    "#from cnns4qspr.featurizer import load_cnn\n",
    "\n",
    "def outer_block1_hook(module, input_, output):\n",
    "    global outer_block1_out\n",
    "    outer_block1_out = output\n",
    "\n",
    "\n",
    "def outer_block2_hook(module, input_, output):\n",
    "    global outer_block2_out\n",
    "    outer_block2_out = output\n",
    "\n",
    "\n",
    "def outer_block3_hook(module, input_, output):\n",
    "    global outer_block3_out\n",
    "    outer_block3_out = output\n",
    "\n",
    "\n",
    "def outer_block4_hook(module, input_, output):\n",
    "    global outer_block4_out\n",
    "    outer_block4_out = output\n",
    "\n",
    "\n",
    "def outer_block5_hook(module, input_, output):\n",
    "    global outer_block5_out\n",
    "    outer_block5_out = output\n",
    "\n",
    "def plot_field_test(\n",
    "        field,\n",
    "        num_bins=50,\n",
    "        color='deep',\n",
    "        threshold=0.2,\n",
    "        alpha=0.7,\n",
    "        show=True,\n",
    "        title=''):\n",
    "    \"\"\"\n",
    "    This function takes a tensorfield and plots the field density in 3D\n",
    "    space. The field describes an atomic \"density\" at each voxel.\n",
    "\n",
    "    Parameters:\n",
    "        field (pytorch tensor, required): A field from a field\n",
    "            dictionary that was output by\n",
    "            either `voxelize` or `make_fields`.\n",
    "\n",
    "        color (str, optional): The color scheme to plot the field. Any\n",
    "            of the Plotly continuous color schemes. 'deep' and 'ice_r'\n",
    "            are recommended as good baselines.\n",
    "\n",
    "        threshold (float, optional): The threshold intensity that a\n",
    "            voxel must have in order to be included in the plot.\n",
    "\n",
    "        alpha (float, optional): Amount of transparency to use in\n",
    "            plotted marks.\n",
    "\n",
    "        show (boolean, optional): Whether to show the plot. If false,\n",
    "            the plotly fig object is returned.\n",
    "\n",
    "    Returns:\n",
    "        plotly figure object: If show=False, a plotly figure object is\n",
    "        returned\n",
    "    \"\"\"\n",
    "    cube = field\n",
    "\n",
    "    cube /= cube.max()\n",
    "\n",
    "    cubelist = []\n",
    "    xval = np.linspace(-len(cube[0]) + 1, len(cube[0]) - 1, num_bins)\n",
    "    yval = np.linspace(-len(cube[0]) + 1, len(cube[0]) - 1, num_bins)\n",
    "    zval = np.linspace(-len(cube[0]) + 1, len(cube[0]) - 1, num_bins)\n",
    "\n",
    "    # make a dataframe of x,y,z,intensity for each point in the cube\n",
    "    # to do this have to loop through the cube\n",
    "    for i, xval2 in enumerate(xval):\n",
    "\n",
    "        for j, yval2 in enumerate(yval):\n",
    "\n",
    "            for k, zval2 in enumerate(zval):\n",
    "\n",
    "                cubelist.append([xval2, yval2, zval2, cube[i][j][k]])\n",
    "\n",
    "    cube_df = pd.DataFrame(cubelist, columns=['x', 'y', 'z', 'intensity'])\n",
    "\n",
    "    # only show the voxels with some intensity\n",
    "    cube_df = cube_df[cube_df['intensity'] > threshold]\n",
    "\n",
    "    fig = px.scatter_3d(cube_df, x='x', y='y', z='z',\n",
    "                        color='intensity', opacity=alpha,\n",
    "                        color_continuous_scale=color)\n",
    "    fig.update_layout(\n",
    "        scene=dict(\n",
    "            xaxis=dict(range=[-num_bins / 2.0, num_bins / 2.0]),\n",
    "            yaxis=dict(range=[-num_bins / 2.0, num_bins / 2.0]),\n",
    "            zaxis=dict(range=[-num_bins / 2.0, num_bins / 2.0])\n",
    "        ), title=title\n",
    "    )\n",
    "    if show:\n",
    "        fig.show()\n",
    "        figret = None\n",
    "    else:\n",
    "        figret = fig\n",
    "    return figret\n"
   ]
  },
  {
   "cell_type": "code",
   "execution_count": null,
   "metadata": {},
   "outputs": [],
   "source": []
  }
 ],
 "metadata": {
  "kernelspec": {
   "display_name": "cnns4qspr",
   "language": "python",
   "name": "cnns4qspr"
  },
  "language_info": {
   "codemirror_mode": {
    "name": "ipython",
    "version": 3
   },
   "file_extension": ".py",
   "mimetype": "text/x-python",
   "name": "python",
   "nbconvert_exporter": "python",
   "pygments_lexer": "ipython3",
   "version": "3.7.7"
  }
 },
 "nbformat": 4,
 "nbformat_minor": 4
}
